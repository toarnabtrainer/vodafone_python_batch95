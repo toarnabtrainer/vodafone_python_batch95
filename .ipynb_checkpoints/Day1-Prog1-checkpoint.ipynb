{
 "cells": [
  {
   "cell_type": "markdown",
   "id": "1c180b27-d3c8-41b9-9ff5-f8603589b8ff",
   "metadata": {},
   "source": [
    "<h1>Heading-1</h1>\n",
    "<h2>Heading-2</h2>\n",
    "<h3>Heading-3</h3>\n",
    "<h4>Heading-4</h4>\n",
    "<h5>Heading-5</h5>\n",
    "<h6>Heading-6</h6>"
   ]
  },
  {
   "cell_type": "markdown",
   "id": "86f7a105-45e7-486b-82e9-f13d9e13dedf",
   "metadata": {},
   "source": [
    "# Heading-1\n",
    "## Heading-2\n",
    "### Heading-3\n",
    "#### Heading-4\n",
    "##### Heading-5\n",
    "###### Heading-6"
   ]
  },
  {
   "cell_type": "markdown",
   "id": "ca7eb33d-9af6-4a3d-a88e-8a05cc2166bc",
   "metadata": {},
   "source": [
    "<b> This is a text in BOLD...</b>"
   ]
  },
  {
   "cell_type": "markdown",
   "id": "637b4b25-f318-4e3c-a74e-fdaf1fcf83d0",
   "metadata": {},
   "source": [
    "**This is a text in BOLD...**"
   ]
  },
  {
   "cell_type": "markdown",
   "id": "9089f6bc-c765-43a3-90de-8e099044eba8",
   "metadata": {},
   "source": [
    "### Inputs and Outputs"
   ]
  },
  {
   "cell_type": "code",
   "execution_count": 4,
   "id": "2e81029e-1805-4a64-9f05-3b389c4b1fc8",
   "metadata": {},
   "outputs": [
    {
     "name": "stdin",
     "output_type": "stream",
     "text": [
      "Please enter the first number:  100\n",
      "Please enter the second number:  300\n"
     ]
    },
    {
     "name": "stdout",
     "output_type": "stream",
     "text": [
      "100 <class 'str'> 300 <class 'str'>\n",
      "So the result is 100300\n",
      "End of the program...\n"
     ]
    }
   ],
   "source": [
    "num1 = input(\"Please enter the first number: \")\n",
    "num2 = input(\"Please enter the second number: \")\n",
    "print (num1, type(num1), num2, type(num2))\n",
    "result = num1 + num2\n",
    "print (\"So the result is\", result)\n",
    "print (\"End of the program...\")"
   ]
  },
  {
   "cell_type": "code",
   "execution_count": 5,
   "id": "c0d91836-f367-4264-82ab-70e554074123",
   "metadata": {},
   "outputs": [
    {
     "name": "stdin",
     "output_type": "stream",
     "text": [
      "Please enter the first number:  100\n",
      "Please enter the second number:  300\n"
     ]
    },
    {
     "name": "stdout",
     "output_type": "stream",
     "text": [
      "100 <class 'int'> 300 <class 'int'>\n",
      "So the result is 400\n",
      "End of the program...\n"
     ]
    }
   ],
   "source": [
    "num1 = int(input(\"Please enter the first number: \"))\n",
    "num2 = int(input(\"Please enter the second number: \"))\n",
    "print (num1, type(num1), num2, type(num2))\n",
    "result = num1 + num2\n",
    "print (\"So the result is\", result)\n",
    "print (\"End of the program...\")"
   ]
  },
  {
   "cell_type": "code",
   "execution_count": 8,
   "id": "3a09466e-daec-4261-a36a-1310c214c6de",
   "metadata": {},
   "outputs": [
    {
     "name": "stdin",
     "output_type": "stream",
     "text": [
      "Please enter the first number:  100\n",
      "Please enter the second number:  400\n"
     ]
    },
    {
     "name": "stdout",
     "output_type": "stream",
     "text": [
      "100 <class 'int'> 400 <class 'int'>\n"
     ]
    }
   ],
   "source": [
    "num1 = int(input(\"Please enter the first number: \"))\n",
    "num2 = int(input(\"Please enter the second number: \"))\n",
    "result = num1 + num2\n",
    "print (num1, type(num1), num2, type(num2))"
   ]
  },
  {
   "cell_type": "code",
   "execution_count": 26,
   "id": "93300764-1add-41ee-ba09-cd74ce9f9dea",
   "metadata": {},
   "outputs": [
    {
     "name": "stdout",
     "output_type": "stream",
     "text": [
      "So the sum of 100 + 400 = 500\n",
      "So the sum of 100 + 400 = 500\n",
      "So the sum of 100 + 400 = 500\n",
      "So the sum of 100 + 400 = 500\n",
      "So the sum of 100 + 400 = 500\n",
      "So the sum of 100 + 400 = 500\n",
      "So the sum of 100 + 400 = 500\n",
      "So the sum of 100 + 400 = 500\n",
      "So the sum of 100 + 400.000000 = 500\n",
      "So the sum of 100 +   400.00 = 500\n",
      "So the sum of 100 + 400 = 500\n"
     ]
    }
   ],
   "source": [
    "print (\"So the sum of\", num1, \"+\", num2, \"=\", result)\n",
    "print (\"So the sum of \" + str(num1) + \" + \" + str(num2) + \" = \" + str(result))\n",
    "print (\"So the sum of {} + {} = {}\".format(num1, num2, result))   # {} denotes place holder\n",
    "print (\"So the sum of {0} + {1} = {2}\".format(num1, num2, result))  # numbered place holder\n",
    "print (\"So the sum of {2} + {0} = {1}\".format(num2, result, num1))\n",
    "print (\"So the sum of {fnum} + {snum} = {tot}\".format(fnum = num1, snum = num2, tot = result))   # labeled placeholder\n",
    "print (\"So the sum of {fnum} + {snum} = {tot}\".format(snum = num2, fnum = num1, tot = result))\n",
    "print (\"So the sum of %d + %d = %d\"%(num1, num2, result))\n",
    "print (\"So the sum of %d + %f = %d\"%(num1, num2, result))\n",
    "print (\"So the sum of %d + %8.2f = %d\"%(num1, num2, result))\n",
    "print (f\"So the sum of {num1} + {num2} = {result}\")    # smart formatting"
   ]
  },
  {
   "cell_type": "code",
   "execution_count": 147,
   "id": "d6ce1b6b-bd9d-4a5c-abac-5d2b28cfdec8",
   "metadata": {},
   "outputs": [
    {
     "name": "stdin",
     "output_type": "stream",
     "text": [
      "Please enter your expression:  (10 * (30 + 40))\n"
     ]
    },
    {
     "name": "stdout",
     "output_type": "stream",
     "text": [
      "700\n"
     ]
    }
   ],
   "source": [
    "result = eval(input(\"Please enter your expression: \"))\n",
    "print (result)"
   ]
  },
  {
   "cell_type": "markdown",
   "id": "20ac0cea-a62c-4519-a102-136680c86500",
   "metadata": {},
   "source": [
    "### Operators"
   ]
  },
  {
   "cell_type": "code",
   "execution_count": 28,
   "id": "fe88e451-7820-44f0-8d23-7b9625da5a19",
   "metadata": {},
   "outputs": [
    {
     "name": "stdout",
     "output_type": "stream",
     "text": [
      "140\n",
      "60\n",
      "4000\n",
      "2.5\n",
      "2\n",
      "100000000\n",
      "20\n"
     ]
    }
   ],
   "source": [
    "# Arithmetic operators: + - * / // ** %\n",
    "print (100 + 40)    # addition\n",
    "print (100 - 40)    # subtraction\n",
    "print (100 * 40)    # multiplication\n",
    "print (100 / 40)    # float division\n",
    "print (100 // 40)   # integer division\n",
    "print (100 ** 4)    # exponentiation, a to the power of b\n",
    "print (100 % 40)    # modulus, remainder of the division"
   ]
  },
  {
   "cell_type": "code",
   "execution_count": 31,
   "id": "c9ec65cb-3848-4d0b-b1fd-a44e528f3300",
   "metadata": {},
   "outputs": [
    {
     "name": "stdout",
     "output_type": "stream",
     "text": [
      "True False False False\n",
      "True True True False\n",
      "False True\n"
     ]
    }
   ],
   "source": [
    "# logical operators: and or not\n",
    "print (True and True, True and False, False and True, False and False)   # True, False, None keywords starts with capital leters\n",
    "print (True or True, True or False, False or True, False or False)\n",
    "print (not True, not False)"
   ]
  },
  {
   "cell_type": "code",
   "execution_count": 32,
   "id": "9314ba33-8c0c-4c7b-86ba-24ad1f374538",
   "metadata": {},
   "outputs": [
    {
     "name": "stdout",
     "output_type": "stream",
     "text": [
      "True True True True True True\n"
     ]
    }
   ],
   "source": [
    "# Relational operators: > >= < <= != ==                -gt -ge -lt -le -ne -eq,    .gt. .ge. .lt. .le. .ne. .eq.\n",
    "print (100 > 50, 100 >= 100, 100 < 400, 100 <= 500, 100 != 200, 400 == 400)"
   ]
  },
  {
   "cell_type": "code",
   "execution_count": 49,
   "id": "9dbde855-202f-44f7-b88a-aa0954ea2e77",
   "metadata": {},
   "outputs": [
    {
     "name": "stdout",
     "output_type": "stream",
     "text": [
      "EVEN Number\n",
      "ODD Number\n"
     ]
    }
   ],
   "source": [
    "# Ternary operator:\n",
    "# Operator classifications: Unary (one operand), Binary (two operands) and Ternary (three operands)\n",
    "# Unary: +10 -20, Binary: 10 + 20, 30 * 4, Ternary: as shown below (True part, Condition and False part)\n",
    "num1 = 100\n",
    "result = \"EVEN Number\" if (num1 % 2 == 0) else \"ODD Number\"    # result = num1 % 2? \"True\": \"False\"   (in C, C++, Java)\n",
    "print (result)\n",
    "\n",
    "num1 = 101\n",
    "result = \"EVEN Number\" if (num1 % 2 == 0) else \"ODD Number\"\n",
    "print (result)"
   ]
  },
  {
   "cell_type": "code",
   "execution_count": 48,
   "id": "876fb628-8383-43bf-9b61-3f757e82da22",
   "metadata": {},
   "outputs": [
    {
     "name": "stdout",
     "output_type": "stream",
     "text": [
      "100\n",
      "110\n",
      "100\n",
      "1000\n",
      "1000000\n"
     ]
    }
   ],
   "source": [
    "# Assignment and special assignment operators: = += -= /= //= *= **= %=\n",
    "num1 = 100\n",
    "print (num1)\n",
    "num1 += 10\n",
    "print (num1)\n",
    "num1 -= 10\n",
    "print (num1)\n",
    "num1 *= 10\n",
    "print (num1)\n",
    "num1 **= 2\n",
    "print (num1)"
   ]
  },
  {
   "cell_type": "code",
   "execution_count": 46,
   "id": "16a37b68-8ff2-42d2-869d-39cc2746f074",
   "metadata": {},
   "outputs": [
    {
     "name": "stdout",
     "output_type": "stream",
     "text": [
      "A 65\n",
      "a 97\n"
     ]
    }
   ],
   "source": [
    "# Bitwise operators: & | ^ ~\n",
    "# A => 65 => 64 + 1      => 0100 0001\n",
    "#                        or 0010 0000 => 32  \n",
    "#                           ---------\n",
    "# a => 97 => 64 + 32 + 1 => 0110 0001\n",
    "mychar = 'A'\n",
    "print (mychar, ord(mychar))\n",
    "mychar = chr(ord(mychar) | 32)\n",
    "print (mychar, ord(mychar))"
   ]
  },
  {
   "cell_type": "code",
   "execution_count": 47,
   "id": "4b28780d-6bc2-4f33-8d45-e8da7a506679",
   "metadata": {},
   "outputs": [
    {
     "name": "stdout",
     "output_type": "stream",
     "text": [
      "a 97\n",
      "A 65\n"
     ]
    }
   ],
   "source": [
    "# Bitwise operators: & | ^ ~\n",
    "# a => 97 => 64 + 32 + 1 => 0110 0001\n",
    "#                       and 1101 1111 => 255 - 32 = 223\n",
    "#                           ---------\n",
    "# A => 65 => 64 + 1      => 0100 0001\n",
    "mychar = 'a'\n",
    "print (mychar, ord(mychar))\n",
    "mychar = chr(ord(mychar) & 223)\n",
    "print (mychar, ord(mychar))"
   ]
  },
  {
   "cell_type": "markdown",
   "id": "bd47f35d-ecbb-4cc7-977d-4db30361f01b",
   "metadata": {},
   "source": [
    "### ASCII Codes"
   ]
  },
  {
   "cell_type": "code",
   "execution_count": null,
   "id": "c8100163-382d-41db-9929-71a2703d14c6",
   "metadata": {},
   "outputs": [],
   "source": [
    "ASCII = > American Standard Code for Information Interchange (8 bits code or representation)\n",
    "So ASCII codes can have the value ranging from 0 to 255 (2^8 - 1)\n",
    "ASCII codes can be divided into two categories:\n",
    "    1) Normal ASCII Codes (Printable): 0 to 127\n",
    "    2) Extended ASCII Codes (Non-Printable): 128 to 255 (These ASCII codes can be used for control characters)\n",
    "a => 97, b => 98, ..., z => 122\n",
    "A => 65, B => 66, ..., Z => 90\n",
    "0 => 48, 1 => 49, ..., 9 => 57\n",
    "Tab => 8, Back Space => 9, Enter => 13, Esc => 27, Space Bar => 32 and so on."
   ]
  },
  {
   "cell_type": "code",
   "execution_count": 42,
   "id": "c03bb485-4d39-420f-874e-c7344dee8303",
   "metadata": {},
   "outputs": [
    {
     "name": "stdout",
     "output_type": "stream",
     "text": [
      "A B Z a b z\n",
      "65 66 90 97 98 122\n"
     ]
    }
   ],
   "source": [
    "# two functions to deal with ASCII codes: chr(), ord()\n",
    "print (chr(65), chr(66), chr(90), chr(97), chr(98), chr(122))\n",
    "print (ord(\"A\"), ord(\"B\"), ord(\"Z\"), ord(\"a\"), ord(\"b\"), ord(\"z\"))"
   ]
  },
  {
   "cell_type": "markdown",
   "id": "01ac6d1a-5f4d-4f4e-b45f-557ec8c98c06",
   "metadata": {},
   "source": [
    "### Conditional Statements"
   ]
  },
  {
   "cell_type": "code",
   "execution_count": 62,
   "id": "98edb903-e424-4ebc-9ee5-a3b2217633a8",
   "metadata": {},
   "outputs": [
    {
     "name": "stdin",
     "output_type": "stream",
     "text": [
      "Please enter the first number:  100\n",
      "Please enter the second number:  300\n",
      "Please enter the third number:  200\n"
     ]
    },
    {
     "name": "stdout",
     "output_type": "stream",
     "text": [
      "The second number is the maximum number...\n",
      "The maximum number is 300\n",
      "End of the program...\n"
     ]
    }
   ],
   "source": [
    "# Problem Statement: Take three numbers from the keyboard as input and find the maximum of them and print the maximum number.\n",
    "num1 = int(input(\"Please enter the first number: \"))\n",
    "num2 = int(input(\"Please enter the second number: \"))\n",
    "num3 = int(input(\"Please enter the third number: \"))\n",
    "if (num1 > num2):\n",
    "    if (num1 > num3):\n",
    "        print (\"The first number is the maximum number...\")\n",
    "        print (\"The maximum number is\", num1)\n",
    "    else:\n",
    "        print (\"The third number is the maximum number...\")\n",
    "        print (\"The maximum number is\", num3)\n",
    "elif (num2 > num3):\n",
    "    print (\"The second number is the maximum number...\")\n",
    "    print (\"The maximum number is\", num2)\n",
    "else:\n",
    "    print (\"The third number is the maximum number...\")\n",
    "    print (\"The maximum number is\", num3)\n",
    "print (\"End of the program...\")"
   ]
  },
  {
   "cell_type": "code",
   "execution_count": 65,
   "id": "fc2cdcfe-74b6-4f4b-99a7-4fe06e8b06a9",
   "metadata": {},
   "outputs": [
    {
     "name": "stdin",
     "output_type": "stream",
     "text": [
      "Please enter the first number:  300\n",
      "Please enter the second number:  200\n",
      "Please enter the third number:  100\n"
     ]
    },
    {
     "name": "stdout",
     "output_type": "stream",
     "text": [
      "The first number is the maximum number...\n",
      "The maximum number is 300\n",
      "End of the program...\n"
     ]
    }
   ],
   "source": [
    "# Problem Statement: Take three numbers from the keyboard as input and find the maximum of them and print the maximum number.\n",
    "num1 = int(input(\"Please enter the first number: \"))\n",
    "num2 = int(input(\"Please enter the second number: \"))\n",
    "num3 = int(input(\"Please enter the third number: \"))\n",
    "if (num1 >= num2 and num1 >= num3):\n",
    "    print (\"The first number is the maximum number...\")\n",
    "    print (\"The maximum number is\", num1)\n",
    "elif (num2 > num3):\n",
    "    print (\"The second number is the maximum number...\")\n",
    "    print (\"The maximum number is\", num2)\n",
    "else:\n",
    "    print (\"The third number is the maximum number...\")\n",
    "    print (\"The maximum number is\", num3)\n",
    "print (\"End of the program...\")"
   ]
  },
  {
   "cell_type": "code",
   "execution_count": 125,
   "id": "ec9c381b-1bf3-4883-ae3a-678c43685990",
   "metadata": {},
   "outputs": [
    {
     "name": "stdout",
     "output_type": "stream",
     "text": [
      "This is an EVEN number...\n",
      "EVEN numbers are divisible by 2...\n",
      "\n",
      "This is an ODD number...\n",
      "ODD numbers are not divisible by 2...\n"
     ]
    }
   ],
   "source": [
    "num1 = 100;\n",
    "if (num1 % 2 == 0):\n",
    "    print (\"This is an EVEN number...\");\n",
    "    print (\"EVEN numbers are divisible by 2...\");\n",
    "else:\n",
    "    print (\"This is an ODD number...\");\n",
    "    print (\"ODD numbers are not divisible by 2...\");\n",
    "    \n",
    "print()    \n",
    "num1 = 101\n",
    "if (num1 % 2 == 0):\n",
    "    print (\"This is an EVEN number...\")\n",
    "    print (\"EVEN numbers are divisible by 2...\")\n",
    "else:\n",
    "    print (\"This is an ODD number...\")\n",
    "    print (\"ODD numbers are not divisible by 2...\")"
   ]
  },
  {
   "cell_type": "code",
   "execution_count": 131,
   "id": "2b5603d4-92b3-4827-9861-a797b9609b84",
   "metadata": {},
   "outputs": [
    {
     "name": "stdout",
     "output_type": "stream",
     "text": [
      "This is an EVEN number...\n",
      "EVEN numbers are divisible by 2...\n",
      "\n",
      "This is an ODD number...\n",
      "ODD numbers are not divisible by 2...\n"
     ]
    }
   ],
   "source": [
    "num1 = 100\n",
    "if (num1 % 2 == 0): print (\"This is an EVEN number...\"); print (\"EVEN numbers are divisible by 2...\")\n",
    "else: print (\"This is an ODD number...\"); print (\"ODD numbers are not divisible by 2...\")\n",
    "    \n",
    "print()    \n",
    "num1 = 101\n",
    "if (num1 % 2 == 0): print (\"This is an EVEN number...\"); print (\"EVEN numbers are divisible by 2...\")\n",
    "else: print (\"This is an ODD number...\"); print (\"ODD numbers are not divisible by 2...\")"
   ]
  },
  {
   "cell_type": "code",
   "execution_count": 149,
   "id": "e83f09f4-929f-4fd7-8658-acb01b8939bd",
   "metadata": {},
   "outputs": [
    {
     "name": "stdout",
     "output_type": "stream",
     "text": [
      "5\n",
      "7\n"
     ]
    }
   ],
   "source": [
    "result = ((5, 7)[5 > 7])\n",
    "print (result)\n",
    "\n",
    "result = ((5, 7)[55 > 7])\n",
    "print (result)"
   ]
  },
  {
   "cell_type": "markdown",
   "id": "a503dbc9-2b6f-4d00-9b57-14f1137af58a",
   "metadata": {},
   "source": [
    "### Misc. Concepts"
   ]
  },
  {
   "cell_type": "code",
   "execution_count": null,
   "id": "0735211c-5f4f-4daa-ba77-8545846073e7",
   "metadata": {},
   "outputs": [],
   "source": [
    "Variables initialized with any one of the values ranging from -5 to 256 (inclusive) will generate same id for same values"
   ]
  },
  {
   "cell_type": "code",
   "execution_count": 72,
   "id": "c70bc3ab-3caa-4095-a30c-706a25f84ce4",
   "metadata": {},
   "outputs": [
    {
     "name": "stdout",
     "output_type": "stream",
     "text": [
      "256 <class 'int'> 140729659377424\n",
      "256 <class 'int'> 140729659377424\n",
      "256 <class 'int'> 140729659377424\n"
     ]
    }
   ],
   "source": [
    "num1 = 256\n",
    "print (num1, type(num1), id(num1))\n",
    "num2 = 256\n",
    "print (num2, type(num2), id(num2))\n",
    "num3 = num1\n",
    "print (num3, type(num3), id(num3))"
   ]
  },
  {
   "cell_type": "code",
   "execution_count": 74,
   "id": "1350def4-781b-40e2-a1db-62d026b35ed5",
   "metadata": {},
   "outputs": [
    {
     "name": "stdout",
     "output_type": "stream",
     "text": [
      "257 <class 'int'> 2051892168272\n",
      "257 <class 'int'> 2051892170512\n",
      "257 <class 'int'> 2051892168272\n",
      "257 <class 'int'> 2051899705296\n"
     ]
    }
   ],
   "source": [
    "num1 = 257\n",
    "print (num1, type(num1), id(num1))\n",
    "num2 = 257\n",
    "print (num2, type(num2), id(num2))\n",
    "num3 = num1\n",
    "print (num3, type(num3), id(num3))\n",
    "num4 = 257\n",
    "print (num4, type(num4), id(num4))"
   ]
  },
  {
   "cell_type": "code",
   "execution_count": 75,
   "id": "adebc5fd-658a-4430-b845-9e5c239e86a7",
   "metadata": {},
   "outputs": [
    {
     "name": "stdout",
     "output_type": "stream",
     "text": [
      "-5 <class 'int'> 140729659369072\n",
      "-5 <class 'int'> 140729659369072\n",
      "-5 <class 'int'> 140729659369072\n"
     ]
    }
   ],
   "source": [
    "num1 = -5\n",
    "print (num1, type(num1), id(num1))\n",
    "num2 = -5\n",
    "print (num2, type(num2), id(num2))\n",
    "num3 = num1\n",
    "print (num3, type(num3), id(num3))"
   ]
  },
  {
   "cell_type": "code",
   "execution_count": 78,
   "id": "d84db19e-c9ca-4165-8532-c4ed78ab3530",
   "metadata": {},
   "outputs": [
    {
     "name": "stdout",
     "output_type": "stream",
     "text": [
      "-6 <class 'int'> 2051899704720\n",
      "-6 <class 'int'> 2051899705296\n",
      "-6 <class 'int'> 2051899704720\n",
      "-6 <class 'int'> 2051899704560\n"
     ]
    }
   ],
   "source": [
    "num1 = -6\n",
    "print (num1, type(num1), id(num1))\n",
    "num2 = -6\n",
    "print (num2, type(num2), id(num2))\n",
    "num3 = num1\n",
    "print (num3, type(num3), id(num3))\n",
    "num4 = -6\n",
    "print (num4, type(num4), id(num4))"
   ]
  },
  {
   "cell_type": "code",
   "execution_count": 83,
   "id": "a9025978-50ab-4ccf-a766-a460b0752d6a",
   "metadata": {},
   "outputs": [
    {
     "name": "stdout",
     "output_type": "stream",
     "text": [
      "Hello to all of you\n",
      "Welcome\n"
     ]
    }
   ],
   "source": [
    "print (\"Hello\", \"to\", \"all\", \"of\", \"you\")\n",
    "print (\"Welcome\")"
   ]
  },
  {
   "cell_type": "code",
   "execution_count": 80,
   "id": "cc8ec5c6-a751-4d90-80a3-c3ef3c650aef",
   "metadata": {},
   "outputs": [
    {
     "name": "stdout",
     "output_type": "stream",
     "text": [
      "Help on built-in function print in module builtins:\n",
      "\n",
      "print(...)\n",
      "    print(value, ..., sep=' ', end='\\n', file=sys.stdout, flush=False)\n",
      "    \n",
      "    Prints the values to a stream, or to sys.stdout by default.\n",
      "    Optional keyword arguments:\n",
      "    file:  a file-like object (stream); defaults to the current sys.stdout.\n",
      "    sep:   string inserted between values, default a space.\n",
      "    end:   string appended after the last value, default a newline.\n",
      "    flush: whether to forcibly flush the stream.\n",
      "\n"
     ]
    }
   ],
   "source": [
    "help(print)  # ellipsis operator is (...)"
   ]
  },
  {
   "cell_type": "code",
   "execution_count": 86,
   "id": "c1e2756a-1eda-477e-9307-ed633ec0b2a8",
   "metadata": {},
   "outputs": [
    {
     "name": "stdout",
     "output_type": "stream",
     "text": [
      "Hello, to, all, of, you\n",
      "Welcome\n"
     ]
    }
   ],
   "source": [
    "print (\"Hello\", \"to\", \"all\", \"of\", \"you\", sep = \", \")\n",
    "print (\"Welcome\")"
   ]
  },
  {
   "cell_type": "code",
   "execution_count": 88,
   "id": "ee7ad866-4720-4812-add5-ea14698a3927",
   "metadata": {},
   "outputs": [
    {
     "name": "stdout",
     "output_type": "stream",
     "text": [
      "Hello, to, all, of, you - Welcome\n"
     ]
    }
   ],
   "source": [
    "print (\"Hello\", \"to\", \"all\", \"of\", \"you\", sep = \", \", end = \" - \")\n",
    "print (\"Welcome\")"
   ]
  },
  {
   "cell_type": "code",
   "execution_count": 97,
   "id": "8b3f691c-325e-4346-8b0b-06fbcecd212b",
   "metadata": {},
   "outputs": [
    {
     "name": "stdout",
     "output_type": "stream",
     "text": [
      "Hello Hello Hello Hello Hello \n",
      "Welcome Welcome Welcome Welcome Welcome Welcome Welcome \n"
     ]
    }
   ],
   "source": [
    "print (\"Hello \" * 5)\n",
    "print ('Welcome ' * 7)"
   ]
  },
  {
   "cell_type": "code",
   "execution_count": 95,
   "id": "e1f4ac1f-1fa6-4311-9df1-f299ea157403",
   "metadata": {},
   "outputs": [
    {
     "name": "stdout",
     "output_type": "stream",
     "text": [
      "100 <class 'int'> 140729659372432\n",
      "Celebration <class 'str'> 2051886709872\n",
      "1234.56 <class 'float'> 2051899706416\n",
      "True <class 'bool'> 140729659086672\n"
     ]
    }
   ],
   "source": [
    "# python supports variant datatype for variables, depending upon the value got assigned to the variable will decide the datatype\n",
    "var1 = 100\n",
    "print (var1, type(var1), id(var1))\n",
    "var1 = \"Celebration\"\n",
    "print (var1, type(var1), id(var1))\n",
    "var1 = 1234.56\n",
    "print (var1, type(var1), id(var1))\n",
    "var1 = True\n",
    "print (var1, type(var1), id(var1))"
   ]
  },
  {
   "cell_type": "code",
   "execution_count": 103,
   "id": "0e410b7a-8231-4db4-b8cd-846030f07356",
   "metadata": {},
   "outputs": [
    {
     "name": "stdout",
     "output_type": "stream",
     "text": [
      "[1001, 'Amit', 'Male', 'Developer', 30000.55, True] 6 <class 'list'> 2051885903808\n",
      "(1001, 'Amit', 'Male', 'Developer', 30000.55, True) 6 <class 'tuple'> 2051889094176\n",
      "{'empid': 1001, 'empname': 'Amit', 'empgender': 'Male', 'empjob': 'Developer', 'empsal': 30000.55, 'empmarried': True} 6 <class 'dict'> 2051886834368\n",
      "{True, 1001, 30000.55, 'Developer', 'Male', 'Amit'} 6 <class 'set'> 2051895477184\n",
      "frozenset({True, 1001, 30000.55, 'Developer', 'Male', 'Amit'}) 6 <class 'frozenset'> 2051895476736\n"
     ]
    }
   ],
   "source": [
    "# inbuilt collection classes and implicit objects\n",
    "var1 = [1001, \"Amit\", \"Male\", \"Developer\", 30000.55, True]\n",
    "print (var1, len(var1), type(var1), id(var1))\n",
    "var1 = (1001, \"Amit\", \"Male\", \"Developer\", 30000.55, True)\n",
    "print (var1, len(var1), type(var1), id(var1))\n",
    "var1 = {\"empid\":1001, \"empname\":\"Amit\", \"empgender\":\"Male\", \"empjob\":\"Developer\", \"empsal\":30000.55, \"empmarried\":True}\n",
    "print (var1, len(var1), type(var1), id(var1))\n",
    "var1 = {1001, \"Amit\", \"Male\", \"Developer\", 1001, \"Amit\", \"Male\", \"Developer\", 30000.55, True}\n",
    "print (var1, len(var1), type(var1), id(var1))\n",
    "var1 = frozenset([1001, \"Amit\", \"Male\", \"Developer\", 1001, \"Amit\", \"Male\", \"Developer\", 30000.55, True])\n",
    "print (var1, len(var1), type(var1), id(var1))"
   ]
  },
  {
   "cell_type": "markdown",
   "id": "77cd291a-1c47-4c56-91f8-b8b7a521044d",
   "metadata": {},
   "source": [
    "### Loop Constructs"
   ]
  },
  {
   "cell_type": "code",
   "execution_count": 113,
   "id": "d8b436f8-89e9-4c17-9ede-8fe5fc916ba9",
   "metadata": {},
   "outputs": [
    {
     "name": "stdout",
     "output_type": "stream",
     "text": [
      "0, 1, 2, 3, 4, 5, 6, 7, 8, 9, \n",
      "Loop got executed successfully...\n",
      "0, 1, 2, 3, 4, 5, 6, 7, 8, 9, \n",
      "Loop got executed successfully...\n",
      "0, 1, 2, 3, 4, 5, 6, 7, 8, 9, \n",
      "Loop got executed successfully...\n",
      "-10, -9, -8, -7, -6, -5, -4, -3, -2, -1, \n",
      "Loop got executed successfully...\n",
      "1, 3, 5, 7, 9, \n",
      "Loop got executed successfully...\n"
     ]
    }
   ],
   "source": [
    "for i in range(10):\n",
    "    print (i, end = \", \")\n",
    "else:\n",
    "    print (\"\\nLoop got executed successfully...\")\n",
    "\n",
    "for i in range(0, 10):\n",
    "    print (i, end = \", \")\n",
    "else:\n",
    "    print (\"\\nLoop got executed successfully...\")\n",
    "\n",
    "for i in range(0, 10, 1):\n",
    "    print (i, end = \", \")\n",
    "else:\n",
    "    print (\"\\nLoop got executed successfully...\")\n",
    "\n",
    "for i in range(-10, 0, 1):\n",
    "    print (i, end = \", \")\n",
    "else:\n",
    "    print (\"\\nLoop got executed successfully...\")\n",
    "    \n",
    "for i in range(1, 10, 2):\n",
    "    print (i, end = \", \")\n",
    "else:\n",
    "    print (\"\\nLoop got executed successfully...\")"
   ]
  },
  {
   "cell_type": "code",
   "execution_count": 118,
   "id": "b8a2e0ec-006e-4ff2-a2c8-61cfcb86d624",
   "metadata": {},
   "outputs": [
    {
     "name": "stdout",
     "output_type": "stream",
     "text": [
      "0, 1, 2, 3, 4, 5, \n",
      "End of the program...\n"
     ]
    }
   ],
   "source": [
    "# break continue and pass statements\n",
    "# using the break statement\n",
    "for i in range(10):\n",
    "    print (i, end = \", \")\n",
    "    if (i == 5): break\n",
    "else:\n",
    "    print (\"\\nLoop got executed successfully...\")\n",
    "print (\"\\nEnd of the program...\")"
   ]
  },
  {
   "cell_type": "code",
   "execution_count": 120,
   "id": "58ea1dbb-d3ca-47e1-a7c0-07a8ffc42e16",
   "metadata": {},
   "outputs": [
    {
     "name": "stdout",
     "output_type": "stream",
     "text": [
      "i = 0\n",
      "i = 1\n",
      "i = 2\n",
      "i = 3\n",
      "i = 4\n",
      "Continuing the loop...\n",
      "i = 6\n",
      "Continuing the loop...\n",
      "Continuing the loop...\n",
      "i = 9\n",
      "Loop got executed successfully...\n",
      "End of the program...\n"
     ]
    }
   ],
   "source": [
    "# break continue and pass statements\n",
    "# using the continue statement\n",
    "for i in range(10):\n",
    "    if (i == 5 or i == 7 or i == 8): \n",
    "        print (\"Continuing the loop...\")\n",
    "        continue\n",
    "    print (\"i =\", i)\n",
    "else:\n",
    "    print (\"Loop got executed successfully...\")\n",
    "print (\"End of the program...\")"
   ]
  },
  {
   "cell_type": "code",
   "execution_count": 134,
   "id": "4f6d8714-ba62-48a2-8534-1a1eabc1fbd9",
   "metadata": {},
   "outputs": [
    {
     "name": "stdout",
     "output_type": "stream",
     "text": [
      "This is an ODD number...\n",
      "ODD numbers are not divisible by 2...\n"
     ]
    }
   ],
   "source": [
    "num1 = 100\n",
    "if (num1 % 2 == 0):\n",
    "    pass      # pass does nothing, pass is a statement placeholder\n",
    "else:\n",
    "    print (\"This is an ODD number...\")\n",
    "    print (\"ODD numbers are not divisible by 2...\")\n",
    "\n",
    "num1 = 101\n",
    "if (num1 % 2 == 0):\n",
    "    pass      # pass does nothing, pass is a statement placeholder\n",
    "else:\n",
    "    print (\"This is an ODD number...\")\n",
    "    print (\"ODD numbers are not divisible by 2...\")"
   ]
  },
  {
   "cell_type": "code",
   "execution_count": 135,
   "id": "67f886a1-7522-4e09-9a1d-654c375fc4a9",
   "metadata": {},
   "outputs": [
    {
     "name": "stdout",
     "output_type": "stream",
     "text": [
      "1, 2, 3, 4, 5, \n",
      "End of the program...\n"
     ]
    }
   ],
   "source": [
    "# using the break statement in while block\n",
    "i = 1\n",
    "while (i <= 10):\n",
    "    print (i, end = \", \")\n",
    "    if (i == 5): break\n",
    "    i = i + 1\n",
    "else:\n",
    "    print (\"\\nLoop got executed successfully...\")\n",
    "print (\"\\nEnd of the program...\")"
   ]
  },
  {
   "cell_type": "code",
   "execution_count": 136,
   "id": "3fdd11df-1c88-4007-b1ef-9575202d318a",
   "metadata": {},
   "outputs": [
    {
     "name": "stdout",
     "output_type": "stream",
     "text": [
      "i = 1\n",
      "i = 2\n",
      "i = 3\n",
      "i = 4\n",
      "Continuing the loop...\n",
      "i = 6\n",
      "Continuing the loop...\n",
      "Continuing the loop...\n",
      "i = 9\n",
      "i = 10\n",
      "Loop got executed successfully...\n",
      "End of the program...\n"
     ]
    }
   ],
   "source": [
    "# using the continue statement in while block\n",
    "i = 1\n",
    "while (i <= 10):\n",
    "    if (i == 5 or i == 7 or i == 8): \n",
    "        print (\"Continuing the loop...\")\n",
    "        i += 1\n",
    "        continue\n",
    "    print (\"i =\", i)\n",
    "    i += 1\n",
    "else:\n",
    "    print (\"Loop got executed successfully...\")\n",
    "print (\"End of the program...\")"
   ]
  },
  {
   "cell_type": "code",
   "execution_count": 139,
   "id": "fef4640f-0d08-4d22-8bfd-73c547eb0135",
   "metadata": {},
   "outputs": [
    {
     "name": "stdout",
     "output_type": "stream",
     "text": [
      "Visit Doctor...\n",
      "Good morning to my Family Members...\n",
      "Day No. = 1 and Medicine No. = 1...\n",
      "Day No. = 1 and Medicine No. = 2...\n",
      "Day No. = 1 and Medicine No. = 3...\n",
      "Good night to my Family Members...\n",
      "---------------------------------------------\n",
      "Good morning to my Family Members...\n",
      "Day No. = 2 and Medicine No. = 1...\n",
      "Day No. = 2 and Medicine No. = 2...\n",
      "Day No. = 2 and Medicine No. = 3...\n",
      "Good night to my Family Members...\n",
      "---------------------------------------------\n",
      "Good morning to my Family Members...\n",
      "Day No. = 3 and Medicine No. = 1...\n",
      "Day No. = 3 and Medicine No. = 2...\n",
      "Day No. = 3 and Medicine No. = 3...\n",
      "Good night to my Family Members...\n",
      "---------------------------------------------\n",
      "Good morning to my Family Members...\n",
      "Day No. = 4 and Medicine No. = 1...\n",
      "Day No. = 4 and Medicine No. = 2...\n",
      "Day No. = 4 and Medicine No. = 3...\n",
      "Good night to my Family Members...\n",
      "---------------------------------------------\n",
      "Good morning to my Family Members...\n",
      "Day No. = 5 and Medicine No. = 1...\n",
      "Day No. = 5 and Medicine No. = 2...\n",
      "Day No. = 5 and Medicine No. = 3...\n",
      "Good night to my Family Members...\n",
      "---------------------------------------------\n",
      "Thanks to Doctor...\n",
      "Total number of medicine consumed is 15...\n",
      "End of the story...\n"
     ]
    }
   ],
   "source": [
    "# example of nested loop\n",
    "print (\"Visit Doctor...\")    # 1 time\n",
    "day = 1\n",
    "medicount = 0\n",
    "while (day <= 5):\n",
    "    print (\"Good morning to my Family Members...\")     # 5 times\n",
    "    for medi in range(1, 4):\n",
    "        print (f\"Day No. = {day} and Medicine No. = {medi}...\")     # 15 times\n",
    "        medicount += 1\n",
    "    print (\"Good night to my Family Members...\")     # 5 times\n",
    "    print (\"---------------------------------------------\")     # 5 times\n",
    "    day += 1\n",
    "print (\"Thanks to Doctor...\")\n",
    "print (f\"Total number of medicine consumed is {medicount}...\")\n",
    "print (\"End of the story...\")"
   ]
  },
  {
   "cell_type": "markdown",
   "id": "b50c5a04-557c-41a2-b776-a8fa6e73e46d",
   "metadata": {},
   "source": [
    "### Class Assignment - 1\n",
    "**Find the sum of the following series for the first n number of terms, where this n will be given by the user.**\n",
    "\n",
    "**total = 1 + 2 + 3 + 4 + 10 + 5 + 6 + 7 + 8 + 26 + 9 + 10 + ... n terms**\n",
    "> Also find the 99th term of the series. <br>\n",
    "> For n = 5, then total = 20 <br>\n",
    "> For n = 7, then total = 31 <br>\n",
    "> For n = 10, then total = 72 <br>"
   ]
  },
  {
   "cell_type": "markdown",
   "id": "1a0603d3-65a8-49c3-84f6-12bd1bc3a945",
   "metadata": {},
   "source": [
    "Algorithm for the Series Problem:\n",
    "---------------------------------\n",
    "input n\n",
    "fsum = tsum = 0\n",
    "term = 1\n",
    "for i = 1 to n\n",
    "    if (i % 5 == 0) then\n",
    "        fsum = fsum + tsum\n",
    "        tsum = 0\n",
    "    else\n",
    "        fsum = fsum + term\n",
    "        tsum = tsum + term\n",
    "        term = term + 1\n",
    "    end if\n",
    "end for\n",
    "print \"So the final sum of the series is\", fsum"
   ]
  },
  {
   "cell_type": "code",
   "execution_count": 142,
   "id": "a129db5b-f026-4d89-9ec5-80fd4f61bfef",
   "metadata": {},
   "outputs": [
    {
     "name": "stdin",
     "output_type": "stream",
     "text": [
      "Please enter the number of terms of the series:  12\n"
     ]
    },
    {
     "name": "stdout",
     "output_type": "stream",
     "text": [
      "Adding the term 1\n",
      "Adding the term 2\n",
      "Adding the term 3\n",
      "Adding the term 4\n",
      "Adding the temporary sum term 10\n",
      "Adding the term 5\n",
      "Adding the term 6\n",
      "Adding the term 7\n",
      "Adding the term 8\n",
      "Adding the temporary sum term 26\n",
      "Adding the term 9\n",
      "Adding the term 10\n",
      "So the final sum of the series is 91\n",
      "End of the program...\n"
     ]
    }
   ],
   "source": [
    "# Python code\n",
    "n = int(input(\"Please enter the number of terms of the series: \"))\n",
    "fsum = tsum = 0\n",
    "term = 1\n",
    "for i in range(1, n + 1):\n",
    "    if (i % 5 == 0):\n",
    "        fsum = fsum + tsum\n",
    "        print (\"Adding the temporary sum term\", tsum)\n",
    "        tsum = 0\n",
    "    else:\n",
    "        fsum = fsum + term\n",
    "        print (\"Adding the term\", term)\n",
    "        tsum = tsum + term\n",
    "        term = term + 1\n",
    "print (\"So the final sum of the series is\", fsum)\n",
    "print (\"End of the program...\")"
   ]
  },
  {
   "cell_type": "code",
   "execution_count": null,
   "id": "d932b594-ee70-4605-a214-9e4e996d2ba5",
   "metadata": {},
   "outputs": [],
   "source": [
    "Pattern Printing - 1\n",
    "--------------------\n",
    "n = 6            i    .    *\n",
    "               ---------------\n",
    ".....*           1    5    1         (i, n)\n",
    "....***          2    4    3    . => (n - i)\n",
    "...*****         3    3    5\n",
    "..*******        4    2    7    * => (2 * i - 1)\n",
    ".*********       5    1    9\n",
    "***********      6    0   11\n",
    "               ---------------\n",
    "               Tracing Table"
   ]
  },
  {
   "cell_type": "code",
   "execution_count": 144,
   "id": "7352f58e-c14f-4ab7-b6b8-abb8a9e64092",
   "metadata": {},
   "outputs": [
    {
     "name": "stdin",
     "output_type": "stream",
     "text": [
      "Please enter the number of layers:  7\n"
     ]
    },
    {
     "name": "stdout",
     "output_type": "stream",
     "text": [
      "......*\n",
      ".....***\n",
      "....*****\n",
      "...*******\n",
      "..*********\n",
      ".***********\n",
      "*************\n",
      "End of the program...\n"
     ]
    }
   ],
   "source": [
    "n = int(input(\"Please enter the number of layers: \"))\n",
    "for i in range(1, n + 1):\n",
    "    print (\".\" * (n - i) + \"*\" * (2 * i - 1))\n",
    "print (\"End of the program...\")"
   ]
  },
  {
   "cell_type": "code",
   "execution_count": null,
   "id": "78bde712-0c36-4d93-a534-32ceabc93cb5",
   "metadata": {},
   "outputs": [],
   "source": [
    "Pattern Printing - 2\n",
    "--------------------\n",
    "n = 6            i    .    *\n",
    "               ---------------\n",
    "***********      1    0   11         (i, n)\n",
    ".*********       2    1    9    . => (i - 1)\n",
    "..*******        3    2    7\n",
    "...*****         4    3    5    * => (2 * (n - i) + 1)\n",
    "....***          5    4    3\n",
    ".....*           6    5    1\n",
    "               ---------------\n",
    "               Tracing Table"
   ]
  },
  {
   "cell_type": "code",
   "execution_count": 146,
   "id": "1e08a2bd-c46a-4b17-bb94-20abe656f0cf",
   "metadata": {},
   "outputs": [
    {
     "name": "stdin",
     "output_type": "stream",
     "text": [
      "Please enter the number of layers:  9\n"
     ]
    },
    {
     "name": "stdout",
     "output_type": "stream",
     "text": [
      "*****************\n",
      ".***************\n",
      "..*************\n",
      "...***********\n",
      "....*********\n",
      ".....*******\n",
      "......*****\n",
      ".......***\n",
      "........*\n",
      "End of the program...\n"
     ]
    }
   ],
   "source": [
    "n = int(input(\"Please enter the number of layers: \"))\n",
    "for i in range(1, n + 1):\n",
    "    print (\".\" * (i - 1) + \"*\" * (2 * (n - i) + 1))\n",
    "print (\"End of the program...\")"
   ]
  },
  {
   "cell_type": "markdown",
   "id": "84033970-4815-4d74-b992-b95f1d6d8e51",
   "metadata": {},
   "source": [
    "### Class Assignment - 2\n",
    "**Form the following pattern using a single loop construct.**"
   ]
  },
  {
   "cell_type": "code",
   "execution_count": null,
   "id": "35c4e6fc-7d78-4055-a1b7-cc77624d781e",
   "metadata": {},
   "outputs": [],
   "source": [
    "Pattern Printing - 3\n",
    "--------------------\n",
    "n = 11 (It should be always an ODD number)\n",
    "                 i    .    *\n",
    "               ---------------\n",
    ".....*           1    5    1         \n",
    "....***          2    4    3    . => \n",
    "...*****         3    3    5\n",
    "..*******        4    2    7    * => \n",
    ".*********       5    1    9\n",
    "***********      6    0   11\n",
    ".*********       7    1    9\n",
    "..*******        8    2    7\n",
    "...*****         9    3    5\n",
    "....***         10    4    3\n",
    ".....*          11    5    1\n",
    "               ---------------\n",
    "               Tracing Table"
   ]
  },
  {
   "cell_type": "code",
   "execution_count": null,
   "id": "31a7df78-9d46-4dc3-9bef-3f9471dd253f",
   "metadata": {},
   "outputs": [],
   "source": []
  },
  {
   "cell_type": "code",
   "execution_count": null,
   "id": "92caa726-cb5b-4b95-82e8-1f06f844acc1",
   "metadata": {},
   "outputs": [],
   "source": []
  },
  {
   "cell_type": "markdown",
   "id": "766f98dc-607c-4ef4-9694-d91e73e86489",
   "metadata": {},
   "source": [
    "### Python Functions"
   ]
  },
  {
   "cell_type": "code",
   "execution_count": 153,
   "id": "7656d3e8-4e7e-4457-b62f-9aababa36b55",
   "metadata": {},
   "outputs": [
    {
     "name": "stdout",
     "output_type": "stream",
     "text": [
      "Welcome... To all...\n",
      "Welcome... To all...\n",
      "Welcome... To all...\n",
      "Welcome... To all...\n",
      "<class 'function'> 2051889753248\n"
     ]
    }
   ],
   "source": [
    "# function takes no input arguments and returns no output arguments\n",
    "def funct1():\n",
    "    print (\"Welcome...\", end = \" \")\n",
    "    print (\"To all...\")\n",
    "    \n",
    "funct1()\n",
    "funct1()\n",
    "funct1()\n",
    "funct1()\n",
    "print (type(funct1), id(funct1))"
   ]
  },
  {
   "cell_type": "code",
   "execution_count": 156,
   "id": "6a5e300f-9b6c-489a-90d0-92cf068df5f6",
   "metadata": {},
   "outputs": [
    {
     "name": "stdout",
     "output_type": "stream",
     "text": [
      "Hello Hello Hello Hello Hello \n",
      "Welcome Welcome Welcome Welcome Welcome Welcome Welcome Welcome Welcome Welcome \n",
      "Good Bye !!! Good Bye !!! Good Bye !!! Good Bye !!! Good Bye !!! Good Bye !!! Good Bye !!! \n",
      "<class 'function'> 2051889752816\n"
     ]
    }
   ],
   "source": [
    "# function takes input arguments and returns no output arguments\n",
    "def funct2(msg, times):\n",
    "    print (msg * times)\n",
    "    \n",
    "funct2(\"Hello \", 5)\n",
    "funct2(\"Welcome \", 10)\n",
    "funct2(\"Good Bye !!! \", 7)\n",
    "print (type(funct2), id(funct2))"
   ]
  },
  {
   "cell_type": "code",
   "execution_count": 184,
   "id": "1db9d73d-5972-4df6-b849-d879abd039e7",
   "metadata": {},
   "outputs": [
    {
     "name": "stdout",
     "output_type": "stream",
     "text": [
      "Hello Hello Hello Hello Hello \n",
      "Welcome Welcome Welcome Welcome Welcome Welcome Welcome Welcome Welcome Welcome \n",
      "Good Bye !!! Good Bye !!! Good Bye !!! Good Bye !!! Good Bye !!! Good Bye !!! Good Bye !!! \n",
      "<class 'function'> 2051887717824 <class 'str'> 2051889332560\n"
     ]
    }
   ],
   "source": [
    "# function takes input arguments and also returns output arguments\n",
    "def funct3(msg, times):\n",
    "    return msg * times\n",
    "    \n",
    "result = funct3(\"Hello \", 5)\n",
    "print (result)\n",
    "\n",
    "result = funct3(msg = \"Welcome \", times = 10)\n",
    "print (result)\n",
    "\n",
    "result = funct3(times = 7, msg = \"Good Bye !!! \")\n",
    "print (result)\n",
    "\n",
    "print (type(funct3), id(funct3), type(result), id(result))"
   ]
  },
  {
   "cell_type": "code",
   "execution_count": 168,
   "id": "f0ea2252-fd88-429d-8700-857716bbaf08",
   "metadata": {},
   "outputs": [
    {
     "name": "stdout",
     "output_type": "stream",
     "text": [
      "Total = 140, Difference = 60, Product = 4000, Quotient = 2.5, Remainder = 20\n",
      "\n",
      "Total = 140, Difference = 60, Product = 4000, Quotient = 2.5, Remainder = 20\n",
      "\n",
      "(140, 60, 4000, 2.5, 20) <class 'tuple'> 5 2051887530288\n"
     ]
    }
   ],
   "source": [
    "# function takes input arguments and returns multiple values in collection class object as output arguments\n",
    "def funct4(num1, num2):\n",
    "    total = num1 + num2\n",
    "    difference = num1 - num2\n",
    "    product = num1 * num2\n",
    "    quotient = num1 / num2\n",
    "    remainder = num1 % num2\n",
    "    return total, difference, product, quotient, remainder\n",
    "\n",
    "tt, dd, pp, qq, rr = funct4(100, 40)\n",
    "print (f\"Total = {tt}, Difference = {dd}, Product = {pp}, Quotient = {qq}, Remainder = {rr}\")\n",
    "print ()\n",
    "result = funct4(100, 40)\n",
    "print (f\"Total = {result[0]}, Difference = {result[1]}, Product = {result[2]}, Quotient = {result[3]}, Remainder = {result[4]}\")\n",
    "print ()\n",
    "print (result, type(result), len(result), id(result))"
   ]
  },
  {
   "cell_type": "code",
   "execution_count": 188,
   "id": "4e6ad439-3aef-4f33-9511-ef8cde60cd04",
   "metadata": {},
   "outputs": [
    {
     "name": "stdout",
     "output_type": "stream",
     "text": [
      "par1 = 100, par2 = 200 and par3 = 300...\n",
      "par1 = 100, par2 = 200 and par3 = 333...\n",
      "par1 = 100, par2 = 222 and par3 = 333...\n",
      "par1 = 111, par2 = 222 and par3 = 333...\n",
      "par1 = 100, par2 = 222 and par3 = 300...\n",
      "par1 = 100, par2 = 222 and par3 = 300...\n"
     ]
    }
   ],
   "source": [
    "# function with default arguments\n",
    "def funct5(par1 = 111, par2 = 222, par3 = 333):    # positional parameters\n",
    "    print (f\"par1 = {par1}, par2 = {par2} and par3 = {par3}...\")\n",
    "    \n",
    "funct5(100, 200, 300)    # positional arguments\n",
    "funct5(100, 200)\n",
    "funct5(100)\n",
    "funct5()\n",
    "funct5(par1 = 100, par3 = 300)\n",
    "funct5(par3 = 300, par1 = 100)"
   ]
  },
  {
   "cell_type": "code",
   "execution_count": 186,
   "id": "28b2c644-a116-41e9-8cbf-2a6b16d7a6b3",
   "metadata": {},
   "outputs": [
    {
     "name": "stdout",
     "output_type": "stream",
     "text": [
      "500\n",
      "200\n",
      "500\n",
      "200\n"
     ]
    }
   ],
   "source": [
    "def funct6(par1 = 100, par2 = None):\n",
    "    if (par2 == None):\n",
    "        return par1 + par1\n",
    "    else:\n",
    "        return par1 + par2\n",
    "print (funct6(100, 400))\n",
    "print (funct6(100))\n",
    "print (funct6(par2 = 400, par1 = 100))\n",
    "print (funct6(par1 = 100))"
   ]
  },
  {
   "cell_type": "code",
   "execution_count": 190,
   "id": "36e9711a-6e84-4f9f-8ac5-52a505c8a306",
   "metadata": {},
   "outputs": [
    {
     "name": "stdout",
     "output_type": "stream",
     "text": [
      "('Joydeep', 'Tester') 2 <class 'tuple'> 2051892000128\n",
      "('Joydeep', 'Tester', 'Pune', 55000) 4 <class 'tuple'> 2051888648000\n",
      "('Joydeep', 'Tester', 'Pune', 55000, 'Male', True) 6 <class 'tuple'> 2051899638976\n"
     ]
    }
   ],
   "source": [
    "# function with variable number of input arguments\n",
    "def funct7(*arg):    # *arg defines forefully that arg is a tuple object\n",
    "    print (arg, len(arg), type(arg), id(arg))\n",
    "    \n",
    "funct7(\"Joydeep\", \"Tester\")\n",
    "funct7(\"Joydeep\", \"Tester\", \"Pune\", 55000)\n",
    "funct7(\"Joydeep\", \"Tester\", \"Pune\", 55000, \"Male\", True)"
   ]
  },
  {
   "cell_type": "code",
   "execution_count": 191,
   "id": "5fd53745-860b-4bd0-92d1-2a3a510108ff",
   "metadata": {},
   "outputs": [
    {
     "name": "stdout",
     "output_type": "stream",
     "text": [
      "{'empname': 'Joydeep', 'empjob': 'Tester'} 2 <class 'dict'> 2051885950912\n",
      "{'empname': 'Joydeep', 'empjob': 'Tester', 'emploc': 'Pune', 'empsal': 55000} 4 <class 'dict'> 2051887626560\n",
      "{'empname': 'Joydeep', 'empjob': 'Tester', 'emploc': 'Pune', 'empsal': 55000, 'empgender': 'Male', 'empmarried': True} 6 <class 'dict'> 2051885889088\n"
     ]
    }
   ],
   "source": [
    "# function with variable number of input arguments\n",
    "def funct8(**kwarg):    # **kwarg defines forefully that kwarg is a dictionary object, kwarg means keyword argument\n",
    "    print (kwarg, len(kwarg), type(kwarg), id(kwarg))\n",
    "    \n",
    "funct8(empname = \"Joydeep\", empjob = \"Tester\")\n",
    "funct8(empname = \"Joydeep\", empjob = \"Tester\", emploc = \"Pune\", empsal = 55000)\n",
    "funct8(empname = \"Joydeep\", empjob = \"Tester\", emploc = \"Pune\", empsal = 55000, empgender = \"Male\", empmarried = True)"
   ]
  },
  {
   "cell_type": "code",
   "execution_count": 193,
   "id": "3b3f7b0a-9755-4f2e-b1e3-97f99970b492",
   "metadata": {},
   "outputs": [
    {
     "name": "stdout",
     "output_type": "stream",
     "text": [
      "('Joydeep', 'Tester', 'Pune') 3 <class 'tuple'> 2051887956352\n",
      "{'empsal': 55000, 'empgender': 'Male', 'empmarried': True} 3 <class 'dict'> 2051887136256\n",
      "\n",
      "() 0 <class 'tuple'> 2051793551424\n",
      "{'empsal': 55000, 'empgender': 'Male', 'empmarried': True} 3 <class 'dict'> 2051887135616\n",
      "\n",
      "('Joydeep', 'Tester', 'Pune') 3 <class 'tuple'> 2051887956352\n",
      "{} 0 <class 'dict'> 2051887133504\n"
     ]
    }
   ],
   "source": [
    "# function with variable number of input arguments\n",
    "def funct9(*arg, **kwarg):\n",
    "    print (arg, len(arg), type(arg), id(arg))\n",
    "    print (kwarg, len(kwarg), type(kwarg), id(kwarg))\n",
    "    \n",
    "funct9(\"Joydeep\", \"Tester\", \"Pune\", empsal = 55000, empgender = \"Male\", empmarried = True)\n",
    "print ()\n",
    "funct9(empsal = 55000, empgender = \"Male\", empmarried = True)\n",
    "print ()\n",
    "funct9(\"Joydeep\", \"Tester\", \"Pune\")"
   ]
  },
  {
   "cell_type": "code",
   "execution_count": null,
   "id": "d48e6e07-ecbc-4865-a483-80ae36324de9",
   "metadata": {},
   "outputs": [],
   "source": []
  },
  {
   "cell_type": "code",
   "execution_count": null,
   "id": "df7b98b0-9b4d-4006-a5c9-1e8b5c4a9110",
   "metadata": {},
   "outputs": [],
   "source": []
  },
  {
   "cell_type": "code",
   "execution_count": null,
   "id": "6ebff031-8c1a-48da-9151-332319c36d0e",
   "metadata": {},
   "outputs": [],
   "source": []
  },
  {
   "cell_type": "code",
   "execution_count": null,
   "id": "1919fc62-375e-45ba-8f54-2594b554f0f2",
   "metadata": {},
   "outputs": [],
   "source": []
  },
  {
   "cell_type": "code",
   "execution_count": null,
   "id": "8944c513-44b0-4cbe-96b7-fcb77b5976b3",
   "metadata": {},
   "outputs": [],
   "source": []
  },
  {
   "cell_type": "code",
   "execution_count": null,
   "id": "c5437052-d139-4324-9824-f2decddd48ea",
   "metadata": {},
   "outputs": [],
   "source": []
  },
  {
   "cell_type": "code",
   "execution_count": null,
   "id": "2e2a68cd-c961-4135-9634-4d86891168fd",
   "metadata": {},
   "outputs": [],
   "source": []
  },
  {
   "cell_type": "code",
   "execution_count": null,
   "id": "af4e5549-5036-4c98-8659-bd792e6e0eee",
   "metadata": {},
   "outputs": [],
   "source": []
  },
  {
   "cell_type": "code",
   "execution_count": null,
   "id": "f7f3e413-fef7-419c-a7ea-585df5f65c12",
   "metadata": {},
   "outputs": [],
   "source": []
  },
  {
   "cell_type": "code",
   "execution_count": null,
   "id": "4becc671-f34a-4c99-96b2-5f01e8627cdc",
   "metadata": {},
   "outputs": [],
   "source": []
  },
  {
   "cell_type": "code",
   "execution_count": null,
   "id": "0a517a5c-4e0b-4b68-8911-e57c2e82a72e",
   "metadata": {},
   "outputs": [],
   "source": []
  },
  {
   "cell_type": "code",
   "execution_count": null,
   "id": "f1b021c3-48ca-42a1-bf26-fa645c7d9854",
   "metadata": {},
   "outputs": [],
   "source": []
  },
  {
   "cell_type": "code",
   "execution_count": null,
   "id": "e6f0a869-dd60-4737-bd68-256958fdb108",
   "metadata": {},
   "outputs": [],
   "source": []
  }
 ],
 "metadata": {
  "kernelspec": {
   "display_name": "Python 3",
   "language": "python",
   "name": "python3"
  },
  "language_info": {
   "codemirror_mode": {
    "name": "ipython",
    "version": 3
   },
   "file_extension": ".py",
   "mimetype": "text/x-python",
   "name": "python",
   "nbconvert_exporter": "python",
   "pygments_lexer": "ipython3",
   "version": "3.8.8"
  }
 },
 "nbformat": 4,
 "nbformat_minor": 5
}

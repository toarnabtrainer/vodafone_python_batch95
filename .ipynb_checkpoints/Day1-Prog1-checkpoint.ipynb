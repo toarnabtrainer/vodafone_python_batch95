{
 "cells": [
  {
   "cell_type": "markdown",
   "id": "1c180b27-d3c8-41b9-9ff5-f8603589b8ff",
   "metadata": {},
   "source": [
    "<h1>Heading-1</h1>\n",
    "<h2>Heading-2</h2>\n",
    "<h3>Heading-3</h3>\n",
    "<h4>Heading-4</h4>\n",
    "<h5>Heading-5</h5>\n",
    "<h6>Heading-6</h6>"
   ]
  },
  {
   "cell_type": "markdown",
   "id": "86f7a105-45e7-486b-82e9-f13d9e13dedf",
   "metadata": {},
   "source": [
    "# Heading-1\n",
    "## Heading-2\n",
    "### Heading-3\n",
    "#### Heading-4\n",
    "##### Heading-5\n",
    "###### Heading-6"
   ]
  },
  {
   "cell_type": "markdown",
   "id": "ca7eb33d-9af6-4a3d-a88e-8a05cc2166bc",
   "metadata": {},
   "source": [
    "<b> This is a text in BOLD...</b>"
   ]
  },
  {
   "cell_type": "markdown",
   "id": "637b4b25-f318-4e3c-a74e-fdaf1fcf83d0",
   "metadata": {},
   "source": [
    "**This is a text in BOLD...**"
   ]
  },
  {
   "cell_type": "markdown",
   "id": "9089f6bc-c765-43a3-90de-8e099044eba8",
   "metadata": {},
   "source": [
    "### Inputs and Outputs"
   ]
  },
  {
   "cell_type": "code",
   "execution_count": 4,
   "id": "2e81029e-1805-4a64-9f05-3b389c4b1fc8",
   "metadata": {},
   "outputs": [
    {
     "name": "stdin",
     "output_type": "stream",
     "text": [
      "Please enter the first number:  100\n",
      "Please enter the second number:  300\n"
     ]
    },
    {
     "name": "stdout",
     "output_type": "stream",
     "text": [
      "100 <class 'str'> 300 <class 'str'>\n",
      "So the result is 100300\n",
      "End of the program...\n"
     ]
    }
   ],
   "source": [
    "num1 = input(\"Please enter the first number: \")\n",
    "num2 = input(\"Please enter the second number: \")\n",
    "print (num1, type(num1), num2, type(num2))\n",
    "result = num1 + num2\n",
    "print (\"So the result is\", result)\n",
    "print (\"End of the program...\")"
   ]
  },
  {
   "cell_type": "code",
   "execution_count": 5,
   "id": "c0d91836-f367-4264-82ab-70e554074123",
   "metadata": {},
   "outputs": [
    {
     "name": "stdin",
     "output_type": "stream",
     "text": [
      "Please enter the first number:  100\n",
      "Please enter the second number:  300\n"
     ]
    },
    {
     "name": "stdout",
     "output_type": "stream",
     "text": [
      "100 <class 'int'> 300 <class 'int'>\n",
      "So the result is 400\n",
      "End of the program...\n"
     ]
    }
   ],
   "source": [
    "num1 = int(input(\"Please enter the first number: \"))\n",
    "num2 = int(input(\"Please enter the second number: \"))\n",
    "print (num1, type(num1), num2, type(num2))\n",
    "result = num1 + num2\n",
    "print (\"So the result is\", result)\n",
    "print (\"End of the program...\")"
   ]
  },
  {
   "cell_type": "code",
   "execution_count": 8,
   "id": "3a09466e-daec-4261-a36a-1310c214c6de",
   "metadata": {},
   "outputs": [
    {
     "name": "stdin",
     "output_type": "stream",
     "text": [
      "Please enter the first number:  100\n",
      "Please enter the second number:  400\n"
     ]
    },
    {
     "name": "stdout",
     "output_type": "stream",
     "text": [
      "100 <class 'int'> 400 <class 'int'>\n"
     ]
    }
   ],
   "source": [
    "num1 = int(input(\"Please enter the first number: \"))\n",
    "num2 = int(input(\"Please enter the second number: \"))\n",
    "result = num1 + num2\n",
    "print (num1, type(num1), num2, type(num2))"
   ]
  },
  {
   "cell_type": "code",
   "execution_count": 26,
   "id": "93300764-1add-41ee-ba09-cd74ce9f9dea",
   "metadata": {},
   "outputs": [
    {
     "name": "stdout",
     "output_type": "stream",
     "text": [
      "So the sum of 100 + 400 = 500\n",
      "So the sum of 100 + 400 = 500\n",
      "So the sum of 100 + 400 = 500\n",
      "So the sum of 100 + 400 = 500\n",
      "So the sum of 100 + 400 = 500\n",
      "So the sum of 100 + 400 = 500\n",
      "So the sum of 100 + 400 = 500\n",
      "So the sum of 100 + 400 = 500\n",
      "So the sum of 100 + 400.000000 = 500\n",
      "So the sum of 100 +   400.00 = 500\n",
      "So the sum of 100 + 400 = 500\n"
     ]
    }
   ],
   "source": [
    "print (\"So the sum of\", num1, \"+\", num2, \"=\", result)\n",
    "print (\"So the sum of \" + str(num1) + \" + \" + str(num2) + \" = \" + str(result))\n",
    "print (\"So the sum of {} + {} = {}\".format(num1, num2, result))   # {} denotes place holder\n",
    "print (\"So the sum of {0} + {1} = {2}\".format(num1, num2, result))  # numbered place holder\n",
    "print (\"So the sum of {2} + {0} = {1}\".format(num2, result, num1))\n",
    "print (\"So the sum of {fnum} + {snum} = {tot}\".format(fnum = num1, snum = num2, tot = result))   # labeled placeholder\n",
    "print (\"So the sum of {fnum} + {snum} = {tot}\".format(snum = num2, fnum = num1, tot = result))\n",
    "print (\"So the sum of %d + %d = %d\"%(num1, num2, result))\n",
    "print (\"So the sum of %d + %f = %d\"%(num1, num2, result))\n",
    "print (\"So the sum of %d + %8.2f = %d\"%(num1, num2, result))\n",
    "print (f\"So the sum of {num1} + {num2} = {result}\")    # smart formatting"
   ]
  },
  {
   "cell_type": "markdown",
   "id": "20ac0cea-a62c-4519-a102-136680c86500",
   "metadata": {},
   "source": [
    "### Operators"
   ]
  },
  {
   "cell_type": "code",
   "execution_count": 28,
   "id": "fe88e451-7820-44f0-8d23-7b9625da5a19",
   "metadata": {},
   "outputs": [
    {
     "name": "stdout",
     "output_type": "stream",
     "text": [
      "140\n",
      "60\n",
      "4000\n",
      "2.5\n",
      "2\n",
      "100000000\n",
      "20\n"
     ]
    }
   ],
   "source": [
    "# Arithmetic operators: + - * / // ** %\n",
    "print (100 + 40)    # addition\n",
    "print (100 - 40)    # subtraction\n",
    "print (100 * 40)    # multiplication\n",
    "print (100 / 40)    # float division\n",
    "print (100 // 40)   # integer division\n",
    "print (100 ** 4)    # exponentiation, a to the power of b\n",
    "print (100 % 40)    # modulus, remainder of the division"
   ]
  },
  {
   "cell_type": "code",
   "execution_count": 31,
   "id": "c9ec65cb-3848-4d0b-b1fd-a44e528f3300",
   "metadata": {},
   "outputs": [
    {
     "name": "stdout",
     "output_type": "stream",
     "text": [
      "True False False False\n",
      "True True True False\n",
      "False True\n"
     ]
    }
   ],
   "source": [
    "# logical operators: and or not\n",
    "print (True and True, True and False, False and True, False and False)   # True, False, None keywords starts with capital leters\n",
    "print (True or True, True or False, False or True, False or False)\n",
    "print (not True, not False)"
   ]
  },
  {
   "cell_type": "code",
   "execution_count": 32,
   "id": "9314ba33-8c0c-4c7b-86ba-24ad1f374538",
   "metadata": {},
   "outputs": [
    {
     "name": "stdout",
     "output_type": "stream",
     "text": [
      "True True True True True True\n"
     ]
    }
   ],
   "source": [
    "# Relational operators: > >= < <= != ==                -gt -ge -lt -le -ne -eq,    .gt. .ge. .lt. .le. .ne. .eq.\n",
    "print (100 > 50, 100 >= 100, 100 < 400, 100 <= 500, 100 != 200, 400 == 400)"
   ]
  },
  {
   "cell_type": "code",
   "execution_count": 33,
   "id": "9dbde855-202f-44f7-b88a-aa0954ea2e77",
   "metadata": {},
   "outputs": [
    {
     "name": "stdout",
     "output_type": "stream",
     "text": [
      "EVEN Number\n",
      "ODD Number\n"
     ]
    }
   ],
   "source": [
    "# Ternary operator:\n",
    "# Operator classifications: Unary (one operand), Binary (two operands) and Ternary (three operands)\n",
    "# Unary: +10 -20, Binary: 10 + 20, 30 * 4, Ternary: as shown below (True part, Condition and False part)\n",
    "num1 = 100\n",
    "result = \"EVEN Number\" if (num1 % 2 == 0) else \"ODD Number\"    # result = num1 % 2? \"True\": \"False\"   (in C, C++, Java)\n",
    "print (result)\n",
    "\n",
    "num1 = 101\n",
    "result = \"EVEN Number\" if (num1 % 2 == 0) else \"ODD Number\"\n",
    "print (result)"
   ]
  },
  {
   "cell_type": "code",
   "execution_count": null,
   "id": "876fb628-8383-43bf-9b61-3f757e82da22",
   "metadata": {},
   "outputs": [],
   "source": []
  },
  {
   "cell_type": "code",
   "execution_count": null,
   "id": "16a37b68-8ff2-42d2-869d-39cc2746f074",
   "metadata": {},
   "outputs": [],
   "source": []
  },
  {
   "cell_type": "code",
   "execution_count": null,
   "id": "209c9efd-de60-4f61-855d-b767b2a4c776",
   "metadata": {},
   "outputs": [],
   "source": []
  },
  {
   "cell_type": "code",
   "execution_count": null,
   "id": "c8100163-382d-41db-9929-71a2703d14c6",
   "metadata": {},
   "outputs": [],
   "source": []
  },
  {
   "cell_type": "code",
   "execution_count": null,
   "id": "c03bb485-4d39-420f-874e-c7344dee8303",
   "metadata": {},
   "outputs": [],
   "source": []
  },
  {
   "cell_type": "code",
   "execution_count": null,
   "id": "43241406-5f07-42d8-9789-0b4e1473bff1",
   "metadata": {},
   "outputs": [],
   "source": []
  },
  {
   "cell_type": "code",
   "execution_count": null,
   "id": "98edb903-e424-4ebc-9ee5-a3b2217633a8",
   "metadata": {},
   "outputs": [],
   "source": []
  },
  {
   "cell_type": "code",
   "execution_count": null,
   "id": "fc2cdcfe-74b6-4f4b-99a7-4fe06e8b06a9",
   "metadata": {},
   "outputs": [],
   "source": []
  },
  {
   "cell_type": "code",
   "execution_count": null,
   "id": "78ff96ed-74cf-4f54-839d-1168b05be3f3",
   "metadata": {},
   "outputs": [],
   "source": []
  },
  {
   "cell_type": "code",
   "execution_count": null,
   "id": "d8b436f8-89e9-4c17-9ede-8fe5fc916ba9",
   "metadata": {},
   "outputs": [],
   "source": []
  },
  {
   "cell_type": "code",
   "execution_count": null,
   "id": "b8a2e0ec-006e-4ff2-a2c8-61cfcb86d624",
   "metadata": {},
   "outputs": [],
   "source": []
  }
 ],
 "metadata": {
  "kernelspec": {
   "display_name": "Python 3",
   "language": "python",
   "name": "python3"
  },
  "language_info": {
   "codemirror_mode": {
    "name": "ipython",
    "version": 3
   },
   "file_extension": ".py",
   "mimetype": "text/x-python",
   "name": "python",
   "nbconvert_exporter": "python",
   "pygments_lexer": "ipython3",
   "version": "3.8.8"
  }
 },
 "nbformat": 4,
 "nbformat_minor": 5
}

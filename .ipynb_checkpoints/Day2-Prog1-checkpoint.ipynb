{
 "cells": [
  {
   "cell_type": "markdown",
   "id": "3878bdcf-fc76-43ff-bda9-bdebbd5a8a4c",
   "metadata": {},
   "source": [
    "### Dealing with Module: Math Module"
   ]
  },
  {
   "cell_type": "code",
   "execution_count": 1,
   "id": "2268dae6-5d71-4f6b-a89c-40d8004a32ee",
   "metadata": {},
   "outputs": [],
   "source": [
    "# importing required modules\n",
    "import math"
   ]
  },
  {
   "cell_type": "code",
   "execution_count": 11,
   "id": "4c041ca6-41ab-41cc-9af6-8dee2eace711",
   "metadata": {},
   "outputs": [
    {
     "name": "stdout",
     "output_type": "stream",
     "text": [
      "0.0 1.0 0.0\n",
      "0.0 1.0 0.0\n",
      "0.48121182505960347\n",
      "0.0\n",
      "0.5493061443340549\n"
     ]
    }
   ],
   "source": [
    "print (math.sin(0), math.cos(0), math.tan(0))\n",
    "print (math.sinh(0), math.cosh(0), math.tanh(0))\n",
    "print (math.asinh(0.5))\n",
    "print (math.acosh(1))\n",
    "print (math.atanh(0.5))"
   ]
  },
  {
   "cell_type": "code",
   "execution_count": 12,
   "id": "6a6485fd-b057-4a37-a3e0-1d49ccd42800",
   "metadata": {},
   "outputs": [
    {
     "name": "stdout",
     "output_type": "stream",
     "text": [
      "3.141592653589793\n",
      "2.718281828459045\n",
      "6.283185307179586\n"
     ]
    }
   ],
   "source": [
    "# some constants in the math module\n",
    "print (math.pi)\n",
    "print (math.e)\n",
    "print (math.tau)"
   ]
  },
  {
   "cell_type": "code",
   "execution_count": 19,
   "id": "4bbdf5a7-e66c-4761-a404-780f39ba53c2",
   "metadata": {},
   "outputs": [
    {
     "name": "stdout",
     "output_type": "stream",
     "text": [
      "2.302585092994046 2.302585092994046\n",
      "10.0 10.0\n",
      "3.0 2.9999999999999996\n"
     ]
    }
   ],
   "source": [
    "print (math.log(10), math.log(10, math.e))\n",
    "print (math.log2(1024), math.log(1024, 2))\n",
    "print (math.log10(1000), math.log(1000, 10))"
   ]
  },
  {
   "cell_type": "code",
   "execution_count": 22,
   "id": "681a8c01-3ec5-4a88-84df-603f9151594e",
   "metadata": {},
   "outputs": [
    {
     "name": "stdout",
     "output_type": "stream",
     "text": [
      "120 5040\n",
      "50 50\n",
      "1000.0 1000 1000.0 1000.0\n"
     ]
    }
   ],
   "source": [
    "print (math.factorial(5), math.factorial(7))\n",
    "print (math.gcd(100, 750), math.gcd(350, 850))\n",
    "print (math.pow(10, 3), 10 ** 3, 10.0 ** 3, 10 ** 3.0)"
   ]
  },
  {
   "cell_type": "code",
   "execution_count": 24,
   "id": "1833dbc6-8bb8-427d-a8ea-54c1eab55c78",
   "metadata": {},
   "outputs": [
    {
     "name": "stdout",
     "output_type": "stream",
     "text": [
      "11 11 10 10\n"
     ]
    }
   ],
   "source": [
    "print (math.ceil(10.1), math.ceil(10.9), math.floor(10.1), math.floor(10.9))"
   ]
  },
  {
   "cell_type": "code",
   "execution_count": 26,
   "id": "bcf56389-6385-4b52-8c2e-e7f7133baaba",
   "metadata": {},
   "outputs": [
    {
     "name": "stdout",
     "output_type": "stream",
     "text": [
      "Help on built-in function pow in module math:\n",
      "\n",
      "pow(x, y, /)\n",
      "    Return x**y (x to the power of y).\n",
      "\n"
     ]
    }
   ],
   "source": [
    "help (math.pow)"
   ]
  },
  {
   "cell_type": "code",
   "execution_count": null,
   "id": "cf3dbfea-fa84-4bbf-85a4-14b5e7bfa7e4",
   "metadata": {},
   "outputs": [],
   "source": [
    "help (math)"
   ]
  },
  {
   "cell_type": "markdown",
   "id": "2843c344-3995-4eb8-9eeb-8038304bbb48",
   "metadata": {},
   "source": [
    "### Dealing with String Processing"
   ]
  },
  {
   "cell_type": "markdown",
   "id": "f9882ac7-2868-44ed-9164-128fd41f41e9",
   "metadata": {},
   "source": [
    "**String is a collection of alpha numeric and special characters. String is immutable as insert, delete and update operations can not be carried out on a given string.**"
   ]
  },
  {
   "cell_type": "code",
   "execution_count": null,
   "id": "3e16f440-755b-4929-9d0f-929ff9dab47a",
   "metadata": {},
   "outputs": [],
   "source": [
    "# string indexing and slicing\n",
    "index from left to right ->   0   1   2   3   4   5   6   7   8   9\n",
    "                   mystr ->   u   n   i   v   e   r   s   i   t   y\n",
    "index from right to left -> -10  -9  -8  -7  -6  -5  -4  -3  -2  -1"
   ]
  },
  {
   "cell_type": "code",
   "execution_count": 117,
   "id": "14ec1102-4108-4de9-b908-964b9eef13b5",
   "metadata": {},
   "outputs": [
    {
     "name": "stdout",
     "output_type": "stream",
     "text": [
      "university 10 <class 'str'> 2716497143280\n",
      "s s t t y y\n",
      "niver niver niver niver\n",
      "univer univer univer univer\n",
      "sity sity\n",
      "ver ver ver ver\n",
      "uiest nvriy ytisrevinu\n"
     ]
    }
   ],
   "source": [
    "mystr = \"university\"\n",
    "print (mystr, len(mystr), type(mystr), id(mystr))\n",
    "print (mystr[6], mystr[-4], mystr[8], mystr[-2], mystr[9], mystr[-1])  # indexing\n",
    "print (mystr[1:6], mystr[-9:-4], mystr[1:-4], mystr[-9:6])   # slicing\n",
    "print (mystr[0:6], mystr[:6], mystr[-10:-4], mystr[:-4])\n",
    "print (mystr[6:], mystr[-4:])\n",
    "print (mystr[3:6], mystr[-7:-4], mystr[3:-4], mystr[-7:6])\n",
    "print (mystr[0::2], mystr[1::2], mystr[::-1])"
   ]
  },
  {
   "cell_type": "code",
   "execution_count": 83,
   "id": "1a39c4df-4af9-4526-9ed4-f71f4bf93946",
   "metadata": {},
   "outputs": [
    {
     "name": "stdout",
     "output_type": "stream",
     "text": [
      "sTAndForD unIVerSitY 20 <class 'str'> 2716502973376\n",
      "STANDFORD UNIVERSITY\n",
      "standford university\n",
      "StaNDfORd UNivERsITy\n",
      "Standford university\n",
      "Standford University\n",
      "          sTAndForD unIVerSitY          \n"
     ]
    }
   ],
   "source": [
    "mystr = \"sTAndForD unIVerSitY\"\n",
    "print (mystr, len(mystr), type(mystr), id(mystr))\n",
    "print (mystr.upper())\n",
    "print (mystr.lower())\n",
    "print (mystr.swapcase())\n",
    "print (mystr.capitalize())\n",
    "print (mystr.title())\n",
    "print (mystr.center(40))"
   ]
  },
  {
   "cell_type": "code",
   "execution_count": 48,
   "id": "b30eff83-f95f-4388-af6b-72371bea773b",
   "metadata": {},
   "outputs": [
    {
     "name": "stdout",
     "output_type": "stream",
     "text": [
      "abcd True True False\n",
      "1234 False True True\n",
      "1234abcd False True False\n",
      "abcd@1234 False False False\n"
     ]
    }
   ],
   "source": [
    "mystr = \"abcd\"\n",
    "print (mystr, mystr.isalpha(), mystr.isalnum(), mystr.isdigit())\n",
    "mystr = \"1234\"\n",
    "print (mystr, mystr.isalpha(), mystr.isalnum(), mystr.isdigit())\n",
    "mystr = \"1234abcd\"\n",
    "print (mystr, mystr.isalpha(), mystr.isalnum(), mystr.isdigit())\n",
    "mystr = \"abcd@1234\"\n",
    "print (mystr, mystr.isalpha(), mystr.isalnum(), mystr.isdigit())"
   ]
  },
  {
   "cell_type": "code",
   "execution_count": 63,
   "id": "975f24de-d8f5-4659-974d-29ccd3e4f2bd",
   "metadata": {},
   "outputs": [
    {
     "name": "stdout",
     "output_type": "stream",
     "text": [
      "charity begins at home 22 <class 'str'> 2716497272224\n",
      "True\n",
      "False True True False\n",
      "True False True True\n"
     ]
    }
   ],
   "source": [
    "mystr = \"charity begins at home\"\n",
    "print (mystr, len(mystr), type(mystr), id(mystr))\n",
    "print (mystr.startswith(\"charity\"))\n",
    "print (mystr.startswith(\"begi\"), mystr.startswith(\"begi\", 8), mystr.startswith(\"begi\", 8, 20), mystr.startswith(\"begi\", 8, 11))\n",
    "print (mystr.endswith(\"home\"), mystr.endswith(\"at\"), mystr.endswith(\"at\", 0, 17), mystr.endswith(\"at\", 15, 17))"
   ]
  },
  {
   "cell_type": "code",
   "execution_count": 67,
   "id": "a072eec6-1b53-4c70-b732-622df5a55d40",
   "metadata": {},
   "outputs": [
    {
     "name": "stdout",
     "output_type": "stream",
     "text": [
      "charity begins at home 22 <class 'str'> 2716497269344\n",
      "8\n",
      "15\n",
      "-1\n"
     ]
    }
   ],
   "source": [
    "mystr = \"charity begins at home\"\n",
    "print (mystr, len(mystr), type(mystr), id(mystr))\n",
    "print (mystr.find(\"begins\"))\n",
    "print (mystr.find(\"at\"))\n",
    "print (mystr.find(\"school\"))"
   ]
  },
  {
   "cell_type": "code",
   "execution_count": 70,
   "id": "494b6a7e-a2de-4e04-bf46-4e2272c1dcb9",
   "metadata": {},
   "outputs": [
    {
     "name": "stdout",
     "output_type": "stream",
     "text": [
      "charity begins at home 22 <class 'str'> 2716497436144\n",
      "8\n",
      "15\n"
     ]
    },
    {
     "ename": "ValueError",
     "evalue": "substring not found",
     "output_type": "error",
     "traceback": [
      "\u001b[1;31m---------------------------------------------------------------------------\u001b[0m",
      "\u001b[1;31mValueError\u001b[0m                                Traceback (most recent call last)",
      "\u001b[1;32m<ipython-input-70-feaf6260cd2a>\u001b[0m in \u001b[0;36m<module>\u001b[1;34m\u001b[0m\n\u001b[0;32m      3\u001b[0m \u001b[0mprint\u001b[0m \u001b[1;33m(\u001b[0m\u001b[0mmystr\u001b[0m\u001b[1;33m.\u001b[0m\u001b[0mindex\u001b[0m\u001b[1;33m(\u001b[0m\u001b[1;34m\"begins\"\u001b[0m\u001b[1;33m)\u001b[0m\u001b[1;33m)\u001b[0m\u001b[1;33m\u001b[0m\u001b[1;33m\u001b[0m\u001b[0m\n\u001b[0;32m      4\u001b[0m \u001b[0mprint\u001b[0m \u001b[1;33m(\u001b[0m\u001b[0mmystr\u001b[0m\u001b[1;33m.\u001b[0m\u001b[0mindex\u001b[0m\u001b[1;33m(\u001b[0m\u001b[1;34m\"at\"\u001b[0m\u001b[1;33m)\u001b[0m\u001b[1;33m)\u001b[0m\u001b[1;33m\u001b[0m\u001b[1;33m\u001b[0m\u001b[0m\n\u001b[1;32m----> 5\u001b[1;33m \u001b[0mprint\u001b[0m \u001b[1;33m(\u001b[0m\u001b[0mmystr\u001b[0m\u001b[1;33m.\u001b[0m\u001b[0mindex\u001b[0m\u001b[1;33m(\u001b[0m\u001b[1;34m\"school\"\u001b[0m\u001b[1;33m)\u001b[0m\u001b[1;33m)\u001b[0m\u001b[1;33m\u001b[0m\u001b[1;33m\u001b[0m\u001b[0m\n\u001b[0m",
      "\u001b[1;31mValueError\u001b[0m: substring not found"
     ]
    }
   ],
   "source": [
    "mystr = \"charity begins at home\"\n",
    "print (mystr, len(mystr), type(mystr), id(mystr))\n",
    "print (mystr.index(\"begins\"))\n",
    "print (mystr.index(\"at\"))\n",
    "print (mystr.index(\"school\"))"
   ]
  },
  {
   "cell_type": "code",
   "execution_count": 71,
   "id": "7d8dbb25-cc56-4e4f-877e-351f33dba4e7",
   "metadata": {},
   "outputs": [
    {
     "name": "stdout",
     "output_type": "stream",
     "text": [
      "charity begins at home 22 <class 'str'> 2716497269584\n",
      "8\n",
      "15\n",
      "Unsuccessful searching has taken place...!!!\n",
      "Error message: substring not found\n"
     ]
    }
   ],
   "source": [
    "try:\n",
    "    mystr = \"charity begins at home\"\n",
    "    print (mystr, len(mystr), type(mystr), id(mystr))\n",
    "    print (mystr.index(\"begins\"))\n",
    "    print (mystr.index(\"at\"))\n",
    "    print (mystr.index(\"school\"))\n",
    "except ValueError as ve:\n",
    "    print (\"Unsuccessful searching has taken place...!!!\")\n",
    "    print (\"Error message:\", ve)"
   ]
  },
  {
   "cell_type": "code",
   "execution_count": 73,
   "id": "05a99939-948a-4a1b-8270-f25f7c910357",
   "metadata": {},
   "outputs": [
    {
     "name": "stdout",
     "output_type": "stream",
     "text": [
      "mississippi 11 <class 'str'> 2716503020912\n",
      "4 2\n"
     ]
    }
   ],
   "source": [
    "mystr = \"mississippi\"\n",
    "print (mystr, len(mystr), type(mystr), id(mystr))\n",
    "print (mystr.count(\"i\"), mystr.count(\"p\"))"
   ]
  },
  {
   "cell_type": "code",
   "execution_count": 76,
   "id": "ab321dfa-a368-49ab-94c9-c60639e7199c",
   "metadata": {},
   "outputs": [
    {
     "name": "stdout",
     "output_type": "stream",
     "text": [
      "good morning 12 <class 'str'> 2716498502832\n",
      "good night 10 <class 'str'> 2716498502768\n"
     ]
    }
   ],
   "source": [
    "mystr = \"good morning\"\n",
    "print (mystr, len(mystr), type(mystr), id(mystr))\n",
    "mystr = mystr.replace(\"morning\", \"night\")\n",
    "print (mystr, len(mystr), type(mystr), id(mystr))"
   ]
  },
  {
   "cell_type": "code",
   "execution_count": 81,
   "id": "8e318b9e-6a66-48df-aea1-7c82fc60fa16",
   "metadata": {},
   "outputs": [
    {
     "name": "stdout",
     "output_type": "stream",
     "text": [
      "    good    morning    22 <class 'str'> 2716497271024\n",
      "good    morning 15\n",
      "good    morning    18\n",
      "    good    morning 19\n"
     ]
    }
   ],
   "source": [
    "mystr = \"    good    morning   \"\n",
    "print (mystr, len(mystr), type(mystr), id(mystr))\n",
    "result = mystr.strip()\n",
    "print (result, len(result))\n",
    "result = mystr.lstrip()\n",
    "print (result, len(result))\n",
    "result = mystr.rstrip()\n",
    "print (result, len(result))"
   ]
  },
  {
   "cell_type": "code",
   "execution_count": 82,
   "id": "64df1247-b1b4-49b9-9e48-3046608a0d3c",
   "metadata": {},
   "outputs": [
    {
     "name": "stdout",
     "output_type": "stream",
     "text": [
      "#@@#good#@##morning@#@ 22 <class 'str'> 2716494737696\n",
      "good#@##morning 15\n",
      "good#@##morning@#@ 18\n",
      "#@@#good#@##morning 19\n"
     ]
    }
   ],
   "source": [
    "mystr = \"#@@#good#@##morning@#@\"\n",
    "print (mystr, len(mystr), type(mystr), id(mystr))\n",
    "result = mystr.strip(\"#@\")\n",
    "print (result, len(result))\n",
    "result = mystr.lstrip(\"@#\")\n",
    "print (result, len(result))\n",
    "result = mystr.rstrip(\"#@\")\n",
    "print (result, len(result))"
   ]
  },
  {
   "cell_type": "code",
   "execution_count": 86,
   "id": "04a3fd9b-39d5-4759-a80b-9e1cec5377c6",
   "metadata": {},
   "outputs": [
    {
     "name": "stdout",
     "output_type": "stream",
     "text": [
      "charity begins at home 22 <class 'str'> 2716492723904\n",
      "['charity', 'begins', 'at', 'home'] <class 'list'>\n",
      "['char', 'ty beg', 'ns at home'] <class 'list'>\n",
      "['charity begins at home'] <class 'list'>\n"
     ]
    }
   ],
   "source": [
    "mystr = \"charity begins at home\"\n",
    "print (mystr, len(mystr), type(mystr), id(mystr))\n",
    "result = mystr.split()\n",
    "print (result, type(result))\n",
    "result = mystr.split(\"i\")\n",
    "print (result, type(result))\n",
    "result = mystr.split(\"x\")\n",
    "print (result, type(result))"
   ]
  },
  {
   "cell_type": "code",
   "execution_count": 90,
   "id": "dcbd926d-d54f-43f7-9740-7f1cec4daba3",
   "metadata": {},
   "outputs": [
    {
     "name": "stdout",
     "output_type": "stream",
     "text": [
      "['charity', 'begins', 'at', 'home'] 4 <class 'list'> 2716497968640\n",
      "charity begins at home 22 <class 'str'> 2716487640448\n",
      "charity, begins, at, home 25 <class 'str'> 2716499342160\n",
      "charity - begins - at - home 28 <class 'str'> 2716499341920\n"
     ]
    }
   ],
   "source": [
    "list1 = ['charity', 'begins', 'at', 'home']\n",
    "print (list1, len(list1), type(list1), id(list1))\n",
    "mystr = \" \".join(list1)\n",
    "print (mystr, len(mystr), type(mystr), id(mystr))\n",
    "mystr = \", \".join(list1)\n",
    "print (mystr, len(mystr), type(mystr), id(mystr))\n",
    "mystr = \" - \".join(list1)\n",
    "print (mystr, len(mystr), type(mystr), id(mystr))"
   ]
  },
  {
   "cell_type": "code",
   "execution_count": 97,
   "id": "5d7f2200-422e-454e-adc3-4ca53537ba3c",
   "metadata": {},
   "outputs": [
    {
     "name": "stdout",
     "output_type": "stream",
     "text": [
      "u, n, i, v, e, r, s, i, t, y, \n",
      "u, n, i, v, e, r, s, i, t, y, \n"
     ]
    }
   ],
   "source": [
    "mystr = \"university\"\n",
    "for i in range(len(mystr)):\n",
    "    print (mystr[i], end = \", \")\n",
    "\n",
    "print()\n",
    "\n",
    "for ch in mystr:\n",
    "    print (ch, end = \", \")\n",
    "    \n",
    "print ()"
   ]
  },
  {
   "cell_type": "code",
   "execution_count": 98,
   "id": "f54873cf-1e25-48cf-b58f-b122f7848bc7",
   "metadata": {},
   "outputs": [
    {
     "ename": "TypeError",
     "evalue": "'str' object does not support item assignment",
     "output_type": "error",
     "traceback": [
      "\u001b[1;31m---------------------------------------------------------------------------\u001b[0m",
      "\u001b[1;31mTypeError\u001b[0m                                 Traceback (most recent call last)",
      "\u001b[1;32m<ipython-input-98-c4fba89c710f>\u001b[0m in \u001b[0;36m<module>\u001b[1;34m\u001b[0m\n\u001b[1;32m----> 1\u001b[1;33m \u001b[0mmystr\u001b[0m\u001b[1;33m[\u001b[0m\u001b[1;36m3\u001b[0m\u001b[1;33m]\u001b[0m \u001b[1;33m=\u001b[0m \u001b[1;34m\"y\"\u001b[0m\u001b[1;33m\u001b[0m\u001b[1;33m\u001b[0m\u001b[0m\n\u001b[0m",
      "\u001b[1;31mTypeError\u001b[0m: 'str' object does not support item assignment"
     ]
    }
   ],
   "source": [
    "mystr[3] = \"y\""
   ]
  },
  {
   "cell_type": "markdown",
   "id": "5f8d48b6-0d04-4c24-ba87-e852e6982192",
   "metadata": {},
   "source": [
    "**CLASS ASSIGNMENT-2 / Day-2**\n",
    "> Take a sentence with upper and lower case letters and other characters from the user and find the number of vowels and consonants in the given string."
   ]
  },
  {
   "cell_type": "code",
   "execution_count": 157,
   "id": "01d45675-e946-4cab-9265-f451546862b5",
   "metadata": {},
   "outputs": [
    {
     "name": "stdin",
     "output_type": "stream",
     "text": [
      "Please enter a sentence:  Ram is good.\n"
     ]
    },
    {
     "name": "stdout",
     "output_type": "stream",
     "text": [
      "So number of vowels is 4 and consonant is 5...\n",
      "End of the program...\n"
     ]
    }
   ],
   "source": [
    "mystr = input(\"Please enter a sentence: \").lower()\n",
    "vcount = ccount = 0\n",
    "for ch in mystr:\n",
    "    if (ch.isalpha()):\n",
    "        if (ch in \"aeiou\"): vcount += 1\n",
    "        else: ccount += 1\n",
    "print (f\"So number of vowels is {vcount} and consonant is {ccount}...\")\n",
    "print (\"End of the program...\")"
   ]
  },
  {
   "cell_type": "code",
   "execution_count": null,
   "id": "226c6cc7-2323-49b6-9efc-d929cc9c73a7",
   "metadata": {},
   "outputs": [],
   "source": []
  },
  {
   "cell_type": "markdown",
   "id": "47dfa0d6-84b5-4afe-aac3-1aab27dbbc87",
   "metadata": {},
   "source": [
    "### Dealing with the List Processing"
   ]
  },
  {
   "cell_type": "markdown",
   "id": "3f1c57f0-94ea-40f2-ac3a-b918a2d4a565",
   "metadata": {},
   "source": [
    ">List is a collection of data items of same or different datatypes enclosed with in square brackets. List items are mutable as INSERT, DELETE and UPDATE operations can be carried out on them."
   ]
  },
  {
   "cell_type": "code",
   "execution_count": 101,
   "id": "7b9f811d-f808-46d3-a892-9912bcfc82ef",
   "metadata": {},
   "outputs": [
    {
     "name": "stdout",
     "output_type": "stream",
     "text": [
      "[100, 500, 200, 400, 300] 5 <class 'list'> 2716500672192\n",
      "500 100\n",
      "1500 300.0\n"
     ]
    }
   ],
   "source": [
    "list1 = [100, 500, 200, 400, 300]\n",
    "print (list1, len(list1), type(list1), id(list1))\n",
    "print (max(list1), min(list1))\n",
    "print (sum(list1), sum(list1) / len(list1))"
   ]
  },
  {
   "cell_type": "code",
   "execution_count": 105,
   "id": "66bf8aa2-e1ad-49ab-adfa-0899f58f32d0",
   "metadata": {},
   "outputs": [
    {
     "name": "stdout",
     "output_type": "stream",
     "text": [
      "['Monday', 'Friday', 'Thursday', 'Tuesday', 'Sunday'] 5 <class 'list'> 2716497400128\n",
      "Tuesday Friday\n"
     ]
    },
    {
     "ename": "TypeError",
     "evalue": "unsupported operand type(s) for +: 'int' and 'str'",
     "output_type": "error",
     "traceback": [
      "\u001b[1;31m---------------------------------------------------------------------------\u001b[0m",
      "\u001b[1;31mTypeError\u001b[0m                                 Traceback (most recent call last)",
      "\u001b[1;32m<ipython-input-105-f46b71805974>\u001b[0m in \u001b[0;36m<module>\u001b[1;34m\u001b[0m\n\u001b[0;32m      2\u001b[0m \u001b[0mprint\u001b[0m \u001b[1;33m(\u001b[0m\u001b[0mlist1\u001b[0m\u001b[1;33m,\u001b[0m \u001b[0mlen\u001b[0m\u001b[1;33m(\u001b[0m\u001b[0mlist1\u001b[0m\u001b[1;33m)\u001b[0m\u001b[1;33m,\u001b[0m \u001b[0mtype\u001b[0m\u001b[1;33m(\u001b[0m\u001b[0mlist1\u001b[0m\u001b[1;33m)\u001b[0m\u001b[1;33m,\u001b[0m \u001b[0mid\u001b[0m\u001b[1;33m(\u001b[0m\u001b[0mlist1\u001b[0m\u001b[1;33m)\u001b[0m\u001b[1;33m)\u001b[0m\u001b[1;33m\u001b[0m\u001b[1;33m\u001b[0m\u001b[0m\n\u001b[0;32m      3\u001b[0m \u001b[0mprint\u001b[0m \u001b[1;33m(\u001b[0m\u001b[0mmax\u001b[0m\u001b[1;33m(\u001b[0m\u001b[0mlist1\u001b[0m\u001b[1;33m)\u001b[0m\u001b[1;33m,\u001b[0m \u001b[0mmin\u001b[0m\u001b[1;33m(\u001b[0m\u001b[0mlist1\u001b[0m\u001b[1;33m)\u001b[0m\u001b[1;33m)\u001b[0m\u001b[1;33m\u001b[0m\u001b[1;33m\u001b[0m\u001b[0m\n\u001b[1;32m----> 4\u001b[1;33m \u001b[0mprint\u001b[0m \u001b[1;33m(\u001b[0m\u001b[0msum\u001b[0m\u001b[1;33m(\u001b[0m\u001b[0mlist1\u001b[0m\u001b[1;33m)\u001b[0m\u001b[1;33m,\u001b[0m \u001b[0msum\u001b[0m\u001b[1;33m(\u001b[0m\u001b[0mlist1\u001b[0m\u001b[1;33m)\u001b[0m \u001b[1;33m/\u001b[0m \u001b[0mlen\u001b[0m\u001b[1;33m(\u001b[0m\u001b[0mlist1\u001b[0m\u001b[1;33m)\u001b[0m\u001b[1;33m)\u001b[0m\u001b[1;33m\u001b[0m\u001b[1;33m\u001b[0m\u001b[0m\n\u001b[0m",
      "\u001b[1;31mTypeError\u001b[0m: unsupported operand type(s) for +: 'int' and 'str'"
     ]
    }
   ],
   "source": [
    "list1 = [\"Monday\", \"Friday\", \"Thursday\", \"Tuesday\", \"Sunday\"]\n",
    "print (list1, len(list1), type(list1), id(list1))\n",
    "print (max(list1), min(list1))\n",
    "print (sum(list1), sum(list1) / len(list1))"
   ]
  },
  {
   "cell_type": "code",
   "execution_count": 106,
   "id": "761cb401-4500-45f5-9fda-e90ad900fce2",
   "metadata": {},
   "outputs": [
    {
     "name": "stdout",
     "output_type": "stream",
     "text": [
      "['Monday', 900, 'Friday', 'Thursday', 700, 'Tuesday', 'Sunday'] 7 <class 'list'> 2716498678336\n"
     ]
    },
    {
     "ename": "TypeError",
     "evalue": "'>' not supported between instances of 'int' and 'str'",
     "output_type": "error",
     "traceback": [
      "\u001b[1;31m---------------------------------------------------------------------------\u001b[0m",
      "\u001b[1;31mTypeError\u001b[0m                                 Traceback (most recent call last)",
      "\u001b[1;32m<ipython-input-106-4461b050e2fb>\u001b[0m in \u001b[0;36m<module>\u001b[1;34m\u001b[0m\n\u001b[0;32m      1\u001b[0m \u001b[0mlist1\u001b[0m \u001b[1;33m=\u001b[0m \u001b[1;33m[\u001b[0m\u001b[1;34m\"Monday\"\u001b[0m\u001b[1;33m,\u001b[0m \u001b[1;36m900\u001b[0m\u001b[1;33m,\u001b[0m \u001b[1;34m\"Friday\"\u001b[0m\u001b[1;33m,\u001b[0m \u001b[1;34m\"Thursday\"\u001b[0m\u001b[1;33m,\u001b[0m \u001b[1;36m700\u001b[0m\u001b[1;33m,\u001b[0m \u001b[1;34m\"Tuesday\"\u001b[0m\u001b[1;33m,\u001b[0m \u001b[1;34m\"Sunday\"\u001b[0m\u001b[1;33m]\u001b[0m\u001b[1;33m\u001b[0m\u001b[1;33m\u001b[0m\u001b[0m\n\u001b[0;32m      2\u001b[0m \u001b[0mprint\u001b[0m \u001b[1;33m(\u001b[0m\u001b[0mlist1\u001b[0m\u001b[1;33m,\u001b[0m \u001b[0mlen\u001b[0m\u001b[1;33m(\u001b[0m\u001b[0mlist1\u001b[0m\u001b[1;33m)\u001b[0m\u001b[1;33m,\u001b[0m \u001b[0mtype\u001b[0m\u001b[1;33m(\u001b[0m\u001b[0mlist1\u001b[0m\u001b[1;33m)\u001b[0m\u001b[1;33m,\u001b[0m \u001b[0mid\u001b[0m\u001b[1;33m(\u001b[0m\u001b[0mlist1\u001b[0m\u001b[1;33m)\u001b[0m\u001b[1;33m)\u001b[0m\u001b[1;33m\u001b[0m\u001b[1;33m\u001b[0m\u001b[0m\n\u001b[1;32m----> 3\u001b[1;33m \u001b[0mprint\u001b[0m \u001b[1;33m(\u001b[0m\u001b[0mmax\u001b[0m\u001b[1;33m(\u001b[0m\u001b[0mlist1\u001b[0m\u001b[1;33m)\u001b[0m\u001b[1;33m,\u001b[0m \u001b[0mmin\u001b[0m\u001b[1;33m(\u001b[0m\u001b[0mlist1\u001b[0m\u001b[1;33m)\u001b[0m\u001b[1;33m)\u001b[0m\u001b[1;33m\u001b[0m\u001b[1;33m\u001b[0m\u001b[0m\n\u001b[0m\u001b[0;32m      4\u001b[0m \u001b[0mprint\u001b[0m \u001b[1;33m(\u001b[0m\u001b[0msum\u001b[0m\u001b[1;33m(\u001b[0m\u001b[0mlist1\u001b[0m\u001b[1;33m)\u001b[0m\u001b[1;33m,\u001b[0m \u001b[0msum\u001b[0m\u001b[1;33m(\u001b[0m\u001b[0mlist1\u001b[0m\u001b[1;33m)\u001b[0m \u001b[1;33m/\u001b[0m \u001b[0mlen\u001b[0m\u001b[1;33m(\u001b[0m\u001b[0mlist1\u001b[0m\u001b[1;33m)\u001b[0m\u001b[1;33m)\u001b[0m\u001b[1;33m\u001b[0m\u001b[1;33m\u001b[0m\u001b[0m\n",
      "\u001b[1;31mTypeError\u001b[0m: '>' not supported between instances of 'int' and 'str'"
     ]
    }
   ],
   "source": [
    "list1 = [\"Monday\", 900, \"Friday\", \"Thursday\", 700, \"Tuesday\", \"Sunday\"]\n",
    "print (list1, len(list1), type(list1), id(list1))\n",
    "print (max(list1), min(list1))\n",
    "print (sum(list1), sum(list1) / len(list1))"
   ]
  },
  {
   "cell_type": "code",
   "execution_count": 109,
   "id": "407cfb95-37da-469e-9736-94b106ab2efc",
   "metadata": {},
   "outputs": [
    {
     "name": "stdout",
     "output_type": "stream",
     "text": [
      "[100, 500.45, 200, False, 400.5, True, 300] 7 <class 'list'> 2716499104448\n",
      "500.45 False\n",
      "1501.95 214.56428571428572\n"
     ]
    }
   ],
   "source": [
    "list1 = [100, 500.45, 200, False, 400.5, True, 300]\n",
    "print (list1, len(list1), type(list1), id(list1))\n",
    "print (max(list1), min(list1))\n",
    "print (sum(list1), sum(list1) / len(list1))"
   ]
  },
  {
   "cell_type": "code",
   "execution_count": null,
   "id": "602888b2-38a5-418f-9918-b49a778bfadd",
   "metadata": {},
   "outputs": [],
   "source": [
    "# list indexing and slicing\n",
    "index from left to right ->   0        1          2         3           4\n",
    "                   list1 -> [\"Sunday\" \"Tuesday\", \"Friday\", \"Saturday\", \"Thursday\"]\n",
    "index from right to left ->  -5       -4         -3        -2          -1          "
   ]
  },
  {
   "cell_type": "code",
   "execution_count": 124,
   "id": "d3df306b-a442-4e43-843b-890b98adad45",
   "metadata": {},
   "outputs": [
    {
     "name": "stdout",
     "output_type": "stream",
     "text": [
      "Friday Friday Thursday Thursday\n",
      "['Sunday', 'Friday', 'Thursday'] ['Tuesday', 'Saturday'] ['Thursday', 'Saturday', 'Friday', 'Tuesday', 'Sunday']\n",
      "tur tur\n"
     ]
    }
   ],
   "source": [
    "list1 = [\"Sunday\", \"Tuesday\", \"Friday\", \"Saturday\", \"Thursday\"]\n",
    "print (list1[2], list1[-3], list1[4], list1[-1])\n",
    "print (list1[0::2], list1[1::2], list1[::-1])\n",
    "print (list1[3][2:5], list1[-2][-6:-3])"
   ]
  },
  {
   "cell_type": "code",
   "execution_count": 138,
   "id": "20df87e4-02ae-49bc-b652-c13badc7cbe7",
   "metadata": {},
   "outputs": [
    {
     "name": "stdout",
     "output_type": "stream",
     "text": [
      "[] 0 <class 'list'> 2716500198528\n",
      "() 0 <class 'tuple'> 2716400418880\n",
      "{} 0 <class 'dict'> 2716498525376\n",
      "set() 0 <class 'set'> 2716500447008\n",
      "frozenset() 0 <class 'frozenset'> 2716457736896\n",
      "(9,) <class 'tuple'> 2716497721952\n"
     ]
    }
   ],
   "source": [
    "# defining empty list, empty tuple, empty dictionary, empty set and empty frozen-set\n",
    "var1 = []    # empty list\n",
    "print (var1, len(var1), type(var1), id(var1))\n",
    "var1 = ()    # empty tuple\n",
    "print (var1, len(var1), type(var1), id(var1))\n",
    "var1 = {}    # empty dictionary\n",
    "print (var1, len(var1), type(var1), id(var1))\n",
    "var1 = set() # empty set\n",
    "print (var1, len(var1), type(var1), id(var1))\n",
    "var1 = frozenset([])   # empty frozen set\n",
    "print (var1, len(var1), type(var1), id(var1))\n",
    "var1 = (9,)     # singleton representation of a tuple\n",
    "print (var1, type(var1), id(var1))"
   ]
  },
  {
   "cell_type": "code",
   "execution_count": 144,
   "id": "3d7999c8-bd0e-44d7-b60e-1471d49877c6",
   "metadata": {},
   "outputs": [
    {
     "name": "stdout",
     "output_type": "stream",
     "text": [
      "my word mississippi 19\n",
      "['m', 'y', ' ', 'w', 'o', 'r', 'd', ' ', 'm', 'i', 's', 's', 'i', 's', 's', 'i', 'p', 'p', 'i'] 19 <class 'list'> 2716497758400\n",
      "('m', 'y', ' ', 'w', 'o', 'r', 'd', ' ', 'm', 'i', 's', 's', 'i', 's', 's', 'i', 'p', 'p', 'i') 19 <class 'tuple'> 2716497859200\n",
      "{'m', 'p', 'o', 'i', 'w', ' ', 'd', 'r', 's', 'y'} 10 <class 'set'> 2716504046720\n",
      "frozenset({'m', 'p', 'o', 'i', 'w', ' ', 'd', 'r', 's', 'y'}) 10 <class 'frozenset'> 2716495411008\n"
     ]
    }
   ],
   "source": [
    "# converting string to list, tuple, set and frozen set\n",
    "mystr = \"my word mississippi\"\n",
    "print (mystr, len(mystr))\n",
    "result = list(mystr)\n",
    "print (result, len(result), type(result), id(result))\n",
    "result = tuple(mystr)\n",
    "print (result, len(result), type(result), id(result))\n",
    "result = set(mystr)\n",
    "print (result, len(result), type(result), id(result))\n",
    "result = frozenset(mystr)\n",
    "print (result, len(result), type(result), id(result))"
   ]
  },
  {
   "cell_type": "code",
   "execution_count": 147,
   "id": "427e11b9-5d6a-43ed-a59a-4913a77e8449",
   "metadata": {},
   "outputs": [
    {
     "name": "stdout",
     "output_type": "stream",
     "text": [
      "['Monday', 'Thursday', 'Tuesday', 'Sunday'] 4 <class 'list'> 2716496553984\n",
      "['Monday', 'Thursday', 'Tuesday', 'Sunday', 'Saturday'] 5 <class 'list'> 2716496553984\n",
      "['Monday', 'Thursday', 'Tuesday', 'Sunday', 'Saturday', 'Friday'] 6 <class 'list'> 2716496553984\n",
      "['Monday', 'Thursday', 'Tuesday', 'Sunday', 'Saturday', 'Friday', 'Wednesday'] 7 <class 'list'> 2716496553984\n"
     ]
    }
   ],
   "source": [
    "# insert opeation on list\n",
    "list1 = [\"Monday\", \"Thursday\", \"Tuesday\", \"Sunday\"]\n",
    "print (list1, len(list1), type(list1), id(list1))\n",
    "list1.append(\"Saturday\")\n",
    "print (list1, len(list1), type(list1), id(list1))\n",
    "list1.append(\"Friday\")\n",
    "print (list1, len(list1), type(list1), id(list1))\n",
    "list1.append(\"Wednesday\")\n",
    "print (list1, len(list1), type(list1), id(list1))"
   ]
  },
  {
   "cell_type": "code",
   "execution_count": 151,
   "id": "7d6d28d4-ab0c-4f0c-9093-db2f23b52646",
   "metadata": {},
   "outputs": [
    {
     "name": "stdout",
     "output_type": "stream",
     "text": [
      "['Monday', 'Thursday', 'Tuesday', 'Sunday'] 4 <class 'list'> 2716493376768\n",
      "['Monday', 'Thursday', 'Saturday', 'Tuesday', 'Sunday'] 5 <class 'list'> 2716493376768\n",
      "['Monday', 'Thursday', 'Saturday', 'Tuesday', 'Friday', 'Sunday'] 6 <class 'list'> 2716493376768\n",
      "['Monday', 'Wednesday', 'Thursday', 'Saturday', 'Tuesday', 'Friday', 'Sunday'] 7 <class 'list'> 2716493376768\n",
      "['Monday', 'Wednesday', 'Thursday', 'Saturday', 'Tuesday', 'Friday', 'Sunday', 'Weekday'] 8 <class 'list'> 2716493376768\n"
     ]
    }
   ],
   "source": [
    "list1 = [\"Monday\", \"Thursday\", \"Tuesday\", \"Sunday\"]\n",
    "print (list1, len(list1), type(list1), id(list1))\n",
    "list1.insert(2, \"Saturday\")\n",
    "print (list1, len(list1), type(list1), id(list1))\n",
    "list1.insert(4, \"Friday\")\n",
    "print (list1, len(list1), type(list1), id(list1))\n",
    "list1.insert(1, \"Wednesday\")\n",
    "print (list1, len(list1), type(list1), id(list1))\n",
    "list1.insert(100, \"Weekday\")\n",
    "print (list1, len(list1), type(list1), id(list1))"
   ]
  },
  {
   "cell_type": "code",
   "execution_count": 153,
   "id": "5a1b1569-ca2e-4fdc-91d1-619c0d509706",
   "metadata": {},
   "outputs": [
    {
     "name": "stdout",
     "output_type": "stream",
     "text": [
      "['Monday', 'Thursday', 'Saturday', 'Tuesday', 'Friday', 'Sunday'] 6 <class 'list'> 2716503464896\n",
      "[] 0 <class 'list'> 2716503464896\n"
     ]
    }
   ],
   "source": [
    "# delete opeation on list\n",
    "list1 = ['Monday', 'Thursday', 'Saturday', 'Tuesday', 'Friday', 'Sunday']\n",
    "print (list1, len(list1), type(list1), id(list1))\n",
    "list1.clear()\n",
    "print (list1, len(list1), type(list1), id(list1))"
   ]
  },
  {
   "cell_type": "code",
   "execution_count": 154,
   "id": "16084152-56c0-41f8-b8ad-04b819fbf7bb",
   "metadata": {},
   "outputs": [
    {
     "name": "stdout",
     "output_type": "stream",
     "text": [
      "['Monday', 'Thursday', 'Saturday', 'Tuesday', 'Friday', 'Sunday'] 6 <class 'list'> 2716496488640\n"
     ]
    },
    {
     "ename": "NameError",
     "evalue": "name 'list1' is not defined",
     "output_type": "error",
     "traceback": [
      "\u001b[1;31m---------------------------------------------------------------------------\u001b[0m",
      "\u001b[1;31mNameError\u001b[0m                                 Traceback (most recent call last)",
      "\u001b[1;32m<ipython-input-154-7f9073c1b939>\u001b[0m in \u001b[0;36m<module>\u001b[1;34m\u001b[0m\n\u001b[0;32m      2\u001b[0m \u001b[0mprint\u001b[0m \u001b[1;33m(\u001b[0m\u001b[0mlist1\u001b[0m\u001b[1;33m,\u001b[0m \u001b[0mlen\u001b[0m\u001b[1;33m(\u001b[0m\u001b[0mlist1\u001b[0m\u001b[1;33m)\u001b[0m\u001b[1;33m,\u001b[0m \u001b[0mtype\u001b[0m\u001b[1;33m(\u001b[0m\u001b[0mlist1\u001b[0m\u001b[1;33m)\u001b[0m\u001b[1;33m,\u001b[0m \u001b[0mid\u001b[0m\u001b[1;33m(\u001b[0m\u001b[0mlist1\u001b[0m\u001b[1;33m)\u001b[0m\u001b[1;33m)\u001b[0m\u001b[1;33m\u001b[0m\u001b[1;33m\u001b[0m\u001b[0m\n\u001b[0;32m      3\u001b[0m \u001b[1;32mdel\u001b[0m \u001b[0mlist1\u001b[0m\u001b[1;33m\u001b[0m\u001b[1;33m\u001b[0m\u001b[0m\n\u001b[1;32m----> 4\u001b[1;33m \u001b[0mprint\u001b[0m \u001b[1;33m(\u001b[0m\u001b[0mlist1\u001b[0m\u001b[1;33m,\u001b[0m \u001b[0mlen\u001b[0m\u001b[1;33m(\u001b[0m\u001b[0mlist1\u001b[0m\u001b[1;33m)\u001b[0m\u001b[1;33m,\u001b[0m \u001b[0mtype\u001b[0m\u001b[1;33m(\u001b[0m\u001b[0mlist1\u001b[0m\u001b[1;33m)\u001b[0m\u001b[1;33m,\u001b[0m \u001b[0mid\u001b[0m\u001b[1;33m(\u001b[0m\u001b[0mlist1\u001b[0m\u001b[1;33m)\u001b[0m\u001b[1;33m)\u001b[0m\u001b[1;33m\u001b[0m\u001b[1;33m\u001b[0m\u001b[0m\n\u001b[0m",
      "\u001b[1;31mNameError\u001b[0m: name 'list1' is not defined"
     ]
    }
   ],
   "source": [
    "list1 = ['Monday', 'Thursday', 'Saturday', 'Tuesday', 'Friday', 'Sunday']\n",
    "print (list1, len(list1), type(list1), id(list1))\n",
    "del list1\n",
    "print (list1, len(list1), type(list1), id(list1))"
   ]
  },
  {
   "cell_type": "code",
   "execution_count": 160,
   "id": "99a8eaef-45ac-44a2-88b1-6a1a2e40faaa",
   "metadata": {},
   "outputs": [
    {
     "name": "stdout",
     "output_type": "stream",
     "text": [
      "['Monday', 'Thursday', 'Saturday', 'Tuesday', 'Friday', 'Sunday'] 6 <class 'list'> 2716502828544\n",
      "['Monday', 'Thursday', 'Tuesday', 'Friday', 'Sunday'] 5 <class 'list'> 2716502828544\n",
      "['Monday', 'Thursday', 'Tuesday', 'Friday'] 4 <class 'list'> 2716502828544\n"
     ]
    },
    {
     "ename": "ValueError",
     "evalue": "list.remove(x): x not in list",
     "output_type": "error",
     "traceback": [
      "\u001b[1;31m---------------------------------------------------------------------------\u001b[0m",
      "\u001b[1;31mValueError\u001b[0m                                Traceback (most recent call last)",
      "\u001b[1;32m<ipython-input-160-48a263281054>\u001b[0m in \u001b[0;36m<module>\u001b[1;34m\u001b[0m\n\u001b[0;32m      5\u001b[0m \u001b[0mlist1\u001b[0m\u001b[1;33m.\u001b[0m\u001b[0mremove\u001b[0m\u001b[1;33m(\u001b[0m\u001b[1;34m'Sunday'\u001b[0m\u001b[1;33m)\u001b[0m\u001b[1;33m\u001b[0m\u001b[1;33m\u001b[0m\u001b[0m\n\u001b[0;32m      6\u001b[0m \u001b[0mprint\u001b[0m \u001b[1;33m(\u001b[0m\u001b[0mlist1\u001b[0m\u001b[1;33m,\u001b[0m \u001b[0mlen\u001b[0m\u001b[1;33m(\u001b[0m\u001b[0mlist1\u001b[0m\u001b[1;33m)\u001b[0m\u001b[1;33m,\u001b[0m \u001b[0mtype\u001b[0m\u001b[1;33m(\u001b[0m\u001b[0mlist1\u001b[0m\u001b[1;33m)\u001b[0m\u001b[1;33m,\u001b[0m \u001b[0mid\u001b[0m\u001b[1;33m(\u001b[0m\u001b[0mlist1\u001b[0m\u001b[1;33m)\u001b[0m\u001b[1;33m)\u001b[0m\u001b[1;33m\u001b[0m\u001b[1;33m\u001b[0m\u001b[0m\n\u001b[1;32m----> 7\u001b[1;33m \u001b[0mlist1\u001b[0m\u001b[1;33m.\u001b[0m\u001b[0mremove\u001b[0m\u001b[1;33m(\u001b[0m\u001b[1;34m'Saturday'\u001b[0m\u001b[1;33m)\u001b[0m\u001b[1;33m\u001b[0m\u001b[1;33m\u001b[0m\u001b[0m\n\u001b[0m\u001b[0;32m      8\u001b[0m \u001b[0mprint\u001b[0m \u001b[1;33m(\u001b[0m\u001b[0mlist1\u001b[0m\u001b[1;33m,\u001b[0m \u001b[0mlen\u001b[0m\u001b[1;33m(\u001b[0m\u001b[0mlist1\u001b[0m\u001b[1;33m)\u001b[0m\u001b[1;33m,\u001b[0m \u001b[0mtype\u001b[0m\u001b[1;33m(\u001b[0m\u001b[0mlist1\u001b[0m\u001b[1;33m)\u001b[0m\u001b[1;33m,\u001b[0m \u001b[0mid\u001b[0m\u001b[1;33m(\u001b[0m\u001b[0mlist1\u001b[0m\u001b[1;33m)\u001b[0m\u001b[1;33m)\u001b[0m\u001b[1;33m\u001b[0m\u001b[1;33m\u001b[0m\u001b[0m\n",
      "\u001b[1;31mValueError\u001b[0m: list.remove(x): x not in list"
     ]
    }
   ],
   "source": [
    "list1 = ['Monday', 'Thursday', 'Saturday', 'Tuesday', 'Friday', 'Sunday']\n",
    "print (list1, len(list1), type(list1), id(list1))\n",
    "list1.remove('Saturday')\n",
    "print (list1, len(list1), type(list1), id(list1))\n",
    "list1.remove('Sunday')\n",
    "print (list1, len(list1), type(list1), id(list1))\n",
    "list1.remove('Saturday')\n",
    "print (list1, len(list1), type(list1), id(list1))"
   ]
  },
  {
   "cell_type": "code",
   "execution_count": 158,
   "id": "808113c7-7c66-47c2-8c20-c4b1c3fa0170",
   "metadata": {},
   "outputs": [
    {
     "name": "stdout",
     "output_type": "stream",
     "text": [
      "['Monday', 'Thursday', 'Saturday', 'Tuesday', 'Friday', 'Sunday'] 6 <class 'list'> 2716498046784\n",
      "['Monday', 'Thursday', 'Saturday', 'Wednesday', 'Friday', 'Sunday'] 6 <class 'list'> 2716498046784\n"
     ]
    }
   ],
   "source": [
    "# update opeation on list\n",
    "list1 = ['Monday', 'Thursday', 'Saturday', 'Tuesday', 'Friday', 'Sunday']\n",
    "print (list1, len(list1), type(list1), id(list1))\n",
    "list1[3] = \"Wednesday\"\n",
    "print (list1, len(list1), type(list1), id(list1))"
   ]
  },
  {
   "cell_type": "code",
   "execution_count": 162,
   "id": "9651f092-ec51-4b0d-abad-b5d16cdcad22",
   "metadata": {},
   "outputs": [
    {
     "name": "stdout",
     "output_type": "stream",
     "text": [
      "['Monday', 'Thursday', 'Saturday', 'Tuesday'] 4 <class 'list'> 2716502490880\n",
      "['Friday', 'Sunday'] 2 <class 'list'> 2716495608576\n",
      "['Monday', 'Thursday', 'Saturday', 'Tuesday', 'Friday', 'Sunday'] 6 <class 'list'> 2716503374528\n"
     ]
    }
   ],
   "source": [
    "list1 = ['Monday', 'Thursday', 'Saturday', 'Tuesday']\n",
    "print (list1, len(list1), type(list1), id(list1))\n",
    "list2 = ['Friday', 'Sunday']\n",
    "print (list2, len(list2), type(list2), id(list2))\n",
    "result = list1 + list2   # list concatenation\n",
    "print (result, len(result), type(result), id(result))"
   ]
  },
  {
   "cell_type": "code",
   "execution_count": 164,
   "id": "b5994dd3-a971-4a68-b627-ecde85359420",
   "metadata": {},
   "outputs": [
    {
     "name": "stdout",
     "output_type": "stream",
     "text": [
      "['Monday', 'Thursday', 'Saturday', 'Tuesday'] 4 <class 'list'> 2716502478784\n",
      "['Friday', 'Sunday'] 2 <class 'list'> 2716500713408\n",
      "['Monday', 'Thursday', 'Saturday', 'Tuesday', 'Friday', 'Sunday'] 6 <class 'list'> 2716502478784\n"
     ]
    }
   ],
   "source": [
    "list1 = ['Monday', 'Thursday', 'Saturday', 'Tuesday']\n",
    "print (list1, len(list1), type(list1), id(list1))\n",
    "list2 = ['Friday', 'Sunday']\n",
    "print (list2, len(list2), type(list2), id(list2))\n",
    "list1.extend(list2)   # extending the list\n",
    "print (list1, len(list1), type(list1), id(list1))"
   ]
  },
  {
   "cell_type": "code",
   "execution_count": 165,
   "id": "9ce16851-50ac-46a8-b593-adb78c304fdd",
   "metadata": {},
   "outputs": [
    {
     "name": "stdout",
     "output_type": "stream",
     "text": [
      "['Monday', 'Thursday', 'Saturday', 'Tuesday'] 4 <class 'list'> 2716498787968\n",
      "['Friday', 'Sunday'] 2 <class 'list'> 2716498787200\n",
      "[['Monday', 'Thursday', 'Saturday', 'Tuesday'], ['Friday', 'Sunday']] 2 <class 'list'> 2716502478784\n"
     ]
    }
   ],
   "source": [
    "list1 = ['Monday', 'Thursday', 'Saturday', 'Tuesday']\n",
    "print (list1, len(list1), type(list1), id(list1))\n",
    "list2 = ['Friday', 'Sunday']\n",
    "print (list2, len(list2), type(list2), id(list2))\n",
    "result = [list1, list2]   # list of lists\n",
    "print (result, len(result), type(result), id(result))"
   ]
  },
  {
   "cell_type": "code",
   "execution_count": 171,
   "id": "89341c3d-4199-4545-be67-923c672a5f9a",
   "metadata": {},
   "outputs": [
    {
     "name": "stdout",
     "output_type": "stream",
     "text": [
      "[['Monday', 'Thursday', 'Saturday', 'Tuesday'], ['Friday', 'Sunday']] 2 <class 'list'> 2716500944704\n",
      "Thursday Thursday Sunday Sunday\n",
      "tur tur\n"
     ]
    }
   ],
   "source": [
    "list1 = [['Monday', 'Thursday', 'Saturday', 'Tuesday'], ['Friday', 'Sunday']]\n",
    "print (list1, len(list1), type(list1), id(list1))\n",
    "print (list1[0][1], list1[-2][-3], list1[1][1], list1[-1][-1])\n",
    "print (list1[0][2][2:5], list1[-2][-2][-6:-3])"
   ]
  },
  {
   "cell_type": "code",
   "execution_count": 179,
   "id": "760c7e21-d1c4-4320-ba5a-3d765908c9f1",
   "metadata": {},
   "outputs": [
    {
     "name": "stdout",
     "output_type": "stream",
     "text": [
      "['Monday', 'Thursday', 'Saturday', 'Tuesday', 'Friday', 'Sunday'] 6 <class 'list'> 2716492762048\n",
      "['Friday', 'Monday', 'Saturday', 'Sunday', 'Thursday', 'Tuesday'] 6 <class 'list'> 2716492762048\n",
      "['Tuesday', 'Thursday', 'Sunday', 'Saturday', 'Monday', 'Friday'] 6 <class 'list'> 2716492762048\n"
     ]
    }
   ],
   "source": [
    "list1 = ['Monday', 'Thursday', 'Saturday', 'Tuesday', 'Friday', 'Sunday']\n",
    "print (list1, len(list1), type(list1), id(list1))\n",
    "list1.sort()\n",
    "print (list1, len(list1), type(list1), id(list1))\n",
    "list1.sort(reverse = True)\n",
    "print (list1, len(list1), type(list1), id(list1))"
   ]
  },
  {
   "cell_type": "code",
   "execution_count": 181,
   "id": "f30dfa5d-bdef-4d65-841b-ea439ba37229",
   "metadata": {},
   "outputs": [
    {
     "name": "stdout",
     "output_type": "stream",
     "text": [
      "['Monday', 'Thursday', 'Saturday', 'Tuesday', 'Friday', 'Sunday'] 6 <class 'list'> 2716503085184\n",
      "['Monday', 'Thursday', 'Saturday', 'Tuesday', 'Friday', 'Sunday'] 6 <class 'list'> 2716503085184\n",
      "['Friday', 'Monday', 'Saturday', 'Sunday', 'Thursday', 'Tuesday'] 6 <class 'list'> 2716503756544\n",
      "['Tuesday', 'Thursday', 'Sunday', 'Saturday', 'Monday', 'Friday'] 6 <class 'list'> 2716503776512\n"
     ]
    }
   ],
   "source": [
    "list1 = ['Monday', 'Thursday', 'Saturday', 'Tuesday', 'Friday', 'Sunday']\n",
    "print (list1, len(list1), type(list1), id(list1))\n",
    "result = sorted(list1)\n",
    "print (list1, len(list1), type(list1), id(list1))\n",
    "print (result, len(result), type(result), id(result))\n",
    "result = sorted(list1, reverse = True)\n",
    "print (result, len(result), type(result), id(result))"
   ]
  },
  {
   "cell_type": "code",
   "execution_count": 183,
   "id": "b2849f0a-bf7c-41e8-9643-421f38fad4cc",
   "metadata": {},
   "outputs": [
    {
     "name": "stdout",
     "output_type": "stream",
     "text": [
      "['Monday', 'Thursday', 'Saturday', 'Tuesday', 'Saturday', 'Friday', 'Sunday', 'Saturday'] 8 <class 'list'> 2716494910592\n",
      "3 1\n"
     ]
    }
   ],
   "source": [
    "list1 = ['Monday', 'Thursday', 'Saturday', 'Tuesday', 'Saturday', 'Friday', 'Sunday', 'Saturday']\n",
    "print (list1, len(list1), type(list1), id(list1))\n",
    "print (list1.count('Saturday'), list1.count('Tuesday'))"
   ]
  },
  {
   "cell_type": "code",
   "execution_count": 188,
   "id": "f59abbea-cb88-4766-ad57-526c45fee1fb",
   "metadata": {},
   "outputs": [
    {
     "name": "stdout",
     "output_type": "stream",
     "text": [
      "['Monday', 'Thursday', 'Saturday', 'Tuesday', 'Saturday', 'Friday', 'Sunday', 'Saturday'] 8 <class 'list'> 2716494682496\n",
      "2\n",
      "2\n",
      "4\n",
      "7\n"
     ]
    },
    {
     "ename": "ValueError",
     "evalue": "'Saturday' is not in list",
     "output_type": "error",
     "traceback": [
      "\u001b[1;31m---------------------------------------------------------------------------\u001b[0m",
      "\u001b[1;31mValueError\u001b[0m                                Traceback (most recent call last)",
      "\u001b[1;32m<ipython-input-188-103aa24113cb>\u001b[0m in \u001b[0;36m<module>\u001b[1;34m\u001b[0m\n\u001b[0;32m      5\u001b[0m \u001b[0mprint\u001b[0m \u001b[1;33m(\u001b[0m\u001b[0mlist1\u001b[0m\u001b[1;33m.\u001b[0m\u001b[0mindex\u001b[0m\u001b[1;33m(\u001b[0m\u001b[1;34m'Saturday'\u001b[0m\u001b[1;33m,\u001b[0m \u001b[1;36m3\u001b[0m\u001b[1;33m)\u001b[0m\u001b[1;33m)\u001b[0m\u001b[1;33m\u001b[0m\u001b[1;33m\u001b[0m\u001b[0m\n\u001b[0;32m      6\u001b[0m \u001b[0mprint\u001b[0m \u001b[1;33m(\u001b[0m\u001b[0mlist1\u001b[0m\u001b[1;33m.\u001b[0m\u001b[0mindex\u001b[0m\u001b[1;33m(\u001b[0m\u001b[1;34m'Saturday'\u001b[0m\u001b[1;33m,\u001b[0m \u001b[1;36m5\u001b[0m\u001b[1;33m)\u001b[0m\u001b[1;33m)\u001b[0m\u001b[1;33m\u001b[0m\u001b[1;33m\u001b[0m\u001b[0m\n\u001b[1;32m----> 7\u001b[1;33m \u001b[0mprint\u001b[0m \u001b[1;33m(\u001b[0m\u001b[0mlist1\u001b[0m\u001b[1;33m.\u001b[0m\u001b[0mindex\u001b[0m\u001b[1;33m(\u001b[0m\u001b[1;34m'Saturday'\u001b[0m\u001b[1;33m,\u001b[0m \u001b[1;36m8\u001b[0m\u001b[1;33m)\u001b[0m\u001b[1;33m)\u001b[0m\u001b[1;33m\u001b[0m\u001b[1;33m\u001b[0m\u001b[0m\n\u001b[0m",
      "\u001b[1;31mValueError\u001b[0m: 'Saturday' is not in list"
     ]
    }
   ],
   "source": [
    "list1 = ['Monday', 'Thursday', 'Saturday', 'Tuesday', 'Saturday', 'Friday', 'Sunday', 'Saturday']\n",
    "print (list1, len(list1), type(list1), id(list1))\n",
    "print (list1.index('Saturday'))\n",
    "print (list1.index('Saturday', 0))\n",
    "print (list1.index('Saturday', 3))\n",
    "print (list1.index('Saturday', 5))\n",
    "print (list1.index('Saturday', 8))"
   ]
  },
  {
   "cell_type": "code",
   "execution_count": 189,
   "id": "79de2458-211d-423b-8449-047613195f99",
   "metadata": {},
   "outputs": [
    {
     "name": "stdout",
     "output_type": "stream",
     "text": [
      "['Monday', 'Thursday', 'Saturday', 'Tuesday', 'Friday', 'Sunday'] 6 <class 'list'> 2716496148736\n",
      "Sunday\n",
      "['Monday', 'Thursday', 'Saturday', 'Tuesday', 'Friday'] 5 <class 'list'> 2716496148736\n",
      "Friday\n",
      "['Monday', 'Thursday', 'Saturday', 'Tuesday'] 4 <class 'list'> 2716496148736\n",
      "Tuesday\n",
      "['Monday', 'Thursday', 'Saturday'] 3 <class 'list'> 2716496148736\n",
      "Saturday\n",
      "['Monday', 'Thursday'] 2 <class 'list'> 2716496148736\n"
     ]
    }
   ],
   "source": [
    "list1 = ['Monday', 'Thursday', 'Saturday', 'Tuesday', 'Friday', 'Sunday']\n",
    "print (list1, len(list1), type(list1), id(list1))\n",
    "print (list1.pop())\n",
    "print (list1, len(list1), type(list1), id(list1))\n",
    "print (list1.pop())\n",
    "print (list1, len(list1), type(list1), id(list1))\n",
    "print (list1.pop())\n",
    "print (list1, len(list1), type(list1), id(list1))\n",
    "print (list1.pop())\n",
    "print (list1, len(list1), type(list1), id(list1))"
   ]
  },
  {
   "cell_type": "code",
   "execution_count": 216,
   "id": "3376b3bd-4cff-4635-acdb-594ece33b6e4",
   "metadata": {},
   "outputs": [
    {
     "name": "stdout",
     "output_type": "stream",
     "text": [
      "['Monday', 'Thursday', 'Saturday', 'Tuesday', 'Friday', 'Sunday'] 6 <class 'list'> 2716497419776\n",
      "Thursday\n",
      "['Monday', 'Saturday', 'Tuesday', 'Friday', 'Sunday'] 5 <class 'list'> 2716497419776\n",
      "Friday\n",
      "['Monday', 'Saturday', 'Tuesday', 'Sunday'] 4 <class 'list'> 2716497419776\n",
      "Tuesday\n",
      "['Monday', 'Saturday', 'Sunday'] 3 <class 'list'> 2716497419776\n",
      "Monday\n",
      "['Saturday', 'Sunday'] 2 <class 'list'> 2716497419776\n"
     ]
    }
   ],
   "source": [
    "list1 = ['Monday', 'Thursday', 'Saturday', 'Tuesday', 'Friday', 'Sunday']\n",
    "print (list1, len(list1), type(list1), id(list1))\n",
    "print (list1.pop(1))\n",
    "print (list1, len(list1), type(list1), id(list1))\n",
    "print (list1.pop(3))\n",
    "print (list1, len(list1), type(list1), id(list1))\n",
    "print (list1.pop(2))\n",
    "print (list1, len(list1), type(list1), id(list1))\n",
    "print (list1.pop(0))\n",
    "print (list1, len(list1), type(list1), id(list1))"
   ]
  },
  {
   "cell_type": "code",
   "execution_count": 208,
   "id": "dab2648d-f5d8-4dca-8629-d9f444304f4f",
   "metadata": {},
   "outputs": [
    {
     "name": "stdout",
     "output_type": "stream",
     "text": [
      "['Monday', 'Thursday', 'Saturday', 'Tuesday', 'Friday', 'Sunday'] 6 <class 'list'> 2716474996800\n",
      "['Monday', 'Thursday', 'Saturday', 'Tuesday', 'Friday', 'Sunday'] 6 <class 'list'> 2716474996800\n",
      "['Wednesday', 'Thursday', 'Saturday', 'Tuesday', 'Friday', 'Sunday'] 6 <class 'list'> 2716474996800\n",
      "['Wednesday', 'Thursday', 'Saturday', 'Tuesday', 'Friday', 'Sunday'] 6 <class 'list'> 2716474996800\n"
     ]
    }
   ],
   "source": [
    "list1 = ['Monday', 'Thursday', 'Saturday', 'Tuesday', 'Friday', 'Sunday']\n",
    "print (list1, len(list1), type(list1), id(list1))\n",
    "list2 = list1\n",
    "print (list2, len(list2), type(list2), id(list2))\n",
    "list1[0] = 'Wednesday'\n",
    "print (list1, len(list1), type(list1), id(list1))\n",
    "print (list2, len(list2), type(list2), id(list2))"
   ]
  },
  {
   "cell_type": "code",
   "execution_count": 210,
   "id": "6e3507da-4cdc-4363-a983-93a71ea01e90",
   "metadata": {},
   "outputs": [
    {
     "name": "stdout",
     "output_type": "stream",
     "text": [
      "['Monday', 'Thursday', 'Saturday', 'Tuesday', 'Friday', 'Sunday'] 6 <class 'list'> 2716497494784\n",
      "['Monday', 'Thursday', 'Saturday', 'Tuesday', 'Friday', 'Sunday'] 6 <class 'list'> 2716474996800\n",
      "['Wednesday', 'Thursday', 'Saturday', 'Tuesday', 'Friday', 'Sunday'] 6 <class 'list'> 2716497494784\n",
      "['Monday', 'Thursday', 'Saturday', 'Tuesday', 'Friday', 'Sunday'] 6 <class 'list'> 2716474996800\n"
     ]
    }
   ],
   "source": [
    "list1 = ['Monday', 'Thursday', 'Saturday', 'Tuesday', 'Friday', 'Sunday']\n",
    "print (list1, len(list1), type(list1), id(list1))\n",
    "list2[:] = list1\n",
    "print (list2, len(list2), type(list2), id(list2))\n",
    "list1[0] = 'Wednesday'\n",
    "print (list1, len(list1), type(list1), id(list1))\n",
    "print (list2, len(list2), type(list2), id(list2))"
   ]
  },
  {
   "cell_type": "code",
   "execution_count": 211,
   "id": "7a5d9361-9008-4a6d-9af0-a83df38ff5d6",
   "metadata": {},
   "outputs": [
    {
     "name": "stdout",
     "output_type": "stream",
     "text": [
      "['Monday', 'Thursday', 'Saturday', 'Tuesday', 'Friday', 'Sunday'] 6 <class 'list'> 2716495690816\n",
      "['Monday', 'Thursday', 'Saturday', 'Tuesday', 'Friday', 'Sunday'] 6 <class 'list'> 2716494007232\n",
      "['Wednesday', 'Thursday', 'Saturday', 'Tuesday', 'Friday', 'Sunday'] 6 <class 'list'> 2716495690816\n",
      "['Monday', 'Thursday', 'Saturday', 'Tuesday', 'Friday', 'Sunday'] 6 <class 'list'> 2716494007232\n"
     ]
    }
   ],
   "source": [
    "list1 = ['Monday', 'Thursday', 'Saturday', 'Tuesday', 'Friday', 'Sunday']\n",
    "print (list1, len(list1), type(list1), id(list1))\n",
    "list2 = list1.copy()\n",
    "print (list2, len(list2), type(list2), id(list2))\n",
    "list1[0] = 'Wednesday'\n",
    "print (list1, len(list1), type(list1), id(list1))\n",
    "print (list2, len(list2), type(list2), id(list2))"
   ]
  },
  {
   "cell_type": "code",
   "execution_count": 218,
   "id": "7f7c52ee-f272-4060-9b0d-0111ee93378f",
   "metadata": {},
   "outputs": [
    {
     "name": "stdout",
     "output_type": "stream",
     "text": [
      "['Monday', 'Thursday', 'Saturday', 'Tuesday', 'Friday', 'Sunday'] 6 <class 'list'> 2716493337984\n",
      "True\n",
      "['Monday', 'Thursday', False, 'Saturday', 'Tuesday', 'Friday', 'Sunday'] 7 <class 'list'> 2716498711744\n",
      "False\n"
     ]
    }
   ],
   "source": [
    "list1 = ['Monday', 'Thursday', 'Saturday', 'Tuesday', 'Friday', 'Sunday']\n",
    "print (list1, len(list1), type(list1), id(list1))\n",
    "print (all(list1))\n",
    "list1 = ['Monday', 'Thursday', False, 'Saturday', 'Tuesday', 'Friday', 'Sunday']\n",
    "print (list1, len(list1), type(list1), id(list1))\n",
    "print (all(list1))"
   ]
  },
  {
   "cell_type": "code",
   "execution_count": 221,
   "id": "89f1a4ac-8496-4fd9-90ba-6159a9ab7f1d",
   "metadata": {},
   "outputs": [
    {
     "name": "stdout",
     "output_type": "stream",
     "text": [
      "['Monday', 'Thursday', 'Saturday', 'Tuesday', 'Friday', 'Sunday'] 6 <class 'list'> 2716495679616\n",
      "True\n",
      "['Monday', 'Thursday', False, 'Saturday', 'Tuesday', 'Friday', 'Sunday'] 7 <class 'list'> 2716499643136\n",
      "True\n",
      "[False, False, False] 3 <class 'list'> 2716497418432\n",
      "False\n"
     ]
    }
   ],
   "source": [
    "list1 = ['Monday', 'Thursday', 'Saturday', 'Tuesday', 'Friday', 'Sunday']\n",
    "print (list1, len(list1), type(list1), id(list1))\n",
    "print (any(list1))\n",
    "list1 = ['Monday', 'Thursday', False, 'Saturday', 'Tuesday', 'Friday', 'Sunday']\n",
    "print (list1, len(list1), type(list1), id(list1))\n",
    "print (any(list1))\n",
    "list1 = [False, False, False]\n",
    "print (list1, len(list1), type(list1), id(list1))\n",
    "print (any(list1))"
   ]
  },
  {
   "cell_type": "code",
   "execution_count": 212,
   "id": "cc21c20d-5e92-4faf-a841-d748f1229eae",
   "metadata": {},
   "outputs": [
    {
     "name": "stdout",
     "output_type": "stream",
     "text": [
      "['Monday', 'Thursday', 'Saturday', 'Tuesday', 'Friday', 'Sunday'] 6 <class 'list'> 2716498342784\n",
      "['Monday', 'Thursday', 'Saturday', 'Wednesday', 'Friday', 'Sunday'] 6 <class 'list'> 2716498342784\n"
     ]
    }
   ],
   "source": [
    "def myfunct(mylist):\n",
    "    mylist[3] = 'Wednesday'\n",
    "    \n",
    "list1 = ['Monday', 'Thursday', 'Saturday', 'Tuesday', 'Friday', 'Sunday']\n",
    "print (list1, len(list1), type(list1), id(list1))\n",
    "myfunct(list1)\n",
    "print (list1, len(list1), type(list1), id(list1))"
   ]
  },
  {
   "cell_type": "markdown",
   "id": "be49d1d9-5d08-4673-913d-e3bdabd2ee18",
   "metadata": {},
   "source": [
    "### Dealing with the Tuple Processing\n",
    "> Tuple is a collection of data items of same or different datatypes enclosed with in first brackets. Tuples items are immutable as INSERT, DELETE and UPDATE operations can not be carried out on them."
   ]
  },
  {
   "cell_type": "code",
   "execution_count": 193,
   "id": "103f4e10-62e0-4a8f-ae8d-e64971e5db0e",
   "metadata": {},
   "outputs": [
    {
     "name": "stdout",
     "output_type": "stream",
     "text": [
      "(100, 500, 200, 400, 300) 5 <class 'tuple'> 2716495852064\n",
      "500 100\n",
      "1500 300.0\n"
     ]
    }
   ],
   "source": [
    "tuple1 = (100, 500, 200, 400, 300)\n",
    "print (tuple1, len(tuple1), type(tuple1), id(tuple1))\n",
    "print (max(tuple1), min(tuple1))\n",
    "print (sum(tuple1), sum(tuple1) / len(tuple1))"
   ]
  },
  {
   "cell_type": "code",
   "execution_count": 194,
   "id": "e9296ac4-4b85-4226-bf9e-82a26a42c47e",
   "metadata": {},
   "outputs": [
    {
     "name": "stdout",
     "output_type": "stream",
     "text": [
      "('Monday', 'Friday', 'Thursday', 'Tuesday', 'Sunday') 5 <class 'tuple'> 2716492705200\n",
      "Tuesday Friday\n"
     ]
    },
    {
     "ename": "TypeError",
     "evalue": "unsupported operand type(s) for +: 'int' and 'str'",
     "output_type": "error",
     "traceback": [
      "\u001b[1;31m---------------------------------------------------------------------------\u001b[0m",
      "\u001b[1;31mTypeError\u001b[0m                                 Traceback (most recent call last)",
      "\u001b[1;32m<ipython-input-194-ec338ebb34a5>\u001b[0m in \u001b[0;36m<module>\u001b[1;34m\u001b[0m\n\u001b[0;32m      2\u001b[0m \u001b[0mprint\u001b[0m \u001b[1;33m(\u001b[0m\u001b[0mtuple1\u001b[0m\u001b[1;33m,\u001b[0m \u001b[0mlen\u001b[0m\u001b[1;33m(\u001b[0m\u001b[0mtuple1\u001b[0m\u001b[1;33m)\u001b[0m\u001b[1;33m,\u001b[0m \u001b[0mtype\u001b[0m\u001b[1;33m(\u001b[0m\u001b[0mtuple1\u001b[0m\u001b[1;33m)\u001b[0m\u001b[1;33m,\u001b[0m \u001b[0mid\u001b[0m\u001b[1;33m(\u001b[0m\u001b[0mtuple1\u001b[0m\u001b[1;33m)\u001b[0m\u001b[1;33m)\u001b[0m\u001b[1;33m\u001b[0m\u001b[1;33m\u001b[0m\u001b[0m\n\u001b[0;32m      3\u001b[0m \u001b[0mprint\u001b[0m \u001b[1;33m(\u001b[0m\u001b[0mmax\u001b[0m\u001b[1;33m(\u001b[0m\u001b[0mtuple1\u001b[0m\u001b[1;33m)\u001b[0m\u001b[1;33m,\u001b[0m \u001b[0mmin\u001b[0m\u001b[1;33m(\u001b[0m\u001b[0mtuple1\u001b[0m\u001b[1;33m)\u001b[0m\u001b[1;33m)\u001b[0m\u001b[1;33m\u001b[0m\u001b[1;33m\u001b[0m\u001b[0m\n\u001b[1;32m----> 4\u001b[1;33m \u001b[0mprint\u001b[0m \u001b[1;33m(\u001b[0m\u001b[0msum\u001b[0m\u001b[1;33m(\u001b[0m\u001b[0mtuple1\u001b[0m\u001b[1;33m)\u001b[0m\u001b[1;33m,\u001b[0m \u001b[0msum\u001b[0m\u001b[1;33m(\u001b[0m\u001b[0mtuple1\u001b[0m\u001b[1;33m)\u001b[0m \u001b[1;33m/\u001b[0m \u001b[0mlen\u001b[0m\u001b[1;33m(\u001b[0m\u001b[0mtuple1\u001b[0m\u001b[1;33m)\u001b[0m\u001b[1;33m)\u001b[0m\u001b[1;33m\u001b[0m\u001b[1;33m\u001b[0m\u001b[0m\n\u001b[0m",
      "\u001b[1;31mTypeError\u001b[0m: unsupported operand type(s) for +: 'int' and 'str'"
     ]
    }
   ],
   "source": [
    "tuple1 = (\"Monday\", \"Friday\", \"Thursday\", \"Tuesday\", \"Sunday\")\n",
    "print (tuple1, len(tuple1), type(tuple1), id(tuple1))\n",
    "print (max(tuple1), min(tuple1))\n",
    "print (sum(tuple1), sum(tuple1) / len(tuple1))"
   ]
  },
  {
   "cell_type": "code",
   "execution_count": 195,
   "id": "a15ce225-6ada-4807-97b4-4cf0bb874542",
   "metadata": {},
   "outputs": [
    {
     "name": "stdout",
     "output_type": "stream",
     "text": [
      "('Monday', 900, 'Friday', 'Thursday', 700, 'Tuesday', 'Sunday') 7 <class 'tuple'> 2716495264352\n"
     ]
    },
    {
     "ename": "TypeError",
     "evalue": "'>' not supported between instances of 'int' and 'str'",
     "output_type": "error",
     "traceback": [
      "\u001b[1;31m---------------------------------------------------------------------------\u001b[0m",
      "\u001b[1;31mTypeError\u001b[0m                                 Traceback (most recent call last)",
      "\u001b[1;32m<ipython-input-195-65ea8b8c3fc0>\u001b[0m in \u001b[0;36m<module>\u001b[1;34m\u001b[0m\n\u001b[0;32m      1\u001b[0m \u001b[0mtuple1\u001b[0m \u001b[1;33m=\u001b[0m \u001b[1;33m(\u001b[0m\u001b[1;34m\"Monday\"\u001b[0m\u001b[1;33m,\u001b[0m \u001b[1;36m900\u001b[0m\u001b[1;33m,\u001b[0m \u001b[1;34m\"Friday\"\u001b[0m\u001b[1;33m,\u001b[0m \u001b[1;34m\"Thursday\"\u001b[0m\u001b[1;33m,\u001b[0m \u001b[1;36m700\u001b[0m\u001b[1;33m,\u001b[0m \u001b[1;34m\"Tuesday\"\u001b[0m\u001b[1;33m,\u001b[0m \u001b[1;34m\"Sunday\"\u001b[0m\u001b[1;33m)\u001b[0m\u001b[1;33m\u001b[0m\u001b[1;33m\u001b[0m\u001b[0m\n\u001b[0;32m      2\u001b[0m \u001b[0mprint\u001b[0m \u001b[1;33m(\u001b[0m\u001b[0mtuple1\u001b[0m\u001b[1;33m,\u001b[0m \u001b[0mlen\u001b[0m\u001b[1;33m(\u001b[0m\u001b[0mtuple1\u001b[0m\u001b[1;33m)\u001b[0m\u001b[1;33m,\u001b[0m \u001b[0mtype\u001b[0m\u001b[1;33m(\u001b[0m\u001b[0mtuple1\u001b[0m\u001b[1;33m)\u001b[0m\u001b[1;33m,\u001b[0m \u001b[0mid\u001b[0m\u001b[1;33m(\u001b[0m\u001b[0mtuple1\u001b[0m\u001b[1;33m)\u001b[0m\u001b[1;33m)\u001b[0m\u001b[1;33m\u001b[0m\u001b[1;33m\u001b[0m\u001b[0m\n\u001b[1;32m----> 3\u001b[1;33m \u001b[0mprint\u001b[0m \u001b[1;33m(\u001b[0m\u001b[0mmax\u001b[0m\u001b[1;33m(\u001b[0m\u001b[0mtuple1\u001b[0m\u001b[1;33m)\u001b[0m\u001b[1;33m,\u001b[0m \u001b[0mmin\u001b[0m\u001b[1;33m(\u001b[0m\u001b[0mtuple1\u001b[0m\u001b[1;33m)\u001b[0m\u001b[1;33m)\u001b[0m\u001b[1;33m\u001b[0m\u001b[1;33m\u001b[0m\u001b[0m\n\u001b[0m\u001b[0;32m      4\u001b[0m \u001b[0mprint\u001b[0m \u001b[1;33m(\u001b[0m\u001b[0msum\u001b[0m\u001b[1;33m(\u001b[0m\u001b[0mtuple1\u001b[0m\u001b[1;33m)\u001b[0m\u001b[1;33m,\u001b[0m \u001b[0msum\u001b[0m\u001b[1;33m(\u001b[0m\u001b[0mtuple1\u001b[0m\u001b[1;33m)\u001b[0m \u001b[1;33m/\u001b[0m \u001b[0mlen\u001b[0m\u001b[1;33m(\u001b[0m\u001b[0mtuple1\u001b[0m\u001b[1;33m)\u001b[0m\u001b[1;33m)\u001b[0m\u001b[1;33m\u001b[0m\u001b[1;33m\u001b[0m\u001b[0m\n",
      "\u001b[1;31mTypeError\u001b[0m: '>' not supported between instances of 'int' and 'str'"
     ]
    }
   ],
   "source": [
    "tuple1 = (\"Monday\", 900, \"Friday\", \"Thursday\", 700, \"Tuesday\", \"Sunday\")\n",
    "print (tuple1, len(tuple1), type(tuple1), id(tuple1))\n",
    "print (max(tuple1), min(tuple1))\n",
    "print (sum(tuple1), sum(tuple1) / len(tuple1))"
   ]
  },
  {
   "cell_type": "code",
   "execution_count": 196,
   "id": "53b3ddba-be8c-4c55-bab5-5e338f7246d0",
   "metadata": {},
   "outputs": [
    {
     "name": "stdout",
     "output_type": "stream",
     "text": [
      "(100, 500.45, 200, False, 400.5, True, 300) 7 <class 'tuple'> 2716498639552\n",
      "500.45 False\n",
      "1501.95 214.56428571428572\n"
     ]
    }
   ],
   "source": [
    "tuple1 = (100, 500.45, 200, False, 400.5, True, 300)\n",
    "print (tuple1, len(tuple1), type(tuple1), id(tuple1))\n",
    "print (max(tuple1), min(tuple1))\n",
    "print (sum(tuple1), sum(tuple1) / len(tuple1))"
   ]
  },
  {
   "cell_type": "code",
   "execution_count": null,
   "id": "0b3057e4-b8d6-4a25-8b00-752d8dd9ead6",
   "metadata": {},
   "outputs": [],
   "source": [
    "# tuple indexing and slicing\n",
    "index from left to right ->   0        1          2         3           4\n",
    "                  tuple1 -> (\"Sunday\" \"Tuesday\", \"Friday\", \"Saturday\", \"Thursday\")\n",
    "index from right to left ->  -5       -4         -3        -2          -1  "
   ]
  },
  {
   "cell_type": "code",
   "execution_count": 197,
   "id": "53f79d5e-3565-4bd6-a2cd-fa2b089c0bb4",
   "metadata": {},
   "outputs": [
    {
     "name": "stdout",
     "output_type": "stream",
     "text": [
      "Friday Friday Thursday Thursday\n",
      "('Sunday', 'Friday', 'Thursday') ('Tuesday', 'Saturday') ('Thursday', 'Saturday', 'Friday', 'Tuesday', 'Sunday')\n",
      "tur tur\n"
     ]
    }
   ],
   "source": [
    "tuple1 = (\"Sunday\", \"Tuesday\", \"Friday\", \"Saturday\", \"Thursday\")\n",
    "print (tuple1[2], tuple1[-3], tuple1[4], tuple1[-1])\n",
    "print (tuple1[0::2], tuple1[1::2], tuple1[::-1])\n",
    "print (tuple1[3][2:5], tuple1[-2][-6:-3])"
   ]
  },
  {
   "cell_type": "code",
   "execution_count": 199,
   "id": "f933264c-1f13-4ccf-b998-d177972168cf",
   "metadata": {},
   "outputs": [
    {
     "name": "stdout",
     "output_type": "stream",
     "text": [
      "('Monday', 'Thursday', 'Saturday', 'Tuesday', 'Friday', 'Sunday') 6 <class 'tuple'> 2716492692160\n"
     ]
    },
    {
     "ename": "NameError",
     "evalue": "name 'tuple1' is not defined",
     "output_type": "error",
     "traceback": [
      "\u001b[1;31m---------------------------------------------------------------------------\u001b[0m",
      "\u001b[1;31mNameError\u001b[0m                                 Traceback (most recent call last)",
      "\u001b[1;32m<ipython-input-199-09f2e9bf08f2>\u001b[0m in \u001b[0;36m<module>\u001b[1;34m\u001b[0m\n\u001b[0;32m      2\u001b[0m \u001b[0mprint\u001b[0m \u001b[1;33m(\u001b[0m\u001b[0mtuple1\u001b[0m\u001b[1;33m,\u001b[0m \u001b[0mlen\u001b[0m\u001b[1;33m(\u001b[0m\u001b[0mtuple1\u001b[0m\u001b[1;33m)\u001b[0m\u001b[1;33m,\u001b[0m \u001b[0mtype\u001b[0m\u001b[1;33m(\u001b[0m\u001b[0mtuple1\u001b[0m\u001b[1;33m)\u001b[0m\u001b[1;33m,\u001b[0m \u001b[0mid\u001b[0m\u001b[1;33m(\u001b[0m\u001b[0mtuple1\u001b[0m\u001b[1;33m)\u001b[0m\u001b[1;33m)\u001b[0m\u001b[1;33m\u001b[0m\u001b[1;33m\u001b[0m\u001b[0m\n\u001b[0;32m      3\u001b[0m \u001b[1;32mdel\u001b[0m \u001b[0mtuple1\u001b[0m\u001b[1;33m\u001b[0m\u001b[1;33m\u001b[0m\u001b[0m\n\u001b[1;32m----> 4\u001b[1;33m \u001b[0mprint\u001b[0m \u001b[1;33m(\u001b[0m\u001b[0mtuple1\u001b[0m\u001b[1;33m,\u001b[0m \u001b[0mlen\u001b[0m\u001b[1;33m(\u001b[0m\u001b[0mtuple1\u001b[0m\u001b[1;33m)\u001b[0m\u001b[1;33m,\u001b[0m \u001b[0mtype\u001b[0m\u001b[1;33m(\u001b[0m\u001b[0mtuple1\u001b[0m\u001b[1;33m)\u001b[0m\u001b[1;33m,\u001b[0m \u001b[0mid\u001b[0m\u001b[1;33m(\u001b[0m\u001b[0mtuple1\u001b[0m\u001b[1;33m)\u001b[0m\u001b[1;33m)\u001b[0m\u001b[1;33m\u001b[0m\u001b[1;33m\u001b[0m\u001b[0m\n\u001b[0m",
      "\u001b[1;31mNameError\u001b[0m: name 'tuple1' is not defined"
     ]
    }
   ],
   "source": [
    "tuple1 = ('Monday', 'Thursday', 'Saturday', 'Tuesday', 'Friday', 'Sunday')\n",
    "print (tuple1, len(tuple1), type(tuple1), id(tuple1))\n",
    "del tuple1\n",
    "print (tuple1, len(tuple1), type(tuple1), id(tuple1))"
   ]
  },
  {
   "cell_type": "code",
   "execution_count": 200,
   "id": "e2d87fe9-fe4f-4646-875a-1bda55c4f1d8",
   "metadata": {},
   "outputs": [
    {
     "name": "stdout",
     "output_type": "stream",
     "text": [
      "('Monday', 'Thursday', 'Saturday', 'Tuesday') 4 <class 'tuple'> 2716504136336\n",
      "('Friday', 'Sunday') 2 <class 'tuple'> 2716499545472\n",
      "('Monday', 'Thursday', 'Saturday', 'Tuesday', 'Friday', 'Sunday') 6 <class 'tuple'> 2716495262816\n"
     ]
    }
   ],
   "source": [
    "tuple1 = ('Monday', 'Thursday', 'Saturday', 'Tuesday')\n",
    "print (tuple1, len(tuple1), type(tuple1), id(tuple1))\n",
    "tuple2 = ('Friday', 'Sunday')\n",
    "print (tuple2, len(tuple2), type(tuple2), id(tuple2))\n",
    "result = tuple1 + tuple2   # tuple concatenation\n",
    "print (result, len(result), type(result), id(result))"
   ]
  },
  {
   "cell_type": "code",
   "execution_count": 201,
   "id": "c7db5e42-2372-47ba-ae3d-8cffb490cc40",
   "metadata": {},
   "outputs": [
    {
     "name": "stdout",
     "output_type": "stream",
     "text": [
      "('Monday', 'Thursday', 'Saturday', 'Tuesday') 4 <class 'tuple'> 2716502450640\n",
      "('Friday', 'Sunday') 2 <class 'tuple'> 2716496762496\n",
      "(('Monday', 'Thursday', 'Saturday', 'Tuesday'), ('Friday', 'Sunday')) 2 <class 'tuple'> 2716499147456\n"
     ]
    }
   ],
   "source": [
    "tuple1 = ('Monday', 'Thursday', 'Saturday', 'Tuesday')\n",
    "print (tuple1, len(tuple1), type(tuple1), id(tuple1))\n",
    "tuple2 = ('Friday', 'Sunday')\n",
    "print (tuple2, len(tuple2), type(tuple2), id(tuple2))\n",
    "result = (tuple1, tuple2)   # tuple of tuples\n",
    "print (result, len(result), type(result), id(result))"
   ]
  },
  {
   "cell_type": "code",
   "execution_count": 202,
   "id": "5c690428-5799-4b14-aaa6-9000c1bb5619",
   "metadata": {},
   "outputs": [
    {
     "name": "stdout",
     "output_type": "stream",
     "text": [
      "(('Monday', 'Thursday', 'Saturday', 'Tuesday'), ('Friday', 'Sunday')) 2 <class 'tuple'> 2716497258368\n",
      "Thursday Thursday Sunday Sunday\n",
      "tur tur\n"
     ]
    }
   ],
   "source": [
    "tuple1 = (('Monday', 'Thursday', 'Saturday', 'Tuesday'), ('Friday', 'Sunday'))\n",
    "print (tuple1, len(tuple1), type(tuple1), id(tuple1))\n",
    "print (tuple1[0][1], tuple1[-2][-3], tuple1[1][1], tuple1[-1][-1])\n",
    "print (tuple1[0][2][2:5], tuple1[-2][-2][-6:-3])"
   ]
  },
  {
   "cell_type": "code",
   "execution_count": 203,
   "id": "410db214-e341-48c4-befa-b12ef76989cf",
   "metadata": {},
   "outputs": [
    {
     "name": "stdout",
     "output_type": "stream",
     "text": [
      "('Monday', 'Thursday', 'Saturday', 'Tuesday', 'Saturday', 'Friday', 'Sunday', 'Saturday') 8 <class 'tuple'> 2716494927456\n",
      "3 1\n"
     ]
    }
   ],
   "source": [
    "tuple1 = ('Monday', 'Thursday', 'Saturday', 'Tuesday', 'Saturday', 'Friday', 'Sunday', 'Saturday')\n",
    "print (tuple1, len(tuple1), type(tuple1), id(tuple1))\n",
    "print (tuple1.count('Saturday'), tuple1.count('Tuesday'))"
   ]
  },
  {
   "cell_type": "code",
   "execution_count": 204,
   "id": "56aa23e4-348f-4899-82ee-0fe846390604",
   "metadata": {},
   "outputs": [
    {
     "name": "stdout",
     "output_type": "stream",
     "text": [
      "('Monday', 'Thursday', 'Saturday', 'Tuesday', 'Saturday', 'Friday', 'Sunday', 'Saturday') 8 <class 'tuple'> 2716492133984\n",
      "2\n",
      "2\n",
      "4\n",
      "7\n"
     ]
    },
    {
     "ename": "ValueError",
     "evalue": "tuple.index(x): x not in tuple",
     "output_type": "error",
     "traceback": [
      "\u001b[1;31m---------------------------------------------------------------------------\u001b[0m",
      "\u001b[1;31mValueError\u001b[0m                                Traceback (most recent call last)",
      "\u001b[1;32m<ipython-input-204-bcfb046ab5fa>\u001b[0m in \u001b[0;36m<module>\u001b[1;34m\u001b[0m\n\u001b[0;32m      5\u001b[0m \u001b[0mprint\u001b[0m \u001b[1;33m(\u001b[0m\u001b[0mtuple1\u001b[0m\u001b[1;33m.\u001b[0m\u001b[0mindex\u001b[0m\u001b[1;33m(\u001b[0m\u001b[1;34m'Saturday'\u001b[0m\u001b[1;33m,\u001b[0m \u001b[1;36m3\u001b[0m\u001b[1;33m)\u001b[0m\u001b[1;33m)\u001b[0m\u001b[1;33m\u001b[0m\u001b[1;33m\u001b[0m\u001b[0m\n\u001b[0;32m      6\u001b[0m \u001b[0mprint\u001b[0m \u001b[1;33m(\u001b[0m\u001b[0mtuple1\u001b[0m\u001b[1;33m.\u001b[0m\u001b[0mindex\u001b[0m\u001b[1;33m(\u001b[0m\u001b[1;34m'Saturday'\u001b[0m\u001b[1;33m,\u001b[0m \u001b[1;36m5\u001b[0m\u001b[1;33m)\u001b[0m\u001b[1;33m)\u001b[0m\u001b[1;33m\u001b[0m\u001b[1;33m\u001b[0m\u001b[0m\n\u001b[1;32m----> 7\u001b[1;33m \u001b[0mprint\u001b[0m \u001b[1;33m(\u001b[0m\u001b[0mtuple1\u001b[0m\u001b[1;33m.\u001b[0m\u001b[0mindex\u001b[0m\u001b[1;33m(\u001b[0m\u001b[1;34m'Saturday'\u001b[0m\u001b[1;33m,\u001b[0m \u001b[1;36m8\u001b[0m\u001b[1;33m)\u001b[0m\u001b[1;33m)\u001b[0m\u001b[1;33m\u001b[0m\u001b[1;33m\u001b[0m\u001b[0m\n\u001b[0m",
      "\u001b[1;31mValueError\u001b[0m: tuple.index(x): x not in tuple"
     ]
    }
   ],
   "source": [
    "tuple1 = ('Monday', 'Thursday', 'Saturday', 'Tuesday', 'Saturday', 'Friday', 'Sunday', 'Saturday')\n",
    "print (tuple1, len(tuple1), type(tuple1), id(tuple1))\n",
    "print (tuple1.index('Saturday'))\n",
    "print (tuple1.index('Saturday', 0))\n",
    "print (tuple1.index('Saturday', 3))\n",
    "print (tuple1.index('Saturday', 5))\n",
    "print (tuple1.index('Saturday', 8))"
   ]
  },
  {
   "cell_type": "code",
   "execution_count": 206,
   "id": "980ae097-f017-4a4a-b233-480cd7e21845",
   "metadata": {},
   "outputs": [
    {
     "name": "stdout",
     "output_type": "stream",
     "text": [
      "('Monday', 'Thursday', 'Saturday', 'Tuesday') 4 <class 'tuple'> 2716502947456\n",
      "['Monday', 'Thursday', 'Saturday', 'Tuesday'] 4 <class 'list'> 2716493107392\n",
      "['Monday', 'Thursday', 'Sunday', 'Tuesday'] 4 <class 'list'> 2716493107392\n",
      "('Monday', 'Thursday', 'Sunday', 'Tuesday') 4 <class 'tuple'> 2716495855184\n"
     ]
    }
   ],
   "source": [
    "tuple1 = ('Monday', 'Thursday', 'Saturday', 'Tuesday')\n",
    "print (tuple1, len(tuple1), type(tuple1), id(tuple1))\n",
    "# tuple1[2] = 'Sunday'   # ERROR !!!\n",
    "list1 = list(tuple1)\n",
    "print (list1, len(list1), type(list1), id(list1))\n",
    "list1[2] = 'Sunday'\n",
    "print (list1, len(list1), type(list1), id(list1))\n",
    "tuple1 = tuple(list1)\n",
    "print (tuple1, len(tuple1), type(tuple1), id(tuple1))"
   ]
  },
  {
   "cell_type": "markdown",
   "id": "2caccba5-3d8d-4bb0-b3a2-b30ffbf7cbb2",
   "metadata": {},
   "source": [
    "### Dealing with the Dictionary Processing\n",
    ">Dictionary is a collection of key-value pairs, where key should be always immutable type and value may be immutable or mutable types. Dictionary items are enclosed with in second brackets (curly braces). Dictionary items are mutable as INSERT, DELETE and UPDATE operations can be carried out on them."
   ]
  },
  {
   "cell_type": "code",
   "execution_count": 215,
   "id": "ebe4fa08-7f5e-4684-a9e4-ccc3c7a0f88b",
   "metadata": {},
   "outputs": [
    {
     "name": "stdout",
     "output_type": "stream",
     "text": [
      "{'mango': 'green', 'orange': 'orange', 'guava': 'green'} 3 <class 'dict'> 2716499214080\n",
      "dict_items([('mango', 'green'), ('orange', 'orange'), ('guava', 'green')])\n",
      "dict_keys(['mango', 'orange', 'guava'])\n",
      "dict_values(['green', 'orange', 'green'])\n"
     ]
    }
   ],
   "source": [
    "dict1 = {\"mango\":\"green\", \"orange\":\"orange\", \"guava\":\"green\"}\n",
    "print (dict1, len(dict1), type(dict1), id(dict1))\n",
    "print (dict1.items())   # outcome is in the list of tuples\n",
    "print (dict1.keys())   # outcome is in the list\n",
    "print (dict1.values())   # outcome is in the list"
   ]
  },
  {
   "cell_type": "code",
   "execution_count": 223,
   "id": "46beab5a-b107-4c44-a6dd-31e482ecaad1",
   "metadata": {},
   "outputs": [
    {
     "name": "stdout",
     "output_type": "stream",
     "text": [
      "{'mango': 'green', 'orange': 'orange', 'guava': 'green'} 3 <class 'dict'> 2716492594304\n",
      "orange\n",
      "green\n",
      "green\n",
      "None\n",
      "not found...\n"
     ]
    }
   ],
   "source": [
    "# accessing value against the key\n",
    "dict1 = {\"mango\":\"green\", \"orange\":\"orange\", \"guava\":\"green\"}\n",
    "print (dict1, len(dict1), type(dict1), id(dict1))\n",
    "print (dict1.get(\"orange\"))\n",
    "print (dict1.get(\"guava\"))\n",
    "print (dict1.get(\"guava\", \"not found...\"))\n",
    "print (dict1.get(\"apple\"))\n",
    "print (dict1.get(\"apple\", \"not found...\"))"
   ]
  },
  {
   "cell_type": "code",
   "execution_count": 225,
   "id": "b1dd4f9e-dc51-4acd-a937-c4422d0bc440",
   "metadata": {},
   "outputs": [
    {
     "name": "stdout",
     "output_type": "stream",
     "text": [
      "{'mango': 'green', 'orange': 'orange', 'guava': 'green'} 3 <class 'dict'> 2716495018304\n",
      "orange\n",
      "green\n"
     ]
    },
    {
     "ename": "KeyError",
     "evalue": "'apple'",
     "output_type": "error",
     "traceback": [
      "\u001b[1;31m---------------------------------------------------------------------------\u001b[0m",
      "\u001b[1;31mKeyError\u001b[0m                                  Traceback (most recent call last)",
      "\u001b[1;32m<ipython-input-225-769dffa4acac>\u001b[0m in \u001b[0;36m<module>\u001b[1;34m\u001b[0m\n\u001b[0;32m      3\u001b[0m \u001b[0mprint\u001b[0m \u001b[1;33m(\u001b[0m\u001b[0mdict1\u001b[0m\u001b[1;33m[\u001b[0m\u001b[1;34m\"orange\"\u001b[0m\u001b[1;33m]\u001b[0m\u001b[1;33m)\u001b[0m\u001b[1;33m\u001b[0m\u001b[1;33m\u001b[0m\u001b[0m\n\u001b[0;32m      4\u001b[0m \u001b[0mprint\u001b[0m \u001b[1;33m(\u001b[0m\u001b[0mdict1\u001b[0m\u001b[1;33m[\u001b[0m\u001b[1;34m\"guava\"\u001b[0m\u001b[1;33m]\u001b[0m\u001b[1;33m)\u001b[0m\u001b[1;33m\u001b[0m\u001b[1;33m\u001b[0m\u001b[0m\n\u001b[1;32m----> 5\u001b[1;33m \u001b[0mprint\u001b[0m \u001b[1;33m(\u001b[0m\u001b[0mdict1\u001b[0m\u001b[1;33m[\u001b[0m\u001b[1;34m\"apple\"\u001b[0m\u001b[1;33m]\u001b[0m\u001b[1;33m)\u001b[0m\u001b[1;33m\u001b[0m\u001b[1;33m\u001b[0m\u001b[0m\n\u001b[0m",
      "\u001b[1;31mKeyError\u001b[0m: 'apple'"
     ]
    }
   ],
   "source": [
    "dict1 = {\"mango\":\"green\", \"orange\":\"orange\", \"guava\":\"green\"}\n",
    "print (dict1, len(dict1), type(dict1), id(dict1))\n",
    "print (dict1[\"orange\"])\n",
    "print (dict1[\"guava\"])\n",
    "print (dict1[\"apple\"])"
   ]
  },
  {
   "cell_type": "code",
   "execution_count": 228,
   "id": "8e81b4fb-f271-4c82-a601-3a118511ba6e",
   "metadata": {},
   "outputs": [
    {
     "name": "stdout",
     "output_type": "stream",
     "text": [
      "{'mango': 'green', 'orange': 'orange', 'guava': 'green'} 3 <class 'dict'> 2716499183936\n",
      "{'mango': 'green', 'orange': 'orange', 'guava': 'green', 'pineapple': 'yellow'} 4 <class 'dict'> 2716499183936\n",
      "{'mango': 'green', 'orange': 'orange', 'guava': 'green', 'pineapple': 'yellow', 'apple': 'red'} 5 <class 'dict'> 2716499183936\n",
      "{'mango': 'red', 'orange': 'orange', 'guava': 'green', 'pineapple': 'yellow', 'apple': 'red'} 5 <class 'dict'> 2716499183936\n"
     ]
    }
   ],
   "source": [
    "# insert and update operations\n",
    "dict1 = {\"mango\":\"green\", \"orange\":\"orange\", \"guava\":\"green\"}\n",
    "print (dict1, len(dict1), type(dict1), id(dict1))\n",
    "dict1[\"pineapple\"] = \"yellow\"   # insert\n",
    "print (dict1, len(dict1), type(dict1), id(dict1))\n",
    "dict1[\"apple\"] = \"red\"   # insert\n",
    "print (dict1, len(dict1), type(dict1), id(dict1))\n",
    "dict1[\"mango\"] = \"red\"   # update\n",
    "print (dict1, len(dict1), type(dict1), id(dict1))"
   ]
  },
  {
   "cell_type": "code",
   "execution_count": 230,
   "id": "23dbd36e-7599-4f30-9195-d2100e042645",
   "metadata": {},
   "outputs": [
    {
     "name": "stdout",
     "output_type": "stream",
     "text": [
      "{'mango': 'red', 'orange': 'orange', 'guava': 'green', 'pineapple': 'yellow', 'apple': 'red'} 5 <class 'dict'> 2716495983232\n",
      "{} 0 <class 'dict'> 2716495983232\n"
     ]
    }
   ],
   "source": [
    "# delete operation\n",
    "dict1 = {'mango': 'red', 'orange': 'orange', 'guava': 'green', 'pineapple': 'yellow', 'apple': 'red'}\n",
    "print (dict1, len(dict1), type(dict1), id(dict1))\n",
    "dict1.clear()\n",
    "print (dict1, len(dict1), type(dict1), id(dict1))"
   ]
  },
  {
   "cell_type": "code",
   "execution_count": 231,
   "id": "d7c73f33-d497-4d76-8c27-5e5a7c4aed79",
   "metadata": {},
   "outputs": [
    {
     "name": "stdout",
     "output_type": "stream",
     "text": [
      "{'mango': 'red', 'orange': 'orange', 'guava': 'green', 'pineapple': 'yellow', 'apple': 'red'} 5 <class 'dict'> 2716496082304\n"
     ]
    },
    {
     "ename": "NameError",
     "evalue": "name 'dict1' is not defined",
     "output_type": "error",
     "traceback": [
      "\u001b[1;31m---------------------------------------------------------------------------\u001b[0m",
      "\u001b[1;31mNameError\u001b[0m                                 Traceback (most recent call last)",
      "\u001b[1;32m<ipython-input-231-66f69df5a7c6>\u001b[0m in \u001b[0;36m<module>\u001b[1;34m\u001b[0m\n\u001b[0;32m      2\u001b[0m \u001b[0mprint\u001b[0m \u001b[1;33m(\u001b[0m\u001b[0mdict1\u001b[0m\u001b[1;33m,\u001b[0m \u001b[0mlen\u001b[0m\u001b[1;33m(\u001b[0m\u001b[0mdict1\u001b[0m\u001b[1;33m)\u001b[0m\u001b[1;33m,\u001b[0m \u001b[0mtype\u001b[0m\u001b[1;33m(\u001b[0m\u001b[0mdict1\u001b[0m\u001b[1;33m)\u001b[0m\u001b[1;33m,\u001b[0m \u001b[0mid\u001b[0m\u001b[1;33m(\u001b[0m\u001b[0mdict1\u001b[0m\u001b[1;33m)\u001b[0m\u001b[1;33m)\u001b[0m\u001b[1;33m\u001b[0m\u001b[1;33m\u001b[0m\u001b[0m\n\u001b[0;32m      3\u001b[0m \u001b[1;32mdel\u001b[0m \u001b[0mdict1\u001b[0m\u001b[1;33m\u001b[0m\u001b[1;33m\u001b[0m\u001b[0m\n\u001b[1;32m----> 4\u001b[1;33m \u001b[0mprint\u001b[0m \u001b[1;33m(\u001b[0m\u001b[0mdict1\u001b[0m\u001b[1;33m,\u001b[0m \u001b[0mlen\u001b[0m\u001b[1;33m(\u001b[0m\u001b[0mdict1\u001b[0m\u001b[1;33m)\u001b[0m\u001b[1;33m,\u001b[0m \u001b[0mtype\u001b[0m\u001b[1;33m(\u001b[0m\u001b[0mdict1\u001b[0m\u001b[1;33m)\u001b[0m\u001b[1;33m,\u001b[0m \u001b[0mid\u001b[0m\u001b[1;33m(\u001b[0m\u001b[0mdict1\u001b[0m\u001b[1;33m)\u001b[0m\u001b[1;33m)\u001b[0m\u001b[1;33m\u001b[0m\u001b[1;33m\u001b[0m\u001b[0m\n\u001b[0m",
      "\u001b[1;31mNameError\u001b[0m: name 'dict1' is not defined"
     ]
    }
   ],
   "source": [
    "dict1 = {'mango': 'red', 'orange': 'orange', 'guava': 'green', 'pineapple': 'yellow', 'apple': 'red'}\n",
    "print (dict1, len(dict1), type(dict1), id(dict1))\n",
    "del dict1\n",
    "print (dict1, len(dict1), type(dict1), id(dict1))"
   ]
  },
  {
   "cell_type": "code",
   "execution_count": 233,
   "id": "581d7fa4-ffc8-4dd4-8ca4-bca0f67586f1",
   "metadata": {},
   "outputs": [
    {
     "name": "stdout",
     "output_type": "stream",
     "text": [
      "{'mango': 'red', 'orange': 'orange', 'guava': 'green', 'pineapple': 'yellow', 'apple': 'red'} 5 <class 'dict'> 2716495622592\n",
      "orange\n",
      "{'mango': 'red', 'guava': 'green', 'pineapple': 'yellow', 'apple': 'red'} 4 <class 'dict'> 2716495622592\n",
      "red\n",
      "{'mango': 'red', 'guava': 'green', 'pineapple': 'yellow'} 3 <class 'dict'> 2716495622592\n",
      "yellow\n",
      "{'mango': 'red', 'guava': 'green'} 2 <class 'dict'> 2716495622592\n"
     ]
    },
    {
     "ename": "KeyError",
     "evalue": "'coconut'",
     "output_type": "error",
     "traceback": [
      "\u001b[1;31m---------------------------------------------------------------------------\u001b[0m",
      "\u001b[1;31mKeyError\u001b[0m                                  Traceback (most recent call last)",
      "\u001b[1;32m<ipython-input-233-13c3aae8ef31>\u001b[0m in \u001b[0;36m<module>\u001b[1;34m\u001b[0m\n\u001b[0;32m      7\u001b[0m \u001b[0mprint\u001b[0m \u001b[1;33m(\u001b[0m\u001b[0mdict1\u001b[0m\u001b[1;33m.\u001b[0m\u001b[0mpop\u001b[0m\u001b[1;33m(\u001b[0m\u001b[1;34m\"pineapple\"\u001b[0m\u001b[1;33m)\u001b[0m\u001b[1;33m)\u001b[0m\u001b[1;33m\u001b[0m\u001b[1;33m\u001b[0m\u001b[0m\n\u001b[0;32m      8\u001b[0m \u001b[0mprint\u001b[0m \u001b[1;33m(\u001b[0m\u001b[0mdict1\u001b[0m\u001b[1;33m,\u001b[0m \u001b[0mlen\u001b[0m\u001b[1;33m(\u001b[0m\u001b[0mdict1\u001b[0m\u001b[1;33m)\u001b[0m\u001b[1;33m,\u001b[0m \u001b[0mtype\u001b[0m\u001b[1;33m(\u001b[0m\u001b[0mdict1\u001b[0m\u001b[1;33m)\u001b[0m\u001b[1;33m,\u001b[0m \u001b[0mid\u001b[0m\u001b[1;33m(\u001b[0m\u001b[0mdict1\u001b[0m\u001b[1;33m)\u001b[0m\u001b[1;33m)\u001b[0m\u001b[1;33m\u001b[0m\u001b[1;33m\u001b[0m\u001b[0m\n\u001b[1;32m----> 9\u001b[1;33m \u001b[0mprint\u001b[0m \u001b[1;33m(\u001b[0m\u001b[0mdict1\u001b[0m\u001b[1;33m.\u001b[0m\u001b[0mpop\u001b[0m\u001b[1;33m(\u001b[0m\u001b[1;34m\"coconut\"\u001b[0m\u001b[1;33m)\u001b[0m\u001b[1;33m)\u001b[0m\u001b[1;33m\u001b[0m\u001b[1;33m\u001b[0m\u001b[0m\n\u001b[0m\u001b[0;32m     10\u001b[0m \u001b[0mprint\u001b[0m \u001b[1;33m(\u001b[0m\u001b[0mdict1\u001b[0m\u001b[1;33m,\u001b[0m \u001b[0mlen\u001b[0m\u001b[1;33m(\u001b[0m\u001b[0mdict1\u001b[0m\u001b[1;33m)\u001b[0m\u001b[1;33m,\u001b[0m \u001b[0mtype\u001b[0m\u001b[1;33m(\u001b[0m\u001b[0mdict1\u001b[0m\u001b[1;33m)\u001b[0m\u001b[1;33m,\u001b[0m \u001b[0mid\u001b[0m\u001b[1;33m(\u001b[0m\u001b[0mdict1\u001b[0m\u001b[1;33m)\u001b[0m\u001b[1;33m)\u001b[0m\u001b[1;33m\u001b[0m\u001b[1;33m\u001b[0m\u001b[0m\n",
      "\u001b[1;31mKeyError\u001b[0m: 'coconut'"
     ]
    }
   ],
   "source": [
    "dict1 = {'mango': 'red', 'orange': 'orange', 'guava': 'green', 'pineapple': 'yellow', 'apple': 'red'}\n",
    "print (dict1, len(dict1), type(dict1), id(dict1))\n",
    "print (dict1.pop(\"orange\"))\n",
    "print (dict1, len(dict1), type(dict1), id(dict1))\n",
    "print (dict1.pop(\"apple\"))\n",
    "print (dict1, len(dict1), type(dict1), id(dict1))\n",
    "print (dict1.pop(\"pineapple\"))\n",
    "print (dict1, len(dict1), type(dict1), id(dict1))\n",
    "print (dict1.pop(\"coconut\"))\n",
    "print (dict1, len(dict1), type(dict1), id(dict1))"
   ]
  },
  {
   "cell_type": "code",
   "execution_count": 236,
   "id": "b9740109-7371-440c-ae15-d6783114b8d9",
   "metadata": {},
   "outputs": [
    {
     "name": "stdout",
     "output_type": "stream",
     "text": [
      "{'mango': 'red', 'orange': 'orange', 'guava': 'green', 'pineapple': 'yellow', 'apple': 'red'} 5 <class 'dict'> 2716495726528\n",
      "('apple', 'red')\n",
      "{'mango': 'red', 'orange': 'orange', 'guava': 'green', 'pineapple': 'yellow'} 4 <class 'dict'> 2716495726528\n",
      "('pineapple', 'yellow')\n",
      "{'mango': 'red', 'orange': 'orange', 'guava': 'green'} 3 <class 'dict'> 2716495726528\n",
      "('guava', 'green')\n",
      "{'mango': 'red', 'orange': 'orange'} 2 <class 'dict'> 2716495726528\n",
      "('orange', 'orange')\n",
      "{'mango': 'red'} 1 <class 'dict'> 2716495726528\n"
     ]
    }
   ],
   "source": [
    "dict1 = {'mango': 'red', 'orange': 'orange', 'guava': 'green', 'pineapple': 'yellow', 'apple': 'red'}\n",
    "print (dict1, len(dict1), type(dict1), id(dict1))\n",
    "print (dict1.popitem())\n",
    "print (dict1, len(dict1), type(dict1), id(dict1))\n",
    "print (dict1.popitem())\n",
    "print (dict1, len(dict1), type(dict1), id(dict1))\n",
    "print (dict1.popitem())\n",
    "print (dict1, len(dict1), type(dict1), id(dict1))\n",
    "print (dict1.popitem())\n",
    "print (dict1, len(dict1), type(dict1), id(dict1))"
   ]
  },
  {
   "cell_type": "code",
   "execution_count": 240,
   "id": "d18e8b6b-7c0d-4270-8793-b77e25fe5d34",
   "metadata": {},
   "outputs": [
    {
     "name": "stdout",
     "output_type": "stream",
     "text": [
      "{'mango': 'red', 'orange': 'orange', 'guava': 'green'} 3 <class 'dict'> 2716498711360\n",
      "{'pineapple': 'yellow', 'apple': 'red', 'mango': 'green'} 3 <class 'dict'> 2716498713408\n",
      "{'mango': 'green', 'orange': 'orange', 'guava': 'green', 'pineapple': 'yellow', 'apple': 'red'} 5 <class 'dict'> 2716498711360\n",
      "{'pineapple': 'yellow', 'apple': 'red', 'mango': 'green'} 3 <class 'dict'> 2716498713408\n"
     ]
    }
   ],
   "source": [
    "dict1 = {'mango': 'red', 'orange': 'orange', 'guava': 'green'}\n",
    "print (dict1, len(dict1), type(dict1), id(dict1))\n",
    "dict2 = {'pineapple': 'yellow', 'apple': 'red', 'mango': 'green'}\n",
    "print (dict2, len(dict2), type(dict2), id(dict2))\n",
    "dict1.update(dict2)   # dictionary concatenation\n",
    "print (dict1, len(dict1), type(dict1), id(dict1))\n",
    "print (dict2, len(dict2), type(dict2), id(dict2))"
   ]
  },
  {
   "cell_type": "code",
   "execution_count": 248,
   "id": "68bfe3ad-12e5-480a-af43-3dd49d38566f",
   "metadata": {},
   "outputs": [
    {
     "name": "stdout",
     "output_type": "stream",
     "text": [
      "['mango', 'orange', 'guava', 'pineapple', 'apple', 'banana'] 6\n",
      "['green', 'orange', 'green', 'yellow', 'red'] 5\n",
      "<zip object at 0x000002787C390E40> <class 'zip'>\n",
      "\n",
      "[('mango', 'green'), ('orange', 'orange'), ('guava', 'green'), ('pineapple', 'yellow'), ('apple', 'red')] <class 'list'>\n",
      "{'mango': 'green', 'orange': 'orange', 'guava': 'green', 'pineapple': 'yellow', 'apple': 'red'} <class 'dict'>\n",
      "\n",
      "(('mango', 'green'), ('orange', 'orange'), ('guava', 'green'), ('pineapple', 'yellow'), ('apple', 'red')) <class 'tuple'>\n",
      "{'mango': 'green', 'orange': 'orange', 'guava': 'green', 'pineapple': 'yellow', 'apple': 'red'} <class 'dict'>\n"
     ]
    }
   ],
   "source": [
    "fruits = ['mango', 'orange', 'guava', 'pineapple', 'apple', \"banana\"]\n",
    "colors = ['green', 'orange', 'green', 'yellow', 'red']\n",
    "print (fruits, len(fruits))\n",
    "print (colors, len(colors))\n",
    "result = zip(fruits, colors)\n",
    "print (result, type(result))\n",
    "print ()\n",
    "result = list(zip(fruits, colors))\n",
    "print (result, type(result))\n",
    "result = dict(list(zip(fruits, colors)))\n",
    "print (result, type(result))\n",
    "print ()\n",
    "result = tuple(zip(fruits, colors))\n",
    "print (result, type(result))\n",
    "result = dict(list(zip(fruits, colors)))\n",
    "print (result, type(result))"
   ]
  },
  {
   "cell_type": "code",
   "execution_count": 250,
   "id": "b27f0816-55f2-465b-b8b8-78c1e9292c37",
   "metadata": {},
   "outputs": [
    {
     "name": "stdout",
     "output_type": "stream",
     "text": [
      "{'key-1': 100, 'key-2': 100, 'key-3': 100, 'key-4': 100} 4\n"
     ]
    }
   ],
   "source": [
    "mykeys = ['key-1', 'key-2', 'key-3', 'key-4']\n",
    "myvalue = 100\n",
    "dict1 = dict.fromkeys(mykeys, myvalue)\n",
    "print (dict1, len(dict1))"
   ]
  },
  {
   "cell_type": "code",
   "execution_count": 254,
   "id": "e5261ce6-65b7-42b4-802b-97224aa6e31f",
   "metadata": {},
   "outputs": [
    {
     "name": "stdout",
     "output_type": "stream",
     "text": [
      "{'mango': 'red', 'orange': 'orange', 'guava': 'green', 'pineapple': 'yellow'} 4 <class 'dict'> 2716495245568\n",
      "{'mango': 'red', 'orange': 'orange', 'guava': 'green', 'pineapple': 'yellow'} 4 <class 'dict'> 2716495245568\n",
      "{'mango': 'red', 'orange': 'orange', 'guava': 'green', 'pineapple': 'yellow'} 4 <class 'dict'> 2716495245568\n",
      "{'mango': 'red', 'orange': 'orange', 'guava': 'green', 'pineapple': 'yellow', 'apple': 'red'} 5 <class 'dict'> 2716495245568\n"
     ]
    }
   ],
   "source": [
    "dict1 = {'mango': 'red', 'orange': 'orange', 'guava': 'green', 'pineapple': 'yellow'}\n",
    "print (dict1, len(dict1), type(dict1), id(dict1))\n",
    "dict1.setdefault('mango', 'green')\n",
    "print (dict1, len(dict1), type(dict1), id(dict1))\n",
    "dict1.setdefault('pineapple', 'light yellow')\n",
    "print (dict1, len(dict1), type(dict1), id(dict1))\n",
    "dict1.setdefault('apple', 'red')\n",
    "print (dict1, len(dict1), type(dict1), id(dict1))"
   ]
  },
  {
   "cell_type": "markdown",
   "id": "11ea06cd-af57-4256-b9d1-54c94a41f28d",
   "metadata": {},
   "source": [
    "**CLASS ASSIGNMENT-3 / Day-2**\n",
    "\n",
    ">Take a sentence with upper and lower case letters and other characters from the user and find frequency of each alphabet in the sentence. Consider upper and lower letters are the same letters."
   ]
  },
  {
   "cell_type": "code",
   "execution_count": 255,
   "id": "13ba7190-b96a-4fbf-94cb-ca647c15dcbb",
   "metadata": {},
   "outputs": [
    {
     "name": "stdin",
     "output_type": "stream",
     "text": [
      "Please enter a sentence:  ram is a good boy.\n"
     ]
    },
    {
     "name": "stdout",
     "output_type": "stream",
     "text": [
      "So required frequency of characters is: {'r': 1, 'a': 2, 'm': 1, 'i': 1, 's': 1, 'g': 1, 'o': 3, 'd': 1, 'b': 1, 'y': 1}\n",
      "End of the program...\n"
     ]
    }
   ],
   "source": [
    "sentence = input(\"Please enter a sentence: \").lower()\n",
    "charfreq = {}\n",
    "for ch in sentence:\n",
    "    if (ch.isalpha()):\n",
    "        if (ch in charfreq):\n",
    "            charfreq[ch] += 1\n",
    "        else:\n",
    "            charfreq[ch] = 1\n",
    "print (\"So required frequency of characters is:\", charfreq)\n",
    "print (\"End of the program...\")"
   ]
  },
  {
   "cell_type": "markdown",
   "id": "85869175-e28c-4a89-9e05-39cd4edc496d",
   "metadata": {},
   "source": [
    "### Dealing with the Set Processing\n",
    "> Set is a collection of unique unordered values of same or different datatypes enclosed within second brackets (curly braces). Set items are mutable as INSERT, DELETE and UPDATE operations can be carried out on them."
   ]
  },
  {
   "cell_type": "code",
   "execution_count": 260,
   "id": "a9018c80-cc5c-4d51-ab25-63cb9ff3304a",
   "metadata": {},
   "outputs": [
    {
     "name": "stdout",
     "output_type": "stream",
     "text": [
      "{'c++', 'kotlin', 'java', 'perl'} 4 <class 'set'> 2716498246560\n",
      "\n",
      "{'c++', 'java', 'kotlin', 'perl'} 4 <class 'set'> 2716506114304\n",
      "\n",
      "{'c++', 'java', 'kotlin', 'perl'} 4 <class 'set'> 2716498246112\n"
     ]
    }
   ],
   "source": [
    "# forming a set from a list\n",
    "languages = set(['c++', 'kotlin', 'java', 'perl'])\n",
    "print (languages, len(languages), type(languages), id(languages))\n",
    "print()\n",
    "# forming a set from a tuple\n",
    "languages = set(('c++', 'java', 'perl', 'kotlin'))\n",
    "print (languages, len(languages), type(languages), id(languages))\n",
    "print()\n",
    "# forming a set directly\n",
    "languages = {'c++', 'java', 'perl', 'kotlin'}\n",
    "print (languages, len(languages), type(languages), id(languages))"
   ]
  },
  {
   "cell_type": "markdown",
   "id": "f738bc7f-6361-47e2-ac4f-f5af469d4ca5",
   "metadata": {},
   "source": [
    "#### Set Operations: Union, Intersection, Exclusive Or (Symmetric Difference), Subtraction (Set Difference)"
   ]
  },
  {
   "attachments": {
    "SetOperations.png": {
     "image/png": "[encoded data removed]"
    }
   },
   "cell_type": "markdown",
   "id": "5e8d7559",
   "metadata": {},
   "source": [
    "![SetOperations.png](attachment:SetOperations.png)"
   ]
  },
  {
   "cell_type": "code",
   "execution_count": 266,
   "id": "a6fe6de8-f5d3-4a34-9f50-e671889459e8",
   "metadata": {},
   "outputs": [
    {
     "name": "stdout",
     "output_type": "stream",
     "text": [
      "{'c++', 'java', 'python'} 3 <class 'set'> 2716505059392\n",
      "{'viper', 'cobra', 'python'} 3 <class 'set'> 2716499078272\n",
      "{'viper', 'c++', 'java', 'cobra', 'python'} 5 <class 'set'> 2716505062080\n",
      "{'viper', 'c++', 'java', 'cobra', 'python'} 5 <class 'set'> 2716505063200\n"
     ]
    }
   ],
   "source": [
    "# set union operation\n",
    "languages = {'c++', 'python', 'java'}\n",
    "print (languages, len(languages), type(languages), id(languages))\n",
    "snakes = {'cobra', 'viper', 'python'}\n",
    "print (snakes, len(snakes), type(snakes), id(snakes))\n",
    "result = languages.union(snakes)\n",
    "print (result, len(result), type(result), id(result))\n",
    "result = languages | snakes\n",
    "print (result, len(result), type(result), id(result))"
   ]
  },
  {
   "cell_type": "code",
   "execution_count": 271,
   "id": "3c2b56c2-721a-450d-a4ff-099dfc90dd7a",
   "metadata": {},
   "outputs": [
    {
     "name": "stdout",
     "output_type": "stream",
     "text": [
      "{'c++', 'java', 'python'} 3 <class 'set'> 2716501142432\n",
      "{'viper', 'cobra', 'python'} 3 <class 'set'> 2716505019552\n",
      "{'python'} 1 <class 'set'> 2716505018880\n",
      "{'python'} 1 <class 'set'> 2716505021568\n",
      "{'python'} 1 <class 'set'> 2716501142432\n",
      "{'viper', 'cobra', 'python'} 3 <class 'set'> 2716505019552\n"
     ]
    }
   ],
   "source": [
    "# set intersection operation\n",
    "languages = {'c++', 'python', 'java'}\n",
    "print (languages, len(languages), type(languages), id(languages))\n",
    "snakes = {'cobra', 'viper', 'python'}\n",
    "print (snakes, len(snakes), type(snakes), id(snakes))\n",
    "result = languages.intersection(snakes)\n",
    "print (result, len(result), type(result), id(result))\n",
    "result = languages & snakes\n",
    "print (result, len(result), type(result), id(result))\n",
    "languages.intersection_update(snakes)\n",
    "print (languages, len(languages), type(languages), id(languages))\n",
    "print (snakes, len(snakes), type(snakes), id(snakes))"
   ]
  },
  {
   "cell_type": "code",
   "execution_count": 274,
   "id": "568f3272-6815-42e6-99a1-cfcd7d696c29",
   "metadata": {},
   "outputs": [
    {
     "name": "stdout",
     "output_type": "stream",
     "text": [
      "{'c++', 'java', 'python'} 3 <class 'set'> 2716499430528\n",
      "{'viper', 'cobra', 'python'} 3 <class 'set'> 2716499428064\n",
      "{'c++', 'java'} 2 <class 'set'> 2716499427616\n",
      "{'c++', 'java'} 2 <class 'set'> 2716499429632\n",
      "{'c++', 'java'} 2 <class 'set'> 2716499430528\n",
      "{'viper', 'cobra', 'python'} 3 <class 'set'> 2716499428064\n"
     ]
    }
   ],
   "source": [
    "# set difference operation\n",
    "languages = {'c++', 'python', 'java'}\n",
    "print (languages, len(languages), type(languages), id(languages))\n",
    "snakes = {'cobra', 'viper', 'python'}\n",
    "print (snakes, len(snakes), type(snakes), id(snakes))\n",
    "result = languages.difference(snakes)\n",
    "print (result, len(result), type(result), id(result))\n",
    "result = languages - snakes\n",
    "print (result, len(result), type(result), id(result))\n",
    "languages.difference_update(snakes)\n",
    "print (languages, len(languages), type(languages), id(languages))\n",
    "print (snakes, len(snakes), type(snakes), id(snakes))"
   ]
  },
  {
   "cell_type": "code",
   "execution_count": 276,
   "id": "3c1dee3c-5af3-433b-914b-0e0e7f7991bc",
   "metadata": {},
   "outputs": [
    {
     "name": "stdout",
     "output_type": "stream",
     "text": [
      "{'c++', 'java', 'python'} 3 <class 'set'> 2716498507584\n",
      "{'viper', 'cobra', 'python'} 3 <class 'set'> 2716498509376\n",
      "{'c++', 'viper', 'java', 'cobra'} 4 <class 'set'> 2716498506688\n",
      "{'c++', 'viper', 'java', 'cobra'} 4 <class 'set'> 2716498508928\n",
      "{'c++', 'viper', 'java', 'cobra'} 4 <class 'set'> 2716498507584\n",
      "{'viper', 'cobra', 'python'} 3 <class 'set'> 2716498509376\n"
     ]
    }
   ],
   "source": [
    "# set symmetric difference operation\n",
    "languages = {'c++', 'python', 'java'}\n",
    "print (languages, len(languages), type(languages), id(languages))\n",
    "snakes = {'cobra', 'viper', 'python'}\n",
    "print (snakes, len(snakes), type(snakes), id(snakes))\n",
    "result = languages.symmetric_difference(snakes)\n",
    "print (result, len(result), type(result), id(result))\n",
    "result = languages ^ snakes\n",
    "print (result, len(result), type(result), id(result))\n",
    "languages.symmetric_difference_update(snakes)\n",
    "print (languages, len(languages), type(languages), id(languages))\n",
    "print (snakes, len(snakes), type(snakes), id(snakes))"
   ]
  },
  {
   "cell_type": "code",
   "execution_count": 281,
   "id": "534ff085-374c-4ea5-a1e7-0b1969160cd8",
   "metadata": {},
   "outputs": [
    {
     "name": "stdout",
     "output_type": "stream",
     "text": [
      "False True True False\n",
      "False True\n"
     ]
    }
   ],
   "source": [
    "set1 = {100, 200, 300, 400, 500}\n",
    "set2 = {100, 300, 400}\n",
    "set3 = {600, 700, 800, 900}\n",
    "print (set1.issubset(set2), set2.issubset(set1), set1.issuperset(set2), set2.issuperset(set1))\n",
    "print (set1.isdisjoint(set2), set1.isdisjoint(set3))"
   ]
  },
  {
   "cell_type": "code",
   "execution_count": 283,
   "id": "498c7d6a-23d7-4d37-83f0-6de3e70ca96e",
   "metadata": {},
   "outputs": [
    {
     "name": "stdout",
     "output_type": "stream",
     "text": [
      "{'c++', 'java', 'python'} 3 <class 'set'> 2716502586528\n",
      "{'c++', 'java', 'kotlin', 'python'} 4 <class 'set'> 2716502586528\n",
      "{'kotlin', 'c++', 'python', 'java', 'perl'} 5 <class 'set'> 2716502586528\n",
      "{'kotlin', 'c++', 'python', 'java', 'perl'} 5 <class 'set'> 2716502586528\n",
      "{'kotlin', 'c++', 'python', 'c', 'java', 'perl'} 6 <class 'set'> 2716502586528\n",
      "{'kotlin', 'c++', 'python', 'c', 'java', 'perl'} 6 <class 'set'> 2716502586528\n"
     ]
    }
   ],
   "source": [
    "languages = {'c++', 'python', 'java'}\n",
    "print (languages, len(languages), type(languages), id(languages))\n",
    "languages.add('kotlin')\n",
    "print (languages, len(languages), type(languages), id(languages))\n",
    "languages.add('perl')\n",
    "print (languages, len(languages), type(languages), id(languages))\n",
    "languages.add('python')\n",
    "print (languages, len(languages), type(languages), id(languages))\n",
    "languages.add('c')\n",
    "print (languages, len(languages), type(languages), id(languages))\n",
    "languages.add('kotlin')\n",
    "print (languages, len(languages), type(languages), id(languages))"
   ]
  },
  {
   "cell_type": "code",
   "execution_count": 287,
   "id": "65c0801a-9b88-49f3-aead-b2705018ec25",
   "metadata": {},
   "outputs": [
    {
     "name": "stdout",
     "output_type": "stream",
     "text": [
      "{'c++', 'java', 'python'} 3 <class 'set'> 2716504016480\n",
      "{'golang', 'c', 'julia', 'perl'} 4 <class 'set'> 2716504016928\n",
      "{'julia', 'c', 'golang', 'c++', 'java', 'python', 'perl'} 7 <class 'set'> 2716504016480\n",
      "{'golang', 'c', 'julia', 'perl'} 4 <class 'set'> 2716504016928\n"
     ]
    }
   ],
   "source": [
    "languages1 = {'c++', 'python', 'java'}\n",
    "print (languages1, len(languages1), type(languages1), id(languages1))\n",
    "languages2 = {'c', 'perl', 'golang', 'julia'}\n",
    "print (languages2, len(languages2), type(languages2), id(languages2))\n",
    "languages1.update(languages2)   # set concatenation\n",
    "print (languages1, len(languages1), type(languages1), id(languages1))\n",
    "print (languages2, len(languages2), type(languages2), id(languages2))"
   ]
  },
  {
   "cell_type": "code",
   "execution_count": 289,
   "id": "b9e97350-c837-49e6-936c-688587a6cdb6",
   "metadata": {},
   "outputs": [
    {
     "name": "stdout",
     "output_type": "stream",
     "text": [
      "{'golang', 'c++', 'python', 'julia', 'c', 'java', 'perl'} 7 <class 'set'> 2716501162240\n",
      "golang\n",
      "{'c++', 'python', 'julia', 'c', 'java', 'perl'} 6 <class 'set'> 2716501162240\n",
      "c++\n",
      "{'python', 'julia', 'c', 'java', 'perl'} 5 <class 'set'> 2716501162240\n",
      "python\n",
      "{'julia', 'c', 'java', 'perl'} 4 <class 'set'> 2716501162240\n",
      "julia\n",
      "{'c', 'java', 'perl'} 3 <class 'set'> 2716501162240\n"
     ]
    }
   ],
   "source": [
    "languages = {'julia', 'c', 'golang', 'c++', 'java', 'python', 'perl'}\n",
    "print (languages, len(languages), type(languages), id(languages))\n",
    "print (languages.pop())\n",
    "print (languages, len(languages), type(languages), id(languages))\n",
    "print (languages.pop())\n",
    "print (languages, len(languages), type(languages), id(languages))\n",
    "print (languages.pop())\n",
    "print (languages, len(languages), type(languages), id(languages))\n",
    "print (languages.pop())\n",
    "print (languages, len(languages), type(languages), id(languages))"
   ]
  },
  {
   "cell_type": "code",
   "execution_count": 290,
   "id": "ce267cf6-c8c3-4e44-856b-31ffd4641a43",
   "metadata": {},
   "outputs": [
    {
     "name": "stdout",
     "output_type": "stream",
     "text": [
      "{'golang', 'c++', 'python', 'julia', 'c', 'java', 'perl'} 7 <class 'set'> 2716499172704\n",
      "{'golang', 'c++', 'python', 'julia', 'java', 'perl'} 6 <class 'set'> 2716499172704\n",
      "{'golang', 'c++', 'python', 'julia', 'perl'} 5 <class 'set'> 2716499172704\n",
      "{'golang', 'c++', 'python', 'julia'} 4 <class 'set'> 2716499172704\n"
     ]
    },
    {
     "ename": "KeyError",
     "evalue": "'perl'",
     "output_type": "error",
     "traceback": [
      "\u001b[1;31m---------------------------------------------------------------------------\u001b[0m",
      "\u001b[1;31mKeyError\u001b[0m                                  Traceback (most recent call last)",
      "\u001b[1;32m<ipython-input-290-0a26b60538c2>\u001b[0m in \u001b[0;36m<module>\u001b[1;34m\u001b[0m\n\u001b[0;32m      7\u001b[0m \u001b[0mlanguages\u001b[0m\u001b[1;33m.\u001b[0m\u001b[0mremove\u001b[0m\u001b[1;33m(\u001b[0m\u001b[1;34m'perl'\u001b[0m\u001b[1;33m)\u001b[0m\u001b[1;33m\u001b[0m\u001b[1;33m\u001b[0m\u001b[0m\n\u001b[0;32m      8\u001b[0m \u001b[0mprint\u001b[0m \u001b[1;33m(\u001b[0m\u001b[0mlanguages\u001b[0m\u001b[1;33m,\u001b[0m \u001b[0mlen\u001b[0m\u001b[1;33m(\u001b[0m\u001b[0mlanguages\u001b[0m\u001b[1;33m)\u001b[0m\u001b[1;33m,\u001b[0m \u001b[0mtype\u001b[0m\u001b[1;33m(\u001b[0m\u001b[0mlanguages\u001b[0m\u001b[1;33m)\u001b[0m\u001b[1;33m,\u001b[0m \u001b[0mid\u001b[0m\u001b[1;33m(\u001b[0m\u001b[0mlanguages\u001b[0m\u001b[1;33m)\u001b[0m\u001b[1;33m)\u001b[0m\u001b[1;33m\u001b[0m\u001b[1;33m\u001b[0m\u001b[0m\n\u001b[1;32m----> 9\u001b[1;33m \u001b[0mlanguages\u001b[0m\u001b[1;33m.\u001b[0m\u001b[0mremove\u001b[0m\u001b[1;33m(\u001b[0m\u001b[1;34m'perl'\u001b[0m\u001b[1;33m)\u001b[0m\u001b[1;33m\u001b[0m\u001b[1;33m\u001b[0m\u001b[0m\n\u001b[0m\u001b[0;32m     10\u001b[0m \u001b[0mprint\u001b[0m \u001b[1;33m(\u001b[0m\u001b[0mlanguages\u001b[0m\u001b[1;33m,\u001b[0m \u001b[0mlen\u001b[0m\u001b[1;33m(\u001b[0m\u001b[0mlanguages\u001b[0m\u001b[1;33m)\u001b[0m\u001b[1;33m,\u001b[0m \u001b[0mtype\u001b[0m\u001b[1;33m(\u001b[0m\u001b[0mlanguages\u001b[0m\u001b[1;33m)\u001b[0m\u001b[1;33m,\u001b[0m \u001b[0mid\u001b[0m\u001b[1;33m(\u001b[0m\u001b[0mlanguages\u001b[0m\u001b[1;33m)\u001b[0m\u001b[1;33m)\u001b[0m\u001b[1;33m\u001b[0m\u001b[1;33m\u001b[0m\u001b[0m\n",
      "\u001b[1;31mKeyError\u001b[0m: 'perl'"
     ]
    }
   ],
   "source": [
    "languages = {'julia', 'c', 'golang', 'c++', 'java', 'python', 'perl'}\n",
    "print (languages, len(languages), type(languages), id(languages))\n",
    "languages.remove('c')\n",
    "print (languages, len(languages), type(languages), id(languages))\n",
    "languages.remove('java')\n",
    "print (languages, len(languages), type(languages), id(languages))\n",
    "languages.remove('perl')\n",
    "print (languages, len(languages), type(languages), id(languages))\n",
    "languages.remove('perl')\n",
    "print (languages, len(languages), type(languages), id(languages))"
   ]
  },
  {
   "cell_type": "code",
   "execution_count": 294,
   "id": "a3b9c447-fa67-4a31-9af2-ec083c883f40",
   "metadata": {},
   "outputs": [
    {
     "name": "stdout",
     "output_type": "stream",
     "text": [
      "{'golang', 'c++', 'python', 'julia', 'c', 'java', 'perl'} 7 <class 'set'> 2716495737120\n",
      "{'golang', 'c++', 'python', 'julia', 'java', 'perl'} 6 <class 'set'> 2716495737120\n",
      "{'golang', 'c++', 'python', 'julia', 'perl'} 5 <class 'set'> 2716495737120\n",
      "{'golang', 'c++', 'python', 'julia'} 4 <class 'set'> 2716495737120\n",
      "{'golang', 'c++', 'python', 'julia'} 4 <class 'set'> 2716495737120\n"
     ]
    }
   ],
   "source": [
    "languages = {'julia', 'c', 'golang', 'c++', 'java', 'python', 'perl'}\n",
    "print (languages, len(languages), type(languages), id(languages))\n",
    "languages.discard('c')\n",
    "print (languages, len(languages), type(languages), id(languages))\n",
    "languages.discard('java')\n",
    "print (languages, len(languages), type(languages), id(languages))\n",
    "languages.discard('perl')\n",
    "print (languages, len(languages), type(languages), id(languages))\n",
    "languages.discard('perl')\n",
    "print (languages, len(languages), type(languages), id(languages))"
   ]
  },
  {
   "cell_type": "code",
   "execution_count": 291,
   "id": "5409b9f1-6d0e-4a0b-83ad-8ff8a574dfde",
   "metadata": {},
   "outputs": [
    {
     "name": "stdout",
     "output_type": "stream",
     "text": [
      "{'golang', 'c++', 'python', 'julia', 'c', 'java', 'perl'} 7 <class 'set'> 2716498533280\n",
      "set() 0 <class 'set'> 2716498533280\n"
     ]
    }
   ],
   "source": [
    "languages = {'julia', 'c', 'golang', 'c++', 'java', 'python', 'perl'}\n",
    "print (languages, len(languages), type(languages), id(languages))\n",
    "languages.clear()\n",
    "print (languages, len(languages), type(languages), id(languages))"
   ]
  },
  {
   "cell_type": "code",
   "execution_count": 292,
   "id": "ad23a688-0c1e-43ef-8b72-58a2f76b485f",
   "metadata": {},
   "outputs": [
    {
     "name": "stdout",
     "output_type": "stream",
     "text": [
      "{'golang', 'c++', 'python', 'julia', 'c', 'java', 'perl'} 7 <class 'set'> 2716498534176\n"
     ]
    },
    {
     "ename": "NameError",
     "evalue": "name 'languages' is not defined",
     "output_type": "error",
     "traceback": [
      "\u001b[1;31m---------------------------------------------------------------------------\u001b[0m",
      "\u001b[1;31mNameError\u001b[0m                                 Traceback (most recent call last)",
      "\u001b[1;32m<ipython-input-292-5cdbbbcf16dc>\u001b[0m in \u001b[0;36m<module>\u001b[1;34m\u001b[0m\n\u001b[0;32m      2\u001b[0m \u001b[0mprint\u001b[0m \u001b[1;33m(\u001b[0m\u001b[0mlanguages\u001b[0m\u001b[1;33m,\u001b[0m \u001b[0mlen\u001b[0m\u001b[1;33m(\u001b[0m\u001b[0mlanguages\u001b[0m\u001b[1;33m)\u001b[0m\u001b[1;33m,\u001b[0m \u001b[0mtype\u001b[0m\u001b[1;33m(\u001b[0m\u001b[0mlanguages\u001b[0m\u001b[1;33m)\u001b[0m\u001b[1;33m,\u001b[0m \u001b[0mid\u001b[0m\u001b[1;33m(\u001b[0m\u001b[0mlanguages\u001b[0m\u001b[1;33m)\u001b[0m\u001b[1;33m)\u001b[0m\u001b[1;33m\u001b[0m\u001b[1;33m\u001b[0m\u001b[0m\n\u001b[0;32m      3\u001b[0m \u001b[1;32mdel\u001b[0m \u001b[0mlanguages\u001b[0m\u001b[1;33m\u001b[0m\u001b[1;33m\u001b[0m\u001b[0m\n\u001b[1;32m----> 4\u001b[1;33m \u001b[0mprint\u001b[0m \u001b[1;33m(\u001b[0m\u001b[0mlanguages\u001b[0m\u001b[1;33m,\u001b[0m \u001b[0mlen\u001b[0m\u001b[1;33m(\u001b[0m\u001b[0mlanguages\u001b[0m\u001b[1;33m)\u001b[0m\u001b[1;33m,\u001b[0m \u001b[0mtype\u001b[0m\u001b[1;33m(\u001b[0m\u001b[0mlanguages\u001b[0m\u001b[1;33m)\u001b[0m\u001b[1;33m,\u001b[0m \u001b[0mid\u001b[0m\u001b[1;33m(\u001b[0m\u001b[0mlanguages\u001b[0m\u001b[1;33m)\u001b[0m\u001b[1;33m)\u001b[0m\u001b[1;33m\u001b[0m\u001b[1;33m\u001b[0m\u001b[0m\n\u001b[0m",
      "\u001b[1;31mNameError\u001b[0m: name 'languages' is not defined"
     ]
    }
   ],
   "source": [
    "languages = {'julia', 'c', 'golang', 'c++', 'java', 'python', 'perl'}\n",
    "print (languages, len(languages), type(languages), id(languages))\n",
    "del languages\n",
    "print (languages, len(languages), type(languages), id(languages))"
   ]
  },
  {
   "cell_type": "code",
   "execution_count": 293,
   "id": "f90a7b91-af97-45c4-81b2-ed3ce3091677",
   "metadata": {},
   "outputs": [
    {
     "name": "stdout",
     "output_type": "stream",
     "text": [
      "{'golang', 'c++', 'python', 'julia', 'c', 'java', 'perl'} 7 <class 'set'> 2716505022240\n",
      "{'golang', 'c++', 'julia', 'c', 'java', 'python 3.10', 'perl'} 7 <class 'set'> 2716505022240\n"
     ]
    }
   ],
   "source": [
    "languages = {'julia', 'c', 'golang', 'c++', 'java', 'python', 'perl'}\n",
    "print (languages, len(languages), type(languages), id(languages))\n",
    "languages.remove(\"python\")\n",
    "languages.add(\"python 3.10\")\n",
    "print (languages, len(languages), type(languages), id(languages))"
   ]
  },
  {
   "cell_type": "markdown",
   "id": "c0e687ac-b5c3-4676-8ade-0168e316e0eb",
   "metadata": {},
   "source": [
    "### Dealing with the Frozen-Set Processing\n",
    "> Frozen-Set is a collection of unique unordered values of same or different datatypes enclosed within second brackets (curly braces). Frozen-Set items are immutable as INSERT, DELETE and UPDATE operations can not be carried out on them."
   ]
  },
  {
   "cell_type": "code",
   "execution_count": 261,
   "id": "bc5eab2c-a8a8-4f39-8bea-c14bdcc01c39",
   "metadata": {},
   "outputs": [
    {
     "name": "stdout",
     "output_type": "stream",
     "text": [
      "frozenset({'c++', 'kotlin', 'java', 'perl'}) 4 <class 'frozenset'> 2716506114304\n",
      "\n",
      "frozenset({'c++', 'java', 'kotlin', 'perl'}) 4 <class 'frozenset'> 2716498246560\n"
     ]
    }
   ],
   "source": [
    "# forming a frozen-set from a list\n",
    "languages = frozenset(['c++', 'kotlin', 'java', 'perl'])\n",
    "print (languages, len(languages), type(languages), id(languages))\n",
    "print()\n",
    "# forming a set from a tuple\n",
    "languages = frozenset(('c++', 'java', 'perl', 'kotlin'))\n",
    "print (languages, len(languages), type(languages), id(languages))"
   ]
  },
  {
   "cell_type": "code",
   "execution_count": 267,
   "id": "14b65c1b-fcbc-4a57-a384-b27602322a12",
   "metadata": {},
   "outputs": [
    {
     "name": "stdout",
     "output_type": "stream",
     "text": [
      "frozenset({'c++', 'java', 'python'}) 3 <class 'frozenset'> 2716501062592\n",
      "frozenset({'viper', 'cobra', 'python'}) 3 <class 'frozenset'> 2716501063488\n",
      "frozenset({'viper', 'c++', 'java', 'cobra', 'python'}) 5 <class 'frozenset'> 2716501062144\n",
      "frozenset({'viper', 'c++', 'java', 'cobra', 'python'}) 5 <class 'frozenset'> 2716501063040\n"
     ]
    }
   ],
   "source": [
    "# frozen-set union operation\n",
    "languages = frozenset(['c++', 'python', 'java'])\n",
    "print (languages, len(languages), type(languages), id(languages))\n",
    "snakes = frozenset(['cobra', 'viper', 'python'])\n",
    "print (snakes, len(snakes), type(snakes), id(snakes))\n",
    "result = languages.union(snakes)\n",
    "print (result, len(result), type(result), id(result))\n",
    "result = languages | snakes\n",
    "print (result, len(result), type(result), id(result))"
   ]
  },
  {
   "cell_type": "code",
   "execution_count": 273,
   "id": "423dee96-6665-4be6-aaf0-e83ebbd2e94b",
   "metadata": {},
   "outputs": [
    {
     "name": "stdout",
     "output_type": "stream",
     "text": [
      "frozenset({'c++', 'java', 'python'}) 3 <class 'frozenset'> 2716492792992\n",
      "frozenset({'viper', 'cobra', 'python'}) 3 <class 'frozenset'> 2716496150592\n",
      "frozenset({'python'}) 1 <class 'frozenset'> 2716496188128\n",
      "frozenset({'python'}) 1 <class 'frozenset'> 2716496191040\n"
     ]
    }
   ],
   "source": [
    "# frozen-set intersection operation\n",
    "languages = frozenset(['c++', 'python', 'java'])\n",
    "print (languages, len(languages), type(languages), id(languages))\n",
    "snakes = frozenset(['cobra', 'viper', 'python'])\n",
    "print (snakes, len(snakes), type(snakes), id(snakes))\n",
    "result = languages.intersection(snakes)\n",
    "print (result, len(result), type(result), id(result))\n",
    "result = languages & snakes\n",
    "print (result, len(result), type(result), id(result))"
   ]
  },
  {
   "cell_type": "code",
   "execution_count": 275,
   "id": "de1d3e3f-4f92-4888-8672-307e49ee8f80",
   "metadata": {},
   "outputs": [
    {
     "name": "stdout",
     "output_type": "stream",
     "text": [
      "frozenset({'c++', 'java', 'python'}) 3 <class 'frozenset'> 2716495825376\n",
      "frozenset({'viper', 'cobra', 'python'}) 3 <class 'frozenset'> 2716495826720\n",
      "frozenset({'c++', 'java'}) 2 <class 'frozenset'> 2716495826272\n",
      "frozenset({'c++', 'java'}) 2 <class 'frozenset'> 2716495737568\n"
     ]
    }
   ],
   "source": [
    "# frozen-set difference operation\n",
    "languages = frozenset(['c++', 'python', 'java'])\n",
    "print (languages, len(languages), type(languages), id(languages))\n",
    "snakes = frozenset(['cobra', 'viper', 'python'])\n",
    "print (snakes, len(snakes), type(snakes), id(snakes))\n",
    "result = languages.difference(snakes)\n",
    "print (result, len(result), type(result), id(result))\n",
    "result = languages - snakes\n",
    "print (result, len(result), type(result), id(result))"
   ]
  },
  {
   "cell_type": "code",
   "execution_count": 277,
   "id": "38dcbb13-c6bf-41fd-8b3a-f67778cf4cd6",
   "metadata": {},
   "outputs": [
    {
     "name": "stdout",
     "output_type": "stream",
     "text": [
      "frozenset({'c++', 'java', 'python'}) 3 <class 'frozenset'> 2716495826272\n",
      "frozenset({'viper', 'cobra', 'python'}) 3 <class 'frozenset'> 2716506180512\n",
      "frozenset({'c++', 'viper', 'java', 'cobra'}) 4 <class 'frozenset'> 2716503445792\n",
      "frozenset({'c++', 'viper', 'java', 'cobra'}) 4 <class 'frozenset'> 2716503445568\n"
     ]
    }
   ],
   "source": [
    "# frozen-set symmetric difference operation\n",
    "languages = frozenset(['c++', 'python', 'java'])\n",
    "print (languages, len(languages), type(languages), id(languages))\n",
    "snakes = frozenset(['cobra', 'viper', 'python'])\n",
    "print (snakes, len(snakes), type(snakes), id(snakes))\n",
    "result = languages.symmetric_difference(snakes)\n",
    "print (result, len(result), type(result), id(result))\n",
    "result = languages ^ snakes\n",
    "print (result, len(result), type(result), id(result))"
   ]
  },
  {
   "cell_type": "code",
   "execution_count": 282,
   "id": "0eee9f43-cce6-4d4b-ac21-d7388529e70c",
   "metadata": {},
   "outputs": [
    {
     "name": "stdout",
     "output_type": "stream",
     "text": [
      "False True True False\n",
      "False True\n"
     ]
    }
   ],
   "source": [
    "frozenset1 = frozenset((100, 200, 300, 400, 500))\n",
    "frozenset2 = frozenset([100, 300, 400])\n",
    "frozenset3 = frozenset([600, 700, 800, 900])\n",
    "print (frozenset1.issubset(frozenset2), frozenset2.issubset(frozenset1), frozenset1.issuperset(frozenset2), frozenset2.issuperset(frozenset1))\n",
    "print (frozenset1.isdisjoint(frozenset2), frozenset1.isdisjoint(frozenset3))"
   ]
  },
  {
   "cell_type": "code",
   "execution_count": null,
   "id": "cc39d1de-b334-4abc-b892-af8e2884c6d0",
   "metadata": {},
   "outputs": [],
   "source": []
  }
 ],
 "metadata": {
  "kernelspec": {
   "display_name": "Python 3",
   "language": "python",
   "name": "python3"
  },
  "language_info": {
   "codemirror_mode": {
    "name": "ipython",
    "version": 3
   },
   "file_extension": ".py",
   "mimetype": "text/x-python",
   "name": "python",
   "nbconvert_exporter": "python",
   "pygments_lexer": "ipython3",
   "version": "3.8.8"
  }
 },
 "nbformat": 4,
 "nbformat_minor": 5
}

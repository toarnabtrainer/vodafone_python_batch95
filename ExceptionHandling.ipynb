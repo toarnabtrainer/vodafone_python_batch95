{
 "cells": [
  {
   "cell_type": "markdown",
   "id": "3c8a4e9f-e858-46ed-9e89-b81ce513f728",
   "metadata": {},
   "source": [
    "### Python Exception Handling"
   ]
  },
  {
   "cell_type": "code",
   "execution_count": 4,
   "id": "dcbd926d-d54f-43f7-9740-7f1cec4daba3",
   "metadata": {},
   "outputs": [
    {
     "name": "stdin",
     "output_type": "stream",
     "text": [
      "Please enter the first number:  100\n",
      "Please enter the second number:  20\n"
     ]
    },
    {
     "name": "stdout",
     "output_type": "stream",
     "text": [
      "So 100 / 20 = 5.0\n",
      "End of the program...\n"
     ]
    }
   ],
   "source": [
    "num1 = int(input(\"Please enter the first number: \"))\n",
    "num2 = int(input(\"Please enter the second number: \"))\n",
    "quotient = num1 / num2\n",
    "print (f\"So {num1} / {num2} = {quotient}\")\n",
    "print (\"End of the program...\")"
   ]
  },
  {
   "cell_type": "code",
   "execution_count": 5,
   "id": "5d7f2200-422e-454e-adc3-4ca53537ba3c",
   "metadata": {},
   "outputs": [
    {
     "name": "stdin",
     "output_type": "stream",
     "text": [
      "Please enter the first number:  100\n",
      "Please enter the second number:  0\n"
     ]
    },
    {
     "ename": "ZeroDivisionError",
     "evalue": "division by zero",
     "output_type": "error",
     "traceback": [
      "\u001b[1;31m---------------------------------------------------------------------------\u001b[0m",
      "\u001b[1;31mZeroDivisionError\u001b[0m                         Traceback (most recent call last)",
      "\u001b[1;32m<ipython-input-5-15b5835e8b9c>\u001b[0m in \u001b[0;36m<module>\u001b[1;34m\u001b[0m\n\u001b[0;32m      1\u001b[0m \u001b[0mnum1\u001b[0m \u001b[1;33m=\u001b[0m \u001b[0mint\u001b[0m\u001b[1;33m(\u001b[0m\u001b[0minput\u001b[0m\u001b[1;33m(\u001b[0m\u001b[1;34m\"Please enter the first number: \"\u001b[0m\u001b[1;33m)\u001b[0m\u001b[1;33m)\u001b[0m\u001b[1;33m\u001b[0m\u001b[1;33m\u001b[0m\u001b[0m\n\u001b[0;32m      2\u001b[0m \u001b[0mnum2\u001b[0m \u001b[1;33m=\u001b[0m \u001b[0mint\u001b[0m\u001b[1;33m(\u001b[0m\u001b[0minput\u001b[0m\u001b[1;33m(\u001b[0m\u001b[1;34m\"Please enter the second number: \"\u001b[0m\u001b[1;33m)\u001b[0m\u001b[1;33m)\u001b[0m\u001b[1;33m\u001b[0m\u001b[1;33m\u001b[0m\u001b[0m\n\u001b[1;32m----> 3\u001b[1;33m \u001b[0mquotient\u001b[0m \u001b[1;33m=\u001b[0m \u001b[0mnum1\u001b[0m \u001b[1;33m/\u001b[0m \u001b[0mnum2\u001b[0m\u001b[1;33m\u001b[0m\u001b[1;33m\u001b[0m\u001b[0m\n\u001b[0m\u001b[0;32m      4\u001b[0m \u001b[0mprint\u001b[0m \u001b[1;33m(\u001b[0m\u001b[1;34mf\"So {num1} / {num2} = {quotient}\"\u001b[0m\u001b[1;33m)\u001b[0m\u001b[1;33m\u001b[0m\u001b[1;33m\u001b[0m\u001b[0m\n\u001b[0;32m      5\u001b[0m \u001b[0mprint\u001b[0m \u001b[1;33m(\u001b[0m\u001b[1;34m\"End of the program...\"\u001b[0m\u001b[1;33m)\u001b[0m\u001b[1;33m\u001b[0m\u001b[1;33m\u001b[0m\u001b[0m\n",
      "\u001b[1;31mZeroDivisionError\u001b[0m: division by zero"
     ]
    }
   ],
   "source": [
    "num1 = int(input(\"Please enter the first number: \"))\n",
    "num2 = int(input(\"Please enter the second number: \"))\n",
    "quotient = num1 / num2\n",
    "print (f\"So {num1} / {num2} = {quotient}\")\n",
    "print (\"End of the program...\")"
   ]
  },
  {
   "cell_type": "code",
   "execution_count": 7,
   "id": "bae494b6-73b8-4e34-b7de-ccc1eaca3ef3",
   "metadata": {},
   "outputs": [
    {
     "name": "stdin",
     "output_type": "stream",
     "text": [
      "Please enter the first number:  100\n",
      "Please enter the second number:  0\n"
     ]
    },
    {
     "name": "stdout",
     "output_type": "stream",
     "text": [
      "ZeroDivisionError: Division by ZERO is Illegal...!!!\n",
      "ZeroDivisionError: So the error type is <class 'ZeroDivisionError'>\n",
      "ZeroDivisionError: So the error message is division by zero\n",
      "End of the program...\n"
     ]
    }
   ],
   "source": [
    "try:\n",
    "    num1 = int(input(\"Please enter the first number: \"))\n",
    "    num2 = int(input(\"Please enter the second number: \"))\n",
    "    quotient = num1 / num2\n",
    "    print (f\"So {num1} / {num2} = {quotient}\")\n",
    "except ZeroDivisionError as zde:\n",
    "    print (\"ZeroDivisionError: Division by ZERO is Illegal...!!!\")\n",
    "    print (\"ZeroDivisionError: So the error type is\", type(zde))\n",
    "    print (\"ZeroDivisionError: So the error message is\", zde)\n",
    "print (\"End of the program...\")"
   ]
  },
  {
   "cell_type": "code",
   "execution_count": 10,
   "id": "01d45675-e946-4cab-9265-f451546862b5",
   "metadata": {},
   "outputs": [
    {
     "name": "stdin",
     "output_type": "stream",
     "text": [
      "Please enter the first number:  100\n",
      "Please enter the second number:  two\n"
     ]
    },
    {
     "name": "stdout",
     "output_type": "stream",
     "text": [
      "ValueError: Invalid input has been provided...!!!\n",
      "ValueError: So the error type is <class 'ValueError'>\n",
      "ValueError: So the error message is invalid literal for int() with base 10: 'two'\n",
      "End of the program...\n"
     ]
    }
   ],
   "source": [
    "try:\n",
    "    num1 = int(input(\"Please enter the first number: \"))\n",
    "    num2 = int(input(\"Please enter the second number: \"))\n",
    "    quotient = num1 / num2\n",
    "    print (f\"So {num1} / {num2} = {quotient}\")\n",
    "except ZeroDivisionError as zde:\n",
    "    print (\"ZeroDivisionError: Division by ZERO is Illegal...!!!\")\n",
    "    print (\"ZeroDivisionError: So the error type is\", type(zde))\n",
    "    print (\"ZeroDivisionError: So the error message is\", zde)\n",
    "except ValueError as ve:\n",
    "    print (\"ValueError: Invalid input has been provided...!!!\")\n",
    "    print (\"ValueError: So the error type is\", type(ve))\n",
    "    print (\"ValueError: So the error message is\", ve)\n",
    "print (\"End of the program...\")"
   ]
  },
  {
   "cell_type": "code",
   "execution_count": 13,
   "id": "226c6cc7-2323-49b6-9efc-d929cc9c73a7",
   "metadata": {},
   "outputs": [
    {
     "name": "stdin",
     "output_type": "stream",
     "text": [
      "Please enter the first number:  100\n",
      "Please enter the second number:  4.2\n"
     ]
    },
    {
     "name": "stdout",
     "output_type": "stream",
     "text": [
      "ValueError: Invalid input has been provided...!!!\n",
      "ValueError: So the error type is <class 'ValueError'>\n",
      "ValueError: So the error message is invalid literal for int() with base 10: '4.2'\n",
      "End of the program...\n"
     ]
    }
   ],
   "source": [
    "try:\n",
    "    num1 = int(input(\"Please enter the first number: \"))\n",
    "    num2 = int(input(\"Please enter the second number: \"))\n",
    "    quotient = num1 / num2\n",
    "    print (f\"So {num1} / {num2} = {quotient}\")\n",
    "except ValueError as ve:\n",
    "    print (\"ValueError: Invalid input has been provided...!!!\")\n",
    "    print (\"ValueError: So the error type is\", type(ve))\n",
    "    print (\"ValueError: So the error message is\", ve)\n",
    "except ZeroDivisionError as zde:\n",
    "    print (\"ZeroDivisionError: Division by ZERO is Illegal...!!!\")\n",
    "    print (\"ZeroDivisionError: So the error type is\", type(zde))\n",
    "    print (\"ZeroDivisionError: So the error message is\", zde)\n",
    "print (\"End of the program...\")"
   ]
  },
  {
   "cell_type": "code",
   "execution_count": 14,
   "id": "7e4dc368-a237-42d0-8e32-b6ba831b61ef",
   "metadata": {},
   "outputs": [
    {
     "name": "stdin",
     "output_type": "stream",
     "text": [
      "Please enter the first number:  100\n",
      "Please enter the second number:  0\n"
     ]
    },
    {
     "name": "stdout",
     "output_type": "stream",
     "text": [
      "Exception: Some other exception has occurred...!!!\n",
      "Exception: So the error type is <class 'ZeroDivisionError'>\n",
      "Exception: So the error message is division by zero\n",
      "End of the program...\n"
     ]
    }
   ],
   "source": [
    "try:\n",
    "    num1 = int(input(\"Please enter the first number: \"))\n",
    "    num2 = int(input(\"Please enter the second number: \"))\n",
    "    quotient = num1 / num2\n",
    "    print (f\"So {num1} / {num2} = {quotient}\")\n",
    "except ValueError as ve:\n",
    "    print (\"ValueError: Invalid input has been provided...!!!\")\n",
    "    print (\"ValueError: So the error type is\", type(ve))\n",
    "    print (\"ValueError: So the error message is\", ve)\n",
    "# except ZeroDivisionError as zde:\n",
    "#     print (\"ZeroDivisionError: Division by ZERO is Illegal...!!!\")\n",
    "#     print (\"ZeroDivisionError: So the error type is\", type(zde))\n",
    "#     print (\"ZeroDivisionError: So the error message is\", zde)\n",
    "except Exception as ex:\n",
    "    print (\"Exception: Some other exception has occurred...!!!\")\n",
    "    print (\"Exception: So the error type is\", type(ex))\n",
    "    print (\"Exception: So the error message is\", ex)\n",
    "print (\"End of the program...\")"
   ]
  },
  {
   "cell_type": "code",
   "execution_count": 15,
   "id": "c63f1ae2-4889-492a-ae61-9424db062827",
   "metadata": {},
   "outputs": [
    {
     "name": "stdin",
     "output_type": "stream",
     "text": [
      "Please enter the first number:  100\n",
      "Please enter the second number:  10.2\n"
     ]
    },
    {
     "name": "stdout",
     "output_type": "stream",
     "text": [
      "Exception: Some other exception has occurred...!!!\n",
      "Exception: So the error type is <class 'ValueError'>\n",
      "Exception: So the error message is invalid literal for int() with base 10: '10.2'\n",
      "End of the program...\n"
     ]
    }
   ],
   "source": [
    "try:\n",
    "    num1 = int(input(\"Please enter the first number: \"))\n",
    "    num2 = int(input(\"Please enter the second number: \"))\n",
    "    quotient = num1 / num2\n",
    "    print (f\"So {num1} / {num2} = {quotient}\")\n",
    "# except ValueError as ve:\n",
    "#     print (\"ValueError: Invalid input has been provided...!!!\")\n",
    "#     print (\"ValueError: So the error type is\", type(ve))\n",
    "#     print (\"ValueError: So the error message is\", ve)\n",
    "except ZeroDivisionError as zde:\n",
    "    print (\"ZeroDivisionError: Division by ZERO is Illegal...!!!\")\n",
    "    print (\"ZeroDivisionError: So the error type is\", type(zde))\n",
    "    print (\"ZeroDivisionError: So the error message is\", zde)\n",
    "except Exception as ex:\n",
    "    print (\"Exception: Some other exception has occurred...!!!\")\n",
    "    print (\"Exception: So the error type is\", type(ex))\n",
    "    print (\"Exception: So the error message is\", ex)\n",
    "print (\"End of the program...\")"
   ]
  },
  {
   "cell_type": "code",
   "execution_count": 18,
   "id": "7b9f811d-f808-46d3-a892-9912bcfc82ef",
   "metadata": {},
   "outputs": [
    {
     "name": "stdin",
     "output_type": "stream",
     "text": [
      "Please enter the first number:  100.4\n"
     ]
    },
    {
     "name": "stdout",
     "output_type": "stream",
     "text": [
      "Exception: Some other exception has occurred...!!!\n",
      "Exception: So the error type is <class 'ValueError'>\n",
      "Exception: So the error message is invalid literal for int() with base 10: '100.4'\n",
      "End of the program...\n"
     ]
    }
   ],
   "source": [
    "try:\n",
    "    num1 = int(input(\"Please enter the first number: \"))\n",
    "    num2 = int(input(\"Please enter the second number: \"))\n",
    "    quotient = num1 / num2\n",
    "    print (f\"So {num1} / {num2} = {quotient}\")\n",
    "except Exception as ex:\n",
    "    print (\"Exception: Some other exception has occurred...!!!\")\n",
    "    print (\"Exception: So the error type is\", type(ex))\n",
    "    print (\"Exception: So the error message is\", ex)\n",
    "except ValueError as ve:\n",
    "    print (\"ValueError: Invalid input has been provided...!!!\")\n",
    "    print (\"ValueError: So the error type is\", type(ve))\n",
    "    print (\"ValueError: So the error message is\", ve)\n",
    "except ZeroDivisionError as zde:\n",
    "    print (\"ZeroDivisionError: Division by ZERO is Illegal...!!!\")\n",
    "    print (\"ZeroDivisionError: So the error type is\", type(zde))\n",
    "    print (\"ZeroDivisionError: So the error message is\", zde)\n",
    "print (\"End of the program...\")"
   ]
  },
  {
   "cell_type": "code",
   "execution_count": 22,
   "id": "66bf8aa2-e1ad-49ab-adfa-0899f58f32d0",
   "metadata": {},
   "outputs": [
    {
     "name": "stdin",
     "output_type": "stream",
     "text": [
      "Please enter the first number:  100\n",
      "Please enter the second number:  20\n"
     ]
    },
    {
     "name": "stdout",
     "output_type": "stream",
     "text": [
      "So 100 / 20 = 5.0\n",
      "Else: This is the Else block executing...\n",
      "Else: Had a smooth execution...\n",
      "End of the program...\n"
     ]
    }
   ],
   "source": [
    "try:\n",
    "    num1 = int(input(\"Please enter the first number: \"))\n",
    "    num2 = int(input(\"Please enter the second number: \"))\n",
    "    quotient = num1 / num2\n",
    "    print (f\"So {num1} / {num2} = {quotient}\")\n",
    "except ValueError as ve:\n",
    "    print (\"ValueError: Invalid input has been provided...!!!\")\n",
    "    print (\"ValueError: So the error type is\", type(ve))\n",
    "    print (\"ValueError: So the error message is\", ve)\n",
    "except ZeroDivisionError as zde:\n",
    "    print (\"ZeroDivisionError: Division by ZERO is Illegal...!!!\")\n",
    "    print (\"ZeroDivisionError: So the error type is\", type(zde))\n",
    "    print (\"ZeroDivisionError: So the error message is\", zde)\n",
    "except Exception as ex:\n",
    "    print (\"Exception: Some other exception has occurred...!!!\")\n",
    "    print (\"Exception: So the error type is\", type(ex))\n",
    "    print (\"Exception: So the error message is\", ex)\n",
    "else:\n",
    "    print (\"Else: This is the Else block executing...\")\n",
    "    print (\"Else: Had a smooth execution...\")\n",
    "print (\"End of the program...\")"
   ]
  },
  {
   "cell_type": "code",
   "execution_count": 24,
   "id": "761cb401-4500-45f5-9fda-e90ad900fce2",
   "metadata": {},
   "outputs": [
    {
     "name": "stdin",
     "output_type": "stream",
     "text": [
      "Please enter the first number:  100\n",
      "Please enter the second number:  0\n"
     ]
    },
    {
     "name": "stdout",
     "output_type": "stream",
     "text": [
      "ZeroDivisionError: Division by ZERO is Illegal...!!!\n",
      "ZeroDivisionError: So the error type is <class 'ZeroDivisionError'>\n",
      "ZeroDivisionError: So the error message is division by zero\n",
      "Finally: This is Finally block executing...\n",
      "Finally: This block executes always...\n",
      "End of the program...\n"
     ]
    }
   ],
   "source": [
    "try:\n",
    "    num1 = int(input(\"Please enter the first number: \"))\n",
    "    num2 = int(input(\"Please enter the second number: \"))\n",
    "    quotient = num1 / num2\n",
    "    print (f\"So {num1} / {num2} = {quotient}\")\n",
    "except ValueError as ve:\n",
    "    print (\"ValueError: Invalid input has been provided...!!!\")\n",
    "    print (\"ValueError: So the error type is\", type(ve))\n",
    "    print (\"ValueError: So the error message is\", ve)\n",
    "except ZeroDivisionError as zde:\n",
    "    print (\"ZeroDivisionError: Division by ZERO is Illegal...!!!\")\n",
    "    print (\"ZeroDivisionError: So the error type is\", type(zde))\n",
    "    print (\"ZeroDivisionError: So the error message is\", zde)\n",
    "except Exception as ex:\n",
    "    print (\"Exception: Some other exception has occurred...!!!\")\n",
    "    print (\"Exception: So the error type is\", type(ex))\n",
    "    print (\"Exception: So the error message is\", ex)\n",
    "else:\n",
    "    print (\"Else: This is the Else block executing...\")\n",
    "    print (\"Else: Had a smooth execution...\")\n",
    "finally:\n",
    "    print (\"Finally: This is Finally block executing...\")\n",
    "    print (\"Finally: This block executes always...\")\n",
    "print (\"End of the program...\")"
   ]
  },
  {
   "cell_type": "code",
   "execution_count": 29,
   "id": "407cfb95-37da-469e-9736-94b106ab2efc",
   "metadata": {},
   "outputs": [
    {
     "name": "stdin",
     "output_type": "stream",
     "text": [
      "Please enter the first number within range (-100 to +100):  101\n",
      "Please enter the second number within range (-100 to +100):  20\n"
     ]
    },
    {
     "name": "stdout",
     "output_type": "stream",
     "text": [
      "NameError: Input value is out of range...\n",
      "NameError: Input value is GREATER THAN 100...\n",
      "Finally: This is Finally block executing...\n",
      "Finally: This block executes always...\n",
      "End of the program...\n"
     ]
    }
   ],
   "source": [
    "try:\n",
    "    num1 = int(input(\"Please enter the first number within range (-100 to +100): \"))\n",
    "    num2 = int(input(\"Please enter the second number within range (-100 to +100): \"))\n",
    "    if (num1 < -100 or num2 < -100):\n",
    "        raise NameError(\"Below-100\")\n",
    "    if (num1 > 100 or num2 > 100):\n",
    "        raise NameError(\"Above100\")\n",
    "    quotient = num1 / num2\n",
    "    print (f\"So {num1} / {num2} = {quotient}\")\n",
    "except ValueError as ve:\n",
    "    print (\"ValueError: Invalid input has been provided...!!!\")\n",
    "    print (\"ValueError: So the error type is\", type(ve))\n",
    "    print (\"ValueError: So the error message is\", ve)\n",
    "except NameError as ne:\n",
    "    print (\"NameError: Input value is out of range...\")\n",
    "    if (str(ne) == \"Below-100\"):\n",
    "        print (\"NameError: Input value is LESS THAN -100...\")\n",
    "    elif (str(ne) == \"Above100\"):\n",
    "        print (\"NameError: Input value is GREATER THAN 100...\")\n",
    "except ZeroDivisionError as zde:\n",
    "    print (\"ZeroDivisionError: Division by ZERO is Illegal...!!!\")\n",
    "    print (\"ZeroDivisionError: So the error type is\", type(zde))\n",
    "    print (\"ZeroDivisionError: So the error message is\", zde)\n",
    "except Exception as ex:\n",
    "    print (\"Exception: Some other exception has occurred...!!!\")\n",
    "    print (\"Exception: So the error type is\", type(ex))\n",
    "    print (\"Exception: So the error message is\", ex)\n",
    "else:\n",
    "    print (\"Else: This is the Else block executing...\")\n",
    "    print (\"Else: Had a smooth execution...\")\n",
    "finally:\n",
    "    print (\"Finally: This is Finally block executing...\")\n",
    "    print (\"Finally: This block executes always...\")\n",
    "print (\"End of the program...\")"
   ]
  },
  {
   "cell_type": "markdown",
   "id": "49051a31-4533-4d00-a665-54c6a3eaee33",
   "metadata": {},
   "source": [
    "**CLASS ASSIGNMENT-1 / Day-2**\n",
    "> Rewrite the above code in such a way that until the division operation takes place successfully, the user will be asked to enter the pair of input values repeatedly."
   ]
  },
  {
   "cell_type": "code",
   "execution_count": 30,
   "id": "d3df306b-a442-4e43-843b-890b98adad45",
   "metadata": {},
   "outputs": [
    {
     "name": "stdin",
     "output_type": "stream",
     "text": [
      "Please enter the first number within range (-100 to +100):  100\n",
      "Please enter the second number within range (-100 to +100):  -900\n"
     ]
    },
    {
     "name": "stdout",
     "output_type": "stream",
     "text": [
      "NameError: Input value is out of range...\n",
      "NameError: Input value is LESS THAN -100...\n",
      "Finally: This is Finally block executing...\n",
      "Finally: This block executes always...\n"
     ]
    },
    {
     "name": "stdin",
     "output_type": "stream",
     "text": [
      "Please enter the first number within range (-100 to +100):  900\n",
      "Please enter the second number within range (-100 to +100):  20\n"
     ]
    },
    {
     "name": "stdout",
     "output_type": "stream",
     "text": [
      "NameError: Input value is out of range...\n",
      "NameError: Input value is GREATER THAN 100...\n",
      "Finally: This is Finally block executing...\n",
      "Finally: This block executes always...\n"
     ]
    },
    {
     "name": "stdin",
     "output_type": "stream",
     "text": [
      "Please enter the first number within range (-100 to +100):  100\n",
      "Please enter the second number within range (-100 to +100):  0\n"
     ]
    },
    {
     "name": "stdout",
     "output_type": "stream",
     "text": [
      "ZeroDivisionError: Division by ZERO is Illegal...!!!\n",
      "ZeroDivisionError: So the error type is <class 'ZeroDivisionError'>\n",
      "ZeroDivisionError: So the error message is division by zero\n",
      "Finally: This is Finally block executing...\n",
      "Finally: This block executes always...\n"
     ]
    },
    {
     "name": "stdin",
     "output_type": "stream",
     "text": [
      "Please enter the first number within range (-100 to +100):  100\n",
      "Please enter the second number within range (-100 to +100):  two\n"
     ]
    },
    {
     "name": "stdout",
     "output_type": "stream",
     "text": [
      "ValueError: Invalid input has been provided...!!!\n",
      "ValueError: So the error type is <class 'ValueError'>\n",
      "ValueError: So the error message is invalid literal for int() with base 10: 'two'\n",
      "Finally: This is Finally block executing...\n",
      "Finally: This block executes always...\n"
     ]
    },
    {
     "name": "stdin",
     "output_type": "stream",
     "text": [
      "Please enter the first number within range (-100 to +100):  100.5\n"
     ]
    },
    {
     "name": "stdout",
     "output_type": "stream",
     "text": [
      "ValueError: Invalid input has been provided...!!!\n",
      "ValueError: So the error type is <class 'ValueError'>\n",
      "ValueError: So the error message is invalid literal for int() with base 10: '100.5'\n",
      "Finally: This is Finally block executing...\n",
      "Finally: This block executes always...\n"
     ]
    },
    {
     "name": "stdin",
     "output_type": "stream",
     "text": [
      "Please enter the first number within range (-100 to +100):  100\n",
      "Please enter the second number within range (-100 to +100):  20\n"
     ]
    },
    {
     "name": "stdout",
     "output_type": "stream",
     "text": [
      "So 100 / 20 = 5.0\n",
      "Else: This is the Else block executing...\n",
      "Else: Had a smooth execution...\n",
      "Finally: This is Finally block executing...\n",
      "Finally: This block executes always...\n",
      "End of the program...\n"
     ]
    }
   ],
   "source": [
    "while(True):\n",
    "    try:\n",
    "        num1 = int(input(\"Please enter the first number within range (-100 to +100): \"))\n",
    "        num2 = int(input(\"Please enter the second number within range (-100 to +100): \"))\n",
    "        if (num1 < -100 or num2 < -100):\n",
    "            raise NameError(\"Below-100\")\n",
    "        if (num1 > 100 or num2 > 100):\n",
    "            raise NameError(\"Above100\")\n",
    "        quotient = num1 / num2\n",
    "        print (f\"So {num1} / {num2} = {quotient}\")\n",
    "    except ValueError as ve:\n",
    "        print (\"ValueError: Invalid input has been provided...!!!\")\n",
    "        print (\"ValueError: So the error type is\", type(ve))\n",
    "        print (\"ValueError: So the error message is\", ve)\n",
    "    except NameError as ne:\n",
    "        print (\"NameError: Input value is out of range...\")\n",
    "        if (str(ne) == \"Below-100\"):\n",
    "            print (\"NameError: Input value is LESS THAN -100...\")\n",
    "        elif (str(ne) == \"Above100\"):\n",
    "            print (\"NameError: Input value is GREATER THAN 100...\")\n",
    "    except ZeroDivisionError as zde:\n",
    "        print (\"ZeroDivisionError: Division by ZERO is Illegal...!!!\")\n",
    "        print (\"ZeroDivisionError: So the error type is\", type(zde))\n",
    "        print (\"ZeroDivisionError: So the error message is\", zde)\n",
    "    except Exception as ex:\n",
    "        print (\"Exception: Some other exception has occurred...!!!\")\n",
    "        print (\"Exception: So the error type is\", type(ex))\n",
    "        print (\"Exception: So the error message is\", ex)\n",
    "    else:\n",
    "        print (\"Else: This is the Else block executing...\")\n",
    "        print (\"Else: Had a smooth execution...\")\n",
    "        break\n",
    "    finally:\n",
    "        print (\"Finally: This is Finally block executing...\")\n",
    "        print (\"Finally: This block executes always...\")\n",
    "print (\"End of the program...\")"
   ]
  },
  {
   "cell_type": "code",
   "execution_count": null,
   "id": "20df87e4-02ae-49bc-b652-c13badc7cbe7",
   "metadata": {},
   "outputs": [],
   "source": []
  }
 ],
 "metadata": {
  "kernelspec": {
   "display_name": "Python 3",
   "language": "python",
   "name": "python3"
  },
  "language_info": {
   "codemirror_mode": {
    "name": "ipython",
    "version": 3
   },
   "file_extension": ".py",
   "mimetype": "text/x-python",
   "name": "python",
   "nbconvert_exporter": "python",
   "pygments_lexer": "ipython3",
   "version": "3.8.8"
  }
 },
 "nbformat": 4,
 "nbformat_minor": 5
}
